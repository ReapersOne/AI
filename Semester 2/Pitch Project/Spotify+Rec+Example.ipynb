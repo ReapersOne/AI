{
 "cells": [
  {
   "cell_type": "markdown",
   "id": "02f11418",
   "metadata": {},
   "source": [
    "# Plan:\n",
    "- 1. Create a dataset that describes the \"major\" characteristics of each playlist:\n",
    "    - Average popularity score\n",
    "    - Mode of year of album release \n",
    "    - Mode of artist\n",
    "    \n",
    "- 2. Cluster using DBSCAN.\n",
    "- 3. Recommend the song that appears the most in the cluster and isn't already found in Vetting playlist."
   ]
  },
  {
   "cell_type": "code",
   "execution_count": 1,
   "id": "37fe700a",
   "metadata": {},
   "outputs": [],
   "source": [
    "import pandas as pd\n",
    "import json\n",
    "import requests\n",
    "from datetime import datetime\n",
    "import math\n",
    "import os\n",
    "import time\n",
    "from sklearn.cluster import DBSCAN\n",
    "from sklearn.metrics import silhouette_score\n",
    "import numpy as np\n",
    "import seaborn as sns"
   ]
  },
  {
   "cell_type": "markdown",
   "id": "9a15c96d",
   "metadata": {},
   "source": [
    "### Setup Spotify API Authorization token "
   ]
  },
  {
   "cell_type": "code",
   "execution_count": 2,
   "id": "bb84ad7a",
   "metadata": {},
   "outputs": [],
   "source": [
    "def get_token(client_id, client_secret):\n",
    "    '''\n",
    "    Returns the unique token needed to use the Spotify API.\n",
    "    You do not need to change anything about the body of this function.\n",
    "    \n",
    "    Parameters:\n",
    "        - client_id: A unique string that is provided to you when you setup a Spotify API account\n",
    "        - client_secret: A unique string that is provided to you when you setup a Spotify API account\n",
    "    '''\n",
    "    token_url = 'https://accounts.spotify.com/api/token'\n",
    "    \n",
    "    headers = {\n",
    "        'Content-Type': 'application/x-www-form-urlencoded'\n",
    "    }\n",
    "    \n",
    "    data = {\n",
    "        'grant_type': 'client_credentials',\n",
    "        'client_id': client_id,\n",
    "        'client_secret': client_secret\n",
    "    }\n",
    "    \n",
    "    response = requests.post(token_url, headers=headers, data=data)\n",
    "    return response.json()"
   ]
  },
  {
   "cell_type": "code",
   "execution_count": 3,
   "id": "4c8932cc",
   "metadata": {
    "scrolled": true
   },
   "outputs": [],
   "source": [
    "client_id = 'YOUR ID HERE' # ADD YOUR CLIENT ID HERE\n",
    "client_secret = 'YOUR SECRET HERE' # ADD YOUR CLIENT SECRET HERE\n",
    "\n",
    "token_response = get_token(client_id, client_secret)\n",
    "# access_token = token_response['access_token']\n",
    "# headers = {Authorization': 'Bearer ' + access_token}"
   ]
  },
  {
   "cell_type": "markdown",
   "id": "2c46da87",
   "metadata": {},
   "source": [
    "### Get data for Ms. Spindt's playlist"
   ]
  },
  {
   "cell_type": "code",
   "execution_count": 4,
   "id": "65e15936",
   "metadata": {},
   "outputs": [],
   "source": [
    "# Read in Ms. Spindt's playlist\n",
    "with open('vetting_playlist.json', 'r') as file:\n",
    "    vetting = json.load(file)['tracks']['items']"
   ]
  },
  {
   "cell_type": "code",
   "execution_count": 5,
   "id": "91230717",
   "metadata": {},
   "outputs": [],
   "source": [
    "def get_avg_pop_vetting(playlist):\n",
    "    '''\n",
    "    Returns the average popularity score of all tracks found in a playlist.\n",
    "    \n",
    "    Parameters:\n",
    "        - playlist: a list of json objects.\n",
    "    '''\n",
    "    total = 0\n",
    "    count = 0\n",
    "    for track in playlist:\n",
    "        pop_score = track['track']['popularity']\n",
    "        if pop_score:\n",
    "            total += pop_score\n",
    "            count += 1\n",
    "    return total/count"
   ]
  },
  {
   "cell_type": "code",
   "execution_count": 6,
   "id": "6374c414",
   "metadata": {},
   "outputs": [],
   "source": [
    "def get_mode_year_vetting(playlist):\n",
    "    '''\n",
    "    Returns the most frequent year for album release in the playlist.\n",
    "    \n",
    "    Parameters:\n",
    "        - playlist: a list of json objects.\n",
    "    '''\n",
    "    counts = {}\n",
    "    for track in playlist:\n",
    "        date = track['track']['album']['release_date']\n",
    "        if date:\n",
    "            year = date.split('-')[0] # The date is a string that follows the pattern: year - month - day\n",
    "            if year not in counts.keys():\n",
    "                counts[year] = 1\n",
    "            else:\n",
    "                counts[year] += 1  \n",
    "    return int(max(counts.items(), key=lambda x: x[1])[0]) # Determines which year appears the most and returns it"
   ]
  },
  {
   "cell_type": "code",
   "execution_count": 7,
   "id": "32bcb98c",
   "metadata": {},
   "outputs": [],
   "source": [
    "def get_mode_artist_vetting(playlist):\n",
    "    '''\n",
    "    Returns the most common artist found in the playlist.\n",
    "    \n",
    "    Parameters:\n",
    "        - playlist: a list of json objects.\n",
    "    '''\n",
    "    counts = {}\n",
    "    for track in playlist:\n",
    "        artist = track['track']['artists'][0]['name'] # Ignoring secondary artists\n",
    "        if artist not in counts.keys():\n",
    "            counts[artist] = 1\n",
    "        else:\n",
    "            counts[artist] += 1\n",
    "    return max(counts.items(), key=lambda x: x[1])[0] # Determines which artist appears the most and returns it"
   ]
  },
  {
   "cell_type": "code",
   "execution_count": 8,
   "id": "db41e978",
   "metadata": {},
   "outputs": [],
   "source": [
    "# Gets average popularity score, most frequent year for album release, and most frequent artist for Ms. Spindt's playlist\n",
    "vetting_avg_pop = get_avg_pop_vetting(vetting)\n",
    "vetting_year = get_mode_year_vetting(vetting)\n",
    "vetting_artist = get_mode_artist_vetting(vetting)"
   ]
  },
  {
   "cell_type": "markdown",
   "id": "d5bd04f8",
   "metadata": {},
   "source": [
    "### Get data for the first 1000 Spotify playlists"
   ]
  },
  {
   "cell_type": "code",
   "execution_count": 9,
   "id": "e3b39f28",
   "metadata": {},
   "outputs": [],
   "source": [
    "# Read in the first 1000 playlists from the Spotify Million \n",
    "with open('first_file.json', 'r') as file:\n",
    "    playlists = json.load(file)['playlists'] # Notice this does not use the same structure as vetting_playlist.json"
   ]
  },
  {
   "cell_type": "code",
   "execution_count": 10,
   "id": "b22c6ac4",
   "metadata": {},
   "outputs": [],
   "source": [
    "def get_batch_track_info(uris):\n",
    "    '''\n",
    "    Returns a tuple uris and track info using the '/tracks' endpoint.\n",
    "    The 'tracks' endpoint can only retrieve info for at most 50 songs at a time\n",
    "    \n",
    "    Parameters:\n",
    "        - uris: a list of uri strings.\n",
    "    '''\n",
    "    combo = ','.join(uris)\n",
    "    response = requests.get(\"https://api.spotify.com/v1/tracks?ids=\" + combo, headers=headers)\n",
    "\n",
    "    # Check if request was successful\n",
    "    if response.status_code == 200:\n",
    "        return zip(uris, response.json()['tracks']) # This pairs each track URI with its info json payload\n",
    "    \n",
    "    # If token expired, refresh and call get_batch_track_info again\n",
    "    elif response.status_code == 401:\n",
    "        token_response = get_token(client_id, client_secret)\n",
    "        access_token = token_response['access_token']\n",
    "        headers['Authorization'] = 'Bearer ' + access_token\n",
    "        return get_batch_track_info(uris)\n",
    "    else:\n",
    "        raise Exception(f\"Failed to fetch tracks: {response.status_code} {response.text}\")"
   ]
  },
  {
   "cell_type": "code",
   "execution_count": 11,
   "id": "d702b932",
   "metadata": {},
   "outputs": [],
   "source": [
    "def find_empty_tracks(tracks):\n",
    "    '''\n",
    "    Returns a list of songs that I have not requested info from.\n",
    "    \n",
    "    Parameters:\n",
    "        - tracks: a list of Spotify uris.\n",
    "    '''\n",
    "    todo = []\n",
    "    for uri,info in tracks.items():\n",
    "        if not info:\n",
    "            todo.append(uri)\n",
    "    return todo"
   ]
  },
  {
   "cell_type": "code",
   "execution_count": 12,
   "id": "eefd1ba3",
   "metadata": {},
   "outputs": [],
   "source": [
    "# Create a json file of the data just in case something happens to while making requests to the Spotify API\n",
    "# The file makes it so I can start from where I left off.\n",
    "\n",
    "# json_file = \"playlist_tracks.json\"\n",
    "# if not os.path.exists(json_file):\n",
    "#     with open(json_file, 'w') as file:\n",
    "#         json.dump({}, file)"
   ]
  },
  {
   "cell_type": "code",
   "execution_count": 13,
   "id": "3e9ece3b",
   "metadata": {},
   "outputs": [],
   "source": [
    "# Code needed to make requests to Spotify API in 50 track batches\n",
    "# After each batch, the json payload is saved to the json file\n",
    "\n",
    "# with open(json_file, 'r') as file:\n",
    "#     unique_tracks = json.load(file)\n",
    "    \n",
    "# for playlist in playlists:\n",
    "#     for track in playlist['tracks']:\n",
    "#         uri = track['track_uri'].split(':')[2]\n",
    "#         if uri not in unique_tracks.keys():\n",
    "#             unique_tracks[uri] = {}\n",
    "\n",
    "# empty_tracks = find_empty_tracks(unique_tracks)\n",
    "\n",
    "# groups = math.ceil(len(empty_tracks) / 50)\n",
    "# for i in range(groups):\n",
    "#     print(f'processing {i+1}/{groups} {datetime.now()}')\n",
    "#     chunk = empty_tracks[-50:]\n",
    "#     track_info = get_batch_track_info(chunk)\n",
    "#     for uri, payload in track_info:\n",
    "#         unique_tracks[uri] = payload\n",
    "#         with open(json_file, 'w') as file:\n",
    "#             json.dump(unique_tracks, file)\n",
    "#     del empty_tracks[-50:]"
   ]
  },
  {
   "cell_type": "code",
   "execution_count": 14,
   "id": "84ee2239",
   "metadata": {},
   "outputs": [
    {
     "data": {
      "text/plain": [
       "34443"
      ]
     },
     "execution_count": 14,
     "metadata": {},
     "output_type": "execute_result"
    }
   ],
   "source": [
    "# Open the json file created from Spotify API\n",
    "with open('playlist_tracks.json', 'r') as file:\n",
    "    all_data = json.load(file)\n",
    "\n",
    "len(all_data)"
   ]
  },
  {
   "cell_type": "code",
   "execution_count": 15,
   "id": "578bd1d4",
   "metadata": {},
   "outputs": [],
   "source": [
    "def get_avg_pop(playlist):\n",
    "    '''\n",
    "    Returns the average popularity score for a playlist from the first 1000 playlists in the Spotify Million.\n",
    "        - A separate function is needed because the structure of the Spotify Million dataset differs from Vetting.\n",
    "        - There are some small errors in the data that require additional validation. \n",
    "            - For example, one Tim McGraw song is missing the 'popularity' section.\n",
    "    \n",
    "    Parameters:\n",
    "        - playlist: a json object.\n",
    "    '''\n",
    "    total = 0\n",
    "    for track in playlist['tracks']:\n",
    "        uri = track['track_uri'].split(':')[2]\n",
    "        if all_data[uri]:\n",
    "            if 'popularity' in all_data[uri].keys():\n",
    "                pop_score = all_data[uri]['popularity']\n",
    "                total += pop_score\n",
    "    return float((total / len(playlist['tracks'])))"
   ]
  },
  {
   "cell_type": "code",
   "execution_count": 16,
   "id": "440ec98d",
   "metadata": {},
   "outputs": [],
   "source": [
    "def get_top_release_year(playlist):\n",
    "    '''\n",
    "    Returns the most frequent year an album was released from the first 1000 playlists in the Spotify Million.\n",
    "       - A separate function is needed because the structure of the Spotify Million dataset differs from Vetting.\n",
    "        - There are some small errors in the data that require additional validation. \n",
    "            - For example, one Tim McGraw song is missing the 'popularity' section.\n",
    "            \n",
    "    Parameters:\n",
    "        - playlist: a json object.\n",
    "    '''\n",
    "    counts = {}\n",
    "    for track in playlist['tracks']:\n",
    "        uri = track['track_uri'].split(':')[2]\n",
    "        if all_data[uri]:\n",
    "            if 'album' in all_data[uri].keys() and 'release_date' in all_data[uri]['album']:\n",
    "                    date = all_data[uri]['album']['release_date']\n",
    "                    if date: \n",
    "                        year = date.split('-')[0] # The date is a string that follows the pattern: year - month - day\n",
    "                        if year not in counts.keys():\n",
    "                            counts[year] = 1\n",
    "                        else:\n",
    "                            counts[year] += 1 \n",
    "            \n",
    "    return int(max(counts.items(), key=lambda x: x[1])[0]) # Determines which year appears the most and returns it"
   ]
  },
  {
   "cell_type": "code",
   "execution_count": 17,
   "id": "eeda9350",
   "metadata": {},
   "outputs": [],
   "source": [
    "def get_top_artist(playlist):\n",
    "    '''\n",
    "    Returns the most frequent artist that appears in a playlist from the Spotify Million.\n",
    "    A separate function is needed because the structure of the Spotify Million dataset differs from Vetting.\n",
    "    \n",
    "    Parameters:\n",
    "        - playlist: a json object.\n",
    "    '''\n",
    "    counts = {}\n",
    "    for track in playlist['tracks']:\n",
    "        artist = track['artist_name']\n",
    "        if artist not in counts.keys():\n",
    "            counts[artist] = 1\n",
    "        else:\n",
    "            counts[artist] += 1  \n",
    "    return max(counts.items(), key=lambda x: x[1])[0] # Determines which year appears the most and returns it"
   ]
  },
  {
   "cell_type": "code",
   "execution_count": 18,
   "id": "9c66124a",
   "metadata": {},
   "outputs": [],
   "source": [
    "df = {\n",
    "    'id': [], \n",
    "    'avg_popularity': [],\n",
    "    'top_year': [],\n",
    "    'top_artist': []\n",
    "}\n",
    "\n",
    "for playlist in playlists:\n",
    "    df['id'].append(playlist['pid'])\n",
    "    df['avg_popularity'].append(get_avg_pop(playlist))\n",
    "    df['top_year'].append(get_top_release_year(playlist))\n",
    "    df['top_artist'].append(get_top_artist(playlist))"
   ]
  },
  {
   "cell_type": "code",
   "execution_count": 19,
   "id": "404e7859",
   "metadata": {},
   "outputs": [
    {
     "name": "stdout",
     "output_type": "stream",
     "text": [
      "<class 'pandas.core.frame.DataFrame'>\n",
      "Int64Index: 1001 entries, 0 to 1000\n",
      "Data columns (total 4 columns):\n",
      " #   Column          Non-Null Count  Dtype  \n",
      "---  ------          --------------  -----  \n",
      " 0   id              1001 non-null   int64  \n",
      " 1   avg_popularity  1001 non-null   float64\n",
      " 2   top_year        1001 non-null   int64  \n",
      " 3   top_artist      1001 non-null   object \n",
      "dtypes: float64(1), int64(2), object(1)\n",
      "memory usage: 39.1+ KB\n"
     ]
    }
   ],
   "source": [
    "df = pd.DataFrame(df)\n",
    "\n",
    "# Ms. Spindt's playlist will be last in dataframe\n",
    "df.loc[1000] = {\n",
    "    'id': 1000,\n",
    "    'avg_popularity': vetting_avg_pop,\n",
    "    'top_year': vetting_year,\n",
    "    'top_artist': vetting_artist\n",
    "}\n",
    "\n",
    "df.info() "
   ]
  },
  {
   "cell_type": "markdown",
   "id": "413a929e",
   "metadata": {},
   "source": [
    "### Train/Test a DBSCAN Model"
   ]
  },
  {
   "cell_type": "code",
   "execution_count": 21,
   "id": "9209e366",
   "metadata": {},
   "outputs": [
    {
     "name": "stdout",
     "output_type": "stream",
     "text": [
      "Sample: 30\n",
      "Max Silhouette Score 0\n",
      "Sample: 31\n",
      "Max Silhouette Score 0.5872495678352738\n",
      "Sample: 32\n",
      "Max Silhouette Score 0.58782220205284\n",
      "Sample: 33\n",
      "Max Silhouette Score 0.5895578427526567\n",
      "Sample: 34\n",
      "Max Silhouette Score 0.5959452263891356\n",
      "Sample: 35\n",
      "Max Silhouette Score 0.5975218617534191\n",
      "Sample: 36\n",
      "Max Silhouette Score 0.5975218617534191\n",
      "Sample: 37\n",
      "Max Silhouette Score 0.5975218617534191\n",
      "Sample: 38\n",
      "Max Silhouette Score 0.5975218617534191\n",
      "Sample: 39\n",
      "Max Silhouette Score 0.5975218617534191\n",
      "Sample: 40\n",
      "Max Silhouette Score 0.5975218617534191\n",
      "Sample: 41\n",
      "Max Silhouette Score 0.5975218617534191\n",
      "Sample: 42\n",
      "Max Silhouette Score 0.5975218617534191\n",
      "Sample: 43\n",
      "Max Silhouette Score 0.5975218617534191\n",
      "Sample: 44\n",
      "Max Silhouette Score 0.5975218617534191\n",
      "Sample: 45\n",
      "Max Silhouette Score 0.5975218617534191\n",
      "Sample: 46\n",
      "Max Silhouette Score 0.5975218617534191\n",
      "Sample: 47\n",
      "Max Silhouette Score 0.5975218617534191\n",
      "Sample: 48\n",
      "Max Silhouette Score 0.5975218617534191\n",
      "Sample: 49\n",
      "Max Silhouette Score 0.5975218617534191\n",
      "Sample: 50\n",
      "Max Silhouette Score 0.5975218617534191\n",
      "Sample: 51\n",
      "Max Silhouette Score 0.5975218617534191\n",
      "Sample: 52\n",
      "Max Silhouette Score 0.5975218617534191\n",
      "Sample: 53\n",
      "Max Silhouette Score 0.5975218617534191\n",
      "Sample: 54\n",
      "Max Silhouette Score 0.5975218617534191\n",
      "Sample: 55\n",
      "Max Silhouette Score 0.5975218617534191\n",
      "Sample: 56\n",
      "Max Silhouette Score 0.5975218617534191\n",
      "Sample: 57\n",
      "Max Silhouette Score 0.5975218617534191\n",
      "Sample: 58\n",
      "Max Silhouette Score 0.5975218617534191\n",
      "Sample: 59\n",
      "Max Silhouette Score 0.5975218617534191\n",
      "Sample: 60\n",
      "Max Silhouette Score 0.5975218617534191\n",
      "Sample: 61\n",
      "Max Silhouette Score 0.5975218617534191\n",
      "Sample: 62\n",
      "Max Silhouette Score 0.5975218617534191\n",
      "Sample: 63\n",
      "Max Silhouette Score 0.5975218617534191\n",
      "Sample: 64\n",
      "Max Silhouette Score 0.5975218617534191\n",
      "Sample: 65\n",
      "Max Silhouette Score 0.5975218617534191\n",
      "Sample: 66\n",
      "Max Silhouette Score 0.5975218617534191\n",
      "Sample: 67\n",
      "Max Silhouette Score 0.5975218617534191\n",
      "Sample: 68\n",
      "Max Silhouette Score 0.5975218617534191\n",
      "Sample: 69\n",
      "Max Silhouette Score 0.5975218617534191\n",
      "Sample: 70\n",
      "Max Silhouette Score 0.5975218617534191\n",
      "Sample: 71\n",
      "Max Silhouette Score 0.5975218617534191\n",
      "Sample: 72\n",
      "Max Silhouette Score 0.5975218617534191\n",
      "Sample: 73\n",
      "Max Silhouette Score 0.5975218617534191\n",
      "Sample: 74\n",
      "Max Silhouette Score 0.5975218617534191\n",
      "Sample: 75\n",
      "Max Silhouette Score 0.5975218617534191\n",
      "Sample: 76\n",
      "Max Silhouette Score 0.5975218617534191\n",
      "Sample: 77\n",
      "Max Silhouette Score 0.5975218617534191\n",
      "Sample: 78\n",
      "Max Silhouette Score 0.5975218617534191\n",
      "Sample: 79\n",
      "Max Silhouette Score 0.5975218617534191\n",
      "Sample: 80\n",
      "Max Silhouette Score 0.5975218617534191\n",
      "Sample: 81\n",
      "Max Silhouette Score 0.5975218617534191\n",
      "Sample: 82\n",
      "Max Silhouette Score 0.5975218617534191\n",
      "Sample: 83\n",
      "Max Silhouette Score 0.5975218617534191\n",
      "Sample: 84\n",
      "Max Silhouette Score 0.5975218617534191\n",
      "Sample: 85\n",
      "Max Silhouette Score 0.5975218617534191\n",
      "Sample: 86\n",
      "Max Silhouette Score 0.5975218617534191\n",
      "Sample: 87\n",
      "Max Silhouette Score 0.5975218617534191\n",
      "Sample: 88\n",
      "Max Silhouette Score 0.5975218617534191\n",
      "Sample: 89\n",
      "Max Silhouette Score 0.5975218617534191\n",
      "Sample: 90\n",
      "Max Silhouette Score 0.5975218617534191\n",
      "Sample: 91\n",
      "Max Silhouette Score 0.5975218617534191\n",
      "Sample: 92\n",
      "Max Silhouette Score 0.5975218617534191\n",
      "Sample: 93\n",
      "Max Silhouette Score 0.5975218617534191\n",
      "Sample: 94\n",
      "Max Silhouette Score 0.5975218617534191\n",
      "Sample: 95\n",
      "Max Silhouette Score 0.5975218617534191\n",
      "Sample: 96\n",
      "Max Silhouette Score 0.5975218617534191\n",
      "Sample: 97\n",
      "Max Silhouette Score 0.5975218617534191\n",
      "Sample: 98\n",
      "Max Silhouette Score 0.5975218617534191\n",
      "Sample: 99\n",
      "Max Silhouette Score 0.5975218617534191\n"
     ]
    }
   ],
   "source": [
    "X = df[['avg_popularity', 'top_year']]\n",
    "radius_tests = np.arange(0.1, 100.0, 0.1) # list of values to try for eps\n",
    "max_sil = {\n",
    "    'max_sil_score': 0,\n",
    "    'eps': 0,\n",
    "    'min_samps': 0\n",
    "}\n",
    "for sample in range(30, 100):\n",
    "    print(\"Sample:\", sample)\n",
    "    print(\"Max Silhouette Score\", max_sil['max_sil_score'])\n",
    "    for val in radius_tests:\n",
    "        model = DBSCAN(eps=val, min_samples=sample).fit(X)\n",
    "        if len(set(model.labels_)) > 2: # Checks if more than 1 cluster was found\n",
    "            new_sil_score = silhouette_score(X, model.fit_predict(X))\n",
    "            current_high_score = max_sil['max_sil_score']\n",
    "            if new_sil_score > current_high_score:\n",
    "                max_sil['max_sil_score'] = new_sil_score\n",
    "                max_sil['eps'] = val\n",
    "                max_sil['min_samps'] = sample"
   ]
  },
  {
   "cell_type": "markdown",
   "id": "5cf52db4",
   "metadata": {},
   "source": [
    "### Results"
   ]
  },
  {
   "cell_type": "code",
   "execution_count": 22,
   "id": "8d99bd91",
   "metadata": {},
   "outputs": [
    {
     "data": {
      "text/plain": [
       "<AxesSubplot:xlabel='avg_popularity', ylabel='top_year'>"
      ]
     },
     "execution_count": 22,
     "metadata": {},
     "output_type": "execute_result"
    },
    {
     "data": {
      "image/png": "[encoded data removed]",
      "text/plain": [
       "<Figure size 432x288 with 1 Axes>"
      ]
     },
     "metadata": {
      "needs_background": "light"
     },
     "output_type": "display_data"
    }
   ],
   "source": [
    "# Best Model:\n",
    "model = DBSCAN(eps=max_sil['eps'], min_samples=max_sil['min_samps']).fit(X)\n",
    "df['cluster_labels'] = model.labels_\n",
    "\n",
    "sns.scatterplot(data=df, x='avg_popularity', y='top_year', hue='cluster_labels')"
   ]
  },
  {
   "cell_type": "code",
   "execution_count": 23,
   "id": "8a2d2d30",
   "metadata": {},
   "outputs": [
    {
     "data": {
      "text/html": [
       "<div>\n",
       "<style scoped>\n",
       "    .dataframe tbody tr th:only-of-type {\n",
       "        vertical-align: middle;\n",
       "    }\n",
       "\n",
       "    .dataframe tbody tr th {\n",
       "        vertical-align: top;\n",
       "    }\n",
       "\n",
       "    .dataframe thead th {\n",
       "        text-align: right;\n",
       "    }\n",
       "</style>\n",
       "<table border=\"1\" class=\"dataframe\">\n",
       "  <thead>\n",
       "    <tr style=\"text-align: right;\">\n",
       "      <th></th>\n",
       "      <th>id</th>\n",
       "      <th>avg_popularity</th>\n",
       "      <th>top_year</th>\n",
       "      <th>top_artist</th>\n",
       "      <th>cluster_labels</th>\n",
       "    </tr>\n",
       "  </thead>\n",
       "  <tbody>\n",
       "    <tr>\n",
       "      <th>996</th>\n",
       "      <td>996</td>\n",
       "      <td>44.941176</td>\n",
       "      <td>2016</td>\n",
       "      <td>Kehlani</td>\n",
       "      <td>0</td>\n",
       "    </tr>\n",
       "    <tr>\n",
       "      <th>997</th>\n",
       "      <td>997</td>\n",
       "      <td>23.739496</td>\n",
       "      <td>2013</td>\n",
       "      <td>Lil Wayne</td>\n",
       "      <td>0</td>\n",
       "    </tr>\n",
       "    <tr>\n",
       "      <th>998</th>\n",
       "      <td>998</td>\n",
       "      <td>40.787037</td>\n",
       "      <td>2013</td>\n",
       "      <td>Rascal Flatts</td>\n",
       "      <td>0</td>\n",
       "    </tr>\n",
       "    <tr>\n",
       "      <th>999</th>\n",
       "      <td>999</td>\n",
       "      <td>20.431818</td>\n",
       "      <td>2015</td>\n",
       "      <td>Rusty Clanton</td>\n",
       "      <td>0</td>\n",
       "    </tr>\n",
       "    <tr>\n",
       "      <th>1000</th>\n",
       "      <td>1000</td>\n",
       "      <td>44.316456</td>\n",
       "      <td>2017</td>\n",
       "      <td>Angel Olsen</td>\n",
       "      <td>0</td>\n",
       "    </tr>\n",
       "  </tbody>\n",
       "</table>\n",
       "</div>"
      ],
      "text/plain": [
       "        id  avg_popularity  top_year     top_artist  cluster_labels\n",
       "996    996       44.941176      2016        Kehlani               0\n",
       "997    997       23.739496      2013      Lil Wayne               0\n",
       "998    998       40.787037      2013  Rascal Flatts               0\n",
       "999    999       20.431818      2015  Rusty Clanton               0\n",
       "1000  1000       44.316456      2017    Angel Olsen               0"
      ]
     },
     "execution_count": 23,
     "metadata": {},
     "output_type": "execute_result"
    }
   ],
   "source": [
    "# Ms. Spindt's playlist is in cluster 0\n",
    "df.tail()"
   ]
  },
  {
   "cell_type": "code",
   "execution_count": 45,
   "id": "f970d71a",
   "metadata": {},
   "outputs": [],
   "source": [
    "# Determine the most frequent song for all playlists in cluster 0\n",
    "count = {}\n",
    "cluster_0 = df[df['cluster_labels'] == 0]\n",
    "for pid in cluster_0['id']:\n",
    "    for playlist in playlists:\n",
    "        if playlist['pid'] == pid:\n",
    "            for track in playlist['tracks']:\n",
    "                uri = track['track_uri'].split(':')[2]\n",
    "                if uri not in count.keys():\n",
    "                    count[uri] = 1\n",
    "                else:\n",
    "                    count[uri] += 1\n",
    "\n",
    "uri = max(count.items(), key=lambda x: x[1])"
   ]
  },
  {
   "cell_type": "code",
   "execution_count": 46,
   "id": "0f53be13",
   "metadata": {},
   "outputs": [
    {
     "data": {
      "text/plain": [
       "('1xznGGDReH1oQq0xzbwXa3', 55)"
      ]
     },
     "execution_count": 46,
     "metadata": {},
     "output_type": "execute_result"
    }
   ],
   "source": [
    "uri"
   ]
  },
  {
   "cell_type": "code",
   "execution_count": 43,
   "id": "dbad996e",
   "metadata": {},
   "outputs": [
    {
     "data": {
      "text/plain": [
       "{'album': {'album_type': 'album',\n",
       "  'artists': [{'external_urls': {'spotify': 'https://open.spotify.com/artist/3TVXtAsR1Inumwj472S9r4'},\n",
       "    'href': 'https://api.spotify.com/v1/artists/3TVXtAsR1Inumwj472S9r4',\n",
       "    'id': '3TVXtAsR1Inumwj472S9r4',\n",
       "    'name': 'Drake',\n",
       "    'type': 'artist',\n",
       "    'uri': 'spotify:artist:3TVXtAsR1Inumwj472S9r4'}],\n",
       "  'available_markets': [],\n",
       "  'external_urls': {'spotify': 'https://open.spotify.com/album/3hARKC8cinq3mZLLAEaBh9'},\n",
       "  'href': 'https://api.spotify.com/v1/albums/3hARKC8cinq3mZLLAEaBh9',\n",
       "  'id': '3hARKC8cinq3mZLLAEaBh9',\n",
       "  'images': [{'url': 'https://i.scdn.co/image/ab67616d0000b273726abca207567d5e41cb9667',\n",
       "    'width': 640,\n",
       "    'height': 640},\n",
       "   {'url': 'https://i.scdn.co/image/ab67616d00001e02726abca207567d5e41cb9667',\n",
       "    'width': 300,\n",
       "    'height': 300},\n",
       "   {'url': 'https://i.scdn.co/image/ab67616d00004851726abca207567d5e41cb9667',\n",
       "    'width': 64,\n",
       "    'height': 64}],\n",
       "  'name': 'Views',\n",
       "  'release_date': '2016-05-06',\n",
       "  'release_date_precision': 'day',\n",
       "  'total_tracks': 20,\n",
       "  'type': 'album',\n",
       "  'uri': 'spotify:album:3hARKC8cinq3mZLLAEaBh9'},\n",
       " 'artists': [{'external_urls': {'spotify': 'https://open.spotify.com/artist/3TVXtAsR1Inumwj472S9r4'},\n",
       "   'href': 'https://api.spotify.com/v1/artists/3TVXtAsR1Inumwj472S9r4',\n",
       "   'id': '3TVXtAsR1Inumwj472S9r4',\n",
       "   'name': 'Drake',\n",
       "   'type': 'artist',\n",
       "   'uri': 'spotify:artist:3TVXtAsR1Inumwj472S9r4'},\n",
       "  {'external_urls': {'spotify': 'https://open.spotify.com/artist/3tVQdUvClmAT7URs9V3rsp'},\n",
       "   'href': 'https://api.spotify.com/v1/artists/3tVQdUvClmAT7URs9V3rsp',\n",
       "   'id': '3tVQdUvClmAT7URs9V3rsp',\n",
       "   'name': 'Wizkid',\n",
       "   'type': 'artist',\n",
       "   'uri': 'spotify:artist:3tVQdUvClmAT7URs9V3rsp'},\n",
       "  {'external_urls': {'spotify': 'https://open.spotify.com/artist/6TK7fjRPdy2GW2pJzNF23L'},\n",
       "   'href': 'https://api.spotify.com/v1/artists/6TK7fjRPdy2GW2pJzNF23L',\n",
       "   'id': '6TK7fjRPdy2GW2pJzNF23L',\n",
       "   'name': 'Kyla',\n",
       "   'type': 'artist',\n",
       "   'uri': 'spotify:artist:6TK7fjRPdy2GW2pJzNF23L'}],\n",
       " 'available_markets': [],\n",
       " 'disc_number': 1,\n",
       " 'duration_ms': 173986,\n",
       " 'explicit': False,\n",
       " 'external_ids': {'isrc': 'USCM51600028'},\n",
       " 'external_urls': {'spotify': 'https://open.spotify.com/track/1xznGGDReH1oQq0xzbwXa3'},\n",
       " 'href': 'https://api.spotify.com/v1/tracks/1xznGGDReH1oQq0xzbwXa3',\n",
       " 'id': '1xznGGDReH1oQq0xzbwXa3',\n",
       " 'is_local': False,\n",
       " 'name': 'One Dance',\n",
       " 'popularity': 5,\n",
       " 'preview_url': None,\n",
       " 'track_number': 12,\n",
       " 'type': 'track',\n",
       " 'uri': 'spotify:track:1xznGGDReH1oQq0xzbwXa3'}"
      ]
     },
     "execution_count": 43,
     "metadata": {},
     "output_type": "execute_result"
    }
   ],
   "source": [
    "all_data['1xznGGDReH1oQq0xzbwXa3']"
   ]
  }
 ],
 "metadata": {
  "kernelspec": {
   "display_name": "Python 3 (ipykernel)",
   "language": "python",
   "name": "python3"
  },
  "language_info": {
   "codemirror_mode": {
    "name": "ipython",
    "version": 3
   },
   "file_extension": ".py",
   "mimetype": "text/x-python",
   "name": "python",
   "nbconvert_exporter": "python",
   "pygments_lexer": "ipython3",
   "version": "3.9.13"
  }
 },
 "nbformat": 4,
 "nbformat_minor": 5
}
