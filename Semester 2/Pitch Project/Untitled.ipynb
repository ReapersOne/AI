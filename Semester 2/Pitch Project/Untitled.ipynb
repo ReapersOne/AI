{
 "cells": [
  {
   "cell_type": "code",
   "execution_count": 2,
   "id": "2f2aae20",
   "metadata": {},
   "outputs": [],
   "source": [
    "import pandas as pd\n",
    "import numpy as np\n",
    "import seaborn as sns\n",
    "import json\n",
    "from bs4 import BeautifulSoup\n",
    "import numpy as np\n",
    "import requests\n",
    "from sklearn.cluster import DBSCAN\n",
    "from sklearn.preprocessing import StandardScaler\n",
    "from sklearn.decomposition import PCA"
   ]
  },
  {
   "cell_type": "code",
   "execution_count": 3,
   "id": "afccdd8d",
   "metadata": {},
   "outputs": [],
   "source": [
    "file_paths = [\n",
    "    'mpd.slice.15000-15999.json',\n",
    "]\n",
    "\n",
    "all_data = []\n",
    "\n",
    "for file_path in file_paths:\n",
    "    with open(file_path, 'r') as file:\n",
    "        data = json.load(file)\n",
    "        for playlist in data['playlists']:\n",
    "            playlist_name = playlist['name']\n",
    "            for track in playlist['tracks']:\n",
    "                all_data.append({\n",
    "                    \"playlist_name\": playlist_name,\n",
    "                    \"position_in_playlist\": track[\"pos\"],\n",
    "                    \"track_id\": track['track_uri'],\n",
    "                    \"track_name\": track['track_name'],\n",
    "                    \"artist_name\": track['artist_name'],\n",
    "                    \"duration_ms\": track['duration_ms'],\n",
    "                    \"album_name\": track['album_name']\n",
    "                })\n",
    "                # Add and remove for DBSCAN\n",
    "                if len(all_data) >= 1000:\n",
    "                    break\n",
    "            if len(all_data) >= 1000:\n",
    "                break\n",
    "        if len(all_data) >= 1000:\n",
    "            break\n",
    "df = pd.DataFrame(all_data)"
   ]
  },
  {
   "cell_type": "code",
   "execution_count": null,
   "id": "221a2c8b",
   "metadata": {},
   "outputs": [],
   "source": []
  }
 ],
 "metadata": {
  "kernelspec": {
   "display_name": "Python 3 (ipykernel)",
   "language": "python",
   "name": "python3"
  },
  "language_info": {
   "codemirror_mode": {
    "name": "ipython",
    "version": 3
   },
   "file_extension": ".py",
   "mimetype": "text/x-python",
   "name": "python",
   "nbconvert_exporter": "python",
   "pygments_lexer": "ipython3",
   "version": "3.9.13"
  }
 },
 "nbformat": 4,
 "nbformat_minor": 5
}
