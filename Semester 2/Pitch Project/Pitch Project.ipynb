{
 "cells": [
  {
   "cell_type": "code",
   "execution_count": 1,
   "id": "93002b23",
   "metadata": {},
   "outputs": [],
   "source": [
    "import pandas as pd\n",
    "import numpy as np\n",
    "import seaborn as sns\n",
    "import json\n",
    "from bs4 import BeautifulSoup\n",
    "import numpy as np\n",
    "import requests"
   ]
  },
  {
   "cell_type": "code",
   "execution_count": 2,
   "id": "241f9eff",
   "metadata": {},
   "outputs": [],
   "source": [
    "with open('vetting_playlist.json', 'r') as file:\n",
    "    data1 = json.load(file)"
   ]
  },
  {
   "cell_type": "code",
   "execution_count": 3,
   "id": "b8e96864",
   "metadata": {},
   "outputs": [
    {
     "data": {
      "text/plain": [
       "dict_keys(['collaborative', 'description', 'external_urls', 'followers', 'href', 'id', 'images', 'name', 'owner', 'primary_color', 'public', 'snapshot_id', 'tracks', 'type', 'uri'])"
      ]
     },
     "execution_count": 3,
     "metadata": {},
     "output_type": "execute_result"
    }
   ],
   "source": [
    "data1.keys()"
   ]
  },
  {
   "cell_type": "code",
   "execution_count": 4,
   "id": "850e5856",
   "metadata": {},
   "outputs": [],
   "source": [
    "file_paths = [\n",
    "    'mpd.slice.25000-25999.json',\n",
    "    'mpd.slice.26000-26999.json',\n",
    "    'mpd.slice.27000-27999.json',\n",
    "    'mpd.slice.28000-28999.json',\n",
    "    'mpd.slice.29000-29999.json',\n",
    "    'mpd.slice.30000-30999.json',\n",
    "]\n",
    "\n",
    "all_data = []\n",
    "\n",
    "for file_path in file_paths:\n",
    "    with open(file_path, 'r') as file:\n",
    "        data = json.load(file)\n",
    "        for playlist in data['playlists']:\n",
    "            playlist_name = playlist['name']\n",
    "            playlist_description = playlist.get('description', '')\n",
    "            for track in playlist['tracks']:\n",
    "                all_data.append({\n",
    "                    \"playlist_name\": playlist_name,\n",
    "                    \"playlist_description\": playlist_description,\n",
    "                    \"track_name\": track['track_name'],\n",
    "                    \"artist_name\": track['artist_name'],\n",
    "                    \"duration_ms\": track['duration_ms']\n",
    "                })\n",
    "df = pd.DataFrame(all_data)"
   ]
  },
  {
   "cell_type": "code",
   "execution_count": 5,
   "id": "b5875f87",
   "metadata": {},
   "outputs": [
    {
     "name": "stdout",
     "output_type": "stream",
     "text": [
      "<class 'pandas.core.frame.DataFrame'>\n",
      "RangeIndex: 406012 entries, 0 to 406011\n",
      "Data columns (total 5 columns):\n",
      " #   Column                Non-Null Count   Dtype \n",
      "---  ------                --------------   ----- \n",
      " 0   playlist_name         406012 non-null  object\n",
      " 1   playlist_description  406012 non-null  object\n",
      " 2   track_name            406012 non-null  object\n",
      " 3   artist_name           406012 non-null  object\n",
      " 4   duration_ms           406012 non-null  int64 \n",
      "dtypes: int64(1), object(4)\n",
      "memory usage: 15.5+ MB\n"
     ]
    }
   ],
   "source": [
    "df.info()\n"
   ]
  },
  {
   "cell_type": "code",
   "execution_count": 6,
   "id": "e4161ab1",
   "metadata": {},
   "outputs": [
    {
     "data": {
      "text/plain": [
       "playlist_name                         Summer 2017\n",
       "playlist_description                             \n",
       "track_name              Fetish (feat. Gucci Mane)\n",
       "artist_name                          Selena Gomez\n",
       "duration_ms                                186112\n",
       "Name: 85946, dtype: object"
      ]
     },
     "execution_count": 6,
     "metadata": {},
     "output_type": "execute_result"
    }
   ],
   "source": [
    "df.loc[85946]"
   ]
  },
  {
   "cell_type": "code",
   "execution_count": 7,
   "id": "1c379cbf",
   "metadata": {},
   "outputs": [],
   "source": [
    "track_name = df.drop_duplicates(subset=['duration_ms'])"
   ]
  },
  {
   "cell_type": "code",
   "execution_count": 8,
   "id": "44fd1a53",
   "metadata": {},
   "outputs": [
    {
     "name": "stdout",
     "output_type": "stream",
     "text": [
      "<class 'pandas.core.frame.DataFrame'>\n",
      "Int64Index: 52927 entries, 0 to 406007\n",
      "Data columns (total 5 columns):\n",
      " #   Column                Non-Null Count  Dtype \n",
      "---  ------                --------------  ----- \n",
      " 0   playlist_name         52927 non-null  object\n",
      " 1   playlist_description  52927 non-null  object\n",
      " 2   track_name            52927 non-null  object\n",
      " 3   artist_name           52927 non-null  object\n",
      " 4   duration_ms           52927 non-null  int64 \n",
      "dtypes: int64(1), object(4)\n",
      "memory usage: 2.4+ MB\n"
     ]
    }
   ],
   "source": [
    "track_name.info()"
   ]
  },
  {
   "cell_type": "code",
   "execution_count": 9,
   "id": "6e07ad66",
   "metadata": {},
   "outputs": [
    {
     "data": {
      "text/html": [
       "<div>\n",
       "<style scoped>\n",
       "    .dataframe tbody tr th:only-of-type {\n",
       "        vertical-align: middle;\n",
       "    }\n",
       "\n",
       "    .dataframe tbody tr th {\n",
       "        vertical-align: top;\n",
       "    }\n",
       "\n",
       "    .dataframe thead th {\n",
       "        text-align: right;\n",
       "    }\n",
       "</style>\n",
       "<table border=\"1\" class=\"dataframe\">\n",
       "  <thead>\n",
       "    <tr style=\"text-align: right;\">\n",
       "      <th></th>\n",
       "      <th>playlist_name</th>\n",
       "      <th>playlist_description</th>\n",
       "      <th>track_name</th>\n",
       "      <th>artist_name</th>\n",
       "      <th>duration_ms</th>\n",
       "    </tr>\n",
       "  </thead>\n",
       "  <tbody>\n",
       "    <tr>\n",
       "      <th>0</th>\n",
       "      <td>summer</td>\n",
       "      <td></td>\n",
       "      <td>I Love You</td>\n",
       "      <td>Alex &amp; Sierra</td>\n",
       "      <td>229640</td>\n",
       "    </tr>\n",
       "    <tr>\n",
       "      <th>1</th>\n",
       "      <td>summer</td>\n",
       "      <td></td>\n",
       "      <td>Thunderstruck</td>\n",
       "      <td>AC/DC</td>\n",
       "      <td>292880</td>\n",
       "    </tr>\n",
       "    <tr>\n",
       "      <th>2</th>\n",
       "      <td>summer</td>\n",
       "      <td></td>\n",
       "      <td>Highway to Hell</td>\n",
       "      <td>AC/DC</td>\n",
       "      <td>208400</td>\n",
       "    </tr>\n",
       "    <tr>\n",
       "      <th>3</th>\n",
       "      <td>summer</td>\n",
       "      <td></td>\n",
       "      <td>Black Betty</td>\n",
       "      <td>Ram Jam</td>\n",
       "      <td>238973</td>\n",
       "    </tr>\n",
       "    <tr>\n",
       "      <th>4</th>\n",
       "      <td>summer</td>\n",
       "      <td></td>\n",
       "      <td>Welcome To The Jungle</td>\n",
       "      <td>Guns N' Roses</td>\n",
       "      <td>274026</td>\n",
       "    </tr>\n",
       "  </tbody>\n",
       "</table>\n",
       "</div>"
      ],
      "text/plain": [
       "  playlist_name playlist_description             track_name    artist_name  \\\n",
       "0       summer                                   I Love You  Alex & Sierra   \n",
       "1       summer                                Thunderstruck          AC/DC   \n",
       "2       summer                              Highway to Hell          AC/DC   \n",
       "3       summer                                  Black Betty        Ram Jam   \n",
       "4       summer                        Welcome To The Jungle  Guns N' Roses   \n",
       "\n",
       "   duration_ms  \n",
       "0       229640  \n",
       "1       292880  \n",
       "2       208400  \n",
       "3       238973  \n",
       "4       274026  "
      ]
     },
     "execution_count": 9,
     "metadata": {},
     "output_type": "execute_result"
    }
   ],
   "source": [
    "track_name.head()"
   ]
  },
  {
   "cell_type": "code",
   "execution_count": 10,
   "id": "2e4e8b88",
   "metadata": {},
   "outputs": [],
   "source": [
    "df_artists = df.drop_duplicates(subset=['artist_name'])"
   ]
  },
  {
   "cell_type": "code",
   "execution_count": 11,
   "id": "f621c358",
   "metadata": {},
   "outputs": [
    {
     "name": "stdout",
     "output_type": "stream",
     "text": [
      "<class 'pandas.core.frame.DataFrame'>\n",
      "Int64Index: 27411 entries, 0 to 405975\n",
      "Data columns (total 5 columns):\n",
      " #   Column                Non-Null Count  Dtype \n",
      "---  ------                --------------  ----- \n",
      " 0   playlist_name         27411 non-null  object\n",
      " 1   playlist_description  27411 non-null  object\n",
      " 2   track_name            27411 non-null  object\n",
      " 3   artist_name           27411 non-null  object\n",
      " 4   duration_ms           27411 non-null  int64 \n",
      "dtypes: int64(1), object(4)\n",
      "memory usage: 1.3+ MB\n"
     ]
    }
   ],
   "source": [
    "df_artists.info()"
   ]
  },
  {
   "cell_type": "code",
   "execution_count": 12,
   "id": "6c440c5e",
   "metadata": {},
   "outputs": [],
   "source": [
    "playlists = df.drop_duplicates(subset=['playlist_name'])"
   ]
  },
  {
   "cell_type": "code",
   "execution_count": 13,
   "id": "fcf511ef",
   "metadata": {},
   "outputs": [
    {
     "name": "stdout",
     "output_type": "stream",
     "text": [
      "<class 'pandas.core.frame.DataFrame'>\n",
      "Int64Index: 3949 entries, 0 to 405965\n",
      "Data columns (total 5 columns):\n",
      " #   Column                Non-Null Count  Dtype \n",
      "---  ------                --------------  ----- \n",
      " 0   playlist_name         3949 non-null   object\n",
      " 1   playlist_description  3949 non-null   object\n",
      " 2   track_name            3949 non-null   object\n",
      " 3   artist_name           3949 non-null   object\n",
      " 4   duration_ms           3949 non-null   int64 \n",
      "dtypes: int64(1), object(4)\n",
      "memory usage: 185.1+ KB\n"
     ]
    }
   ],
   "source": [
    "playlists.info()"
   ]
  },
  {
   "cell_type": "code",
   "execution_count": null,
   "id": "e927edca",
   "metadata": {},
   "outputs": [],
   "source": []
  }
 ],
 "metadata": {
  "kernelspec": {
   "display_name": "Python 3 (ipykernel)",
   "language": "python",
   "name": "python3"
  },
  "language_info": {
   "codemirror_mode": {
    "name": "ipython",
    "version": 3
   },
   "file_extension": ".py",
   "mimetype": "text/x-python",
   "name": "python",
   "nbconvert_exporter": "python",
   "pygments_lexer": "ipython3",
   "version": "3.9.13"
  }
 },
 "nbformat": 4,
 "nbformat_minor": 5
}
