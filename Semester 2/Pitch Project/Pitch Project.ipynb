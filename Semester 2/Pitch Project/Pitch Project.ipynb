{
 "cells": [
  {
   "cell_type": "code",
   "execution_count": 1,
   "id": "93002b23",
   "metadata": {},
   "outputs": [],
   "source": [
    "import pandas as pd\n",
    "import numpy as np\n",
    "import seaborn as sns\n",
    "import json\n",
    "from bs4 import BeautifulSoup\n",
    "import numpy as np\n",
    "import requests\n",
    "from sklearn.cluster import DBSCAN\n",
    "from sklearn.preprocessing import StandardScaler\n",
    "from sklearn.decomposition import PCA"
   ]
  },
  {
   "cell_type": "code",
   "execution_count": 2,
   "id": "241f9eff",
   "metadata": {},
   "outputs": [],
   "source": [
    "with open('vetting_playlist.json', 'r') as file:\n",
    "    data1 = json.load(file)"
   ]
  },
  {
   "cell_type": "code",
   "execution_count": 3,
   "id": "b8e96864",
   "metadata": {},
   "outputs": [
    {
     "data": {
      "text/plain": [
       "dict_keys(['collaborative', 'description', 'external_urls', 'followers', 'href', 'id', 'images', 'name', 'owner', 'primary_color', 'public', 'snapshot_id', 'tracks', 'type', 'uri'])"
      ]
     },
     "execution_count": 3,
     "metadata": {},
     "output_type": "execute_result"
    }
   ],
   "source": [
    "data1.keys()"
   ]
  },
  {
   "cell_type": "code",
   "execution_count": 4,
   "id": "850e5856",
   "metadata": {},
   "outputs": [],
   "source": [
    "file_paths = [\n",
    "    'mpd.slice.15000-15999.json',\n",
    "    'mpd.slice.16000-16999.json',\n",
    "    'mpd.slice.17000-17999.json',\n",
    "    'mpd.slice.18000-18999.json',\n",
    "    'mpd.slice.19000-19999.json',\n",
    "    'mpd.slice.20000-20999.json',\n",
    "    'mpd.slice.21000-21999.json',\n",
    "    'mpd.slice.22000-22999.json',\n",
    "    'mpd.slice.23000-23999.json',\n",
    "    'mpd.slice.24000-24999.json',\n",
    "    'mpd.slice.25000-25999.json',\n",
    "    'mpd.slice.26000-26999.json',\n",
    "    'mpd.slice.27000-27999.json',\n",
    "    'mpd.slice.28000-28999.json',\n",
    "    'mpd.slice.29000-29999.json',\n",
    "    'mpd.slice.30000-30999.json',\n",
    "]\n",
    "\n",
    "all_data = []\n",
    "\n",
    "for file_path in file_paths:\n",
    "    with open(file_path, 'r') as file:\n",
    "        data = json.load(file)\n",
    "        for playlist in data['playlists']:\n",
    "            playlist_name = playlist['name']\n",
    "            for track in playlist['tracks']:\n",
    "                all_data.append({\n",
    "                    \"playlist_name\": playlist_name,\n",
    "                    \"position_in_playlist\": track[\"pos\"],\n",
    "                    \"track_name\": track['track_name'],\n",
    "                    \"artist_name\": track['artist_name'],\n",
    "                    \"duration_ms\": track['duration_ms'],\n",
    "                    \"album_name\": track['album_name']\n",
    "                })\n",
    "df = pd.DataFrame(all_data)"
   ]
  },
  {
   "cell_type": "code",
   "execution_count": 5,
   "id": "b5875f87",
   "metadata": {},
   "outputs": [
    {
     "name": "stdout",
     "output_type": "stream",
     "text": [
      "<class 'pandas.core.frame.DataFrame'>\n",
      "RangeIndex: 1077598 entries, 0 to 1077597\n",
      "Data columns (total 6 columns):\n",
      " #   Column                Non-Null Count    Dtype \n",
      "---  ------                --------------    ----- \n",
      " 0   playlist_name         1077598 non-null  object\n",
      " 1   position_in_playlist  1077598 non-null  int64 \n",
      " 2   track_name            1077598 non-null  object\n",
      " 3   artist_name           1077598 non-null  object\n",
      " 4   duration_ms           1077598 non-null  int64 \n",
      " 5   album_name            1077598 non-null  object\n",
      "dtypes: int64(2), object(4)\n",
      "memory usage: 49.3+ MB\n"
     ]
    }
   ],
   "source": [
    "df.info()\n"
   ]
  },
  {
   "cell_type": "code",
   "execution_count": 6,
   "id": "e4161ab1",
   "metadata": {},
   "outputs": [
    {
     "data": {
      "text/html": [
       "<div>\n",
       "<style scoped>\n",
       "    .dataframe tbody tr th:only-of-type {\n",
       "        vertical-align: middle;\n",
       "    }\n",
       "\n",
       "    .dataframe tbody tr th {\n",
       "        vertical-align: top;\n",
       "    }\n",
       "\n",
       "    .dataframe thead th {\n",
       "        text-align: right;\n",
       "    }\n",
       "</style>\n",
       "<table border=\"1\" class=\"dataframe\">\n",
       "  <thead>\n",
       "    <tr style=\"text-align: right;\">\n",
       "      <th></th>\n",
       "      <th>playlist_name</th>\n",
       "      <th>position_in_playlist</th>\n",
       "      <th>track_name</th>\n",
       "      <th>artist_name</th>\n",
       "      <th>duration_ms</th>\n",
       "      <th>album_name</th>\n",
       "    </tr>\n",
       "  </thead>\n",
       "  <tbody>\n",
       "    <tr>\n",
       "      <th>0</th>\n",
       "      <td>Wedding Music</td>\n",
       "      <td>0</td>\n",
       "      <td>Always Forever</td>\n",
       "      <td>Phil Wickham</td>\n",
       "      <td>281880</td>\n",
       "      <td>Phil Wickham</td>\n",
       "    </tr>\n",
       "    <tr>\n",
       "      <th>1</th>\n",
       "      <td>Wedding Music</td>\n",
       "      <td>1</td>\n",
       "      <td>Divine Romance</td>\n",
       "      <td>Phil Wickham</td>\n",
       "      <td>298026</td>\n",
       "      <td>Phil Wickham</td>\n",
       "    </tr>\n",
       "    <tr>\n",
       "      <th>2</th>\n",
       "      <td>Wedding Music</td>\n",
       "      <td>2</td>\n",
       "      <td>Messiah / You're Beautiful</td>\n",
       "      <td>Phil Wickham</td>\n",
       "      <td>293720</td>\n",
       "      <td>Cannons</td>\n",
       "    </tr>\n",
       "    <tr>\n",
       "      <th>3</th>\n",
       "      <td>Wedding Music</td>\n",
       "      <td>3</td>\n",
       "      <td>Love Is Not A Fight</td>\n",
       "      <td>Warren Barfield</td>\n",
       "      <td>222986</td>\n",
       "      <td>Worth Fighting For</td>\n",
       "    </tr>\n",
       "    <tr>\n",
       "      <th>4</th>\n",
       "      <td>Wedding Music</td>\n",
       "      <td>4</td>\n",
       "      <td>When I Say I Do</td>\n",
       "      <td>Matthew West</td>\n",
       "      <td>246000</td>\n",
       "      <td>Hold You Up EP</td>\n",
       "    </tr>\n",
       "  </tbody>\n",
       "</table>\n",
       "</div>"
      ],
      "text/plain": [
       "   playlist_name  position_in_playlist                  track_name  \\\n",
       "0  Wedding Music                     0              Always Forever   \n",
       "1  Wedding Music                     1              Divine Romance   \n",
       "2  Wedding Music                     2  Messiah / You're Beautiful   \n",
       "3  Wedding Music                     3         Love Is Not A Fight   \n",
       "4  Wedding Music                     4             When I Say I Do   \n",
       "\n",
       "       artist_name  duration_ms          album_name  \n",
       "0     Phil Wickham       281880        Phil Wickham  \n",
       "1     Phil Wickham       298026        Phil Wickham  \n",
       "2     Phil Wickham       293720             Cannons  \n",
       "3  Warren Barfield       222986  Worth Fighting For  \n",
       "4     Matthew West       246000      Hold You Up EP  "
      ]
     },
     "execution_count": 6,
     "metadata": {},
     "output_type": "execute_result"
    }
   ],
   "source": [
    "df.head()"
   ]
  },
  {
   "cell_type": "code",
   "execution_count": 7,
   "id": "1c379cbf",
   "metadata": {},
   "outputs": [],
   "source": [
    "track_name = df.drop_duplicates(subset=['track_name'])"
   ]
  },
  {
   "cell_type": "code",
   "execution_count": 8,
   "id": "44fd1a53",
   "metadata": {},
   "outputs": [
    {
     "name": "stdout",
     "output_type": "stream",
     "text": [
      "<class 'pandas.core.frame.DataFrame'>\n",
      "Int64Index: 177749 entries, 0 to 1077595\n",
      "Data columns (total 6 columns):\n",
      " #   Column                Non-Null Count   Dtype \n",
      "---  ------                --------------   ----- \n",
      " 0   playlist_name         177749 non-null  object\n",
      " 1   position_in_playlist  177749 non-null  int64 \n",
      " 2   track_name            177749 non-null  object\n",
      " 3   artist_name           177749 non-null  object\n",
      " 4   duration_ms           177749 non-null  int64 \n",
      " 5   album_name            177749 non-null  object\n",
      "dtypes: int64(2), object(4)\n",
      "memory usage: 9.5+ MB\n"
     ]
    }
   ],
   "source": [
    "track_name.info()"
   ]
  },
  {
   "cell_type": "code",
   "execution_count": 9,
   "id": "6e07ad66",
   "metadata": {
    "scrolled": false
   },
   "outputs": [
    {
     "data": {
      "text/html": [
       "<div>\n",
       "<style scoped>\n",
       "    .dataframe tbody tr th:only-of-type {\n",
       "        vertical-align: middle;\n",
       "    }\n",
       "\n",
       "    .dataframe tbody tr th {\n",
       "        vertical-align: top;\n",
       "    }\n",
       "\n",
       "    .dataframe thead th {\n",
       "        text-align: right;\n",
       "    }\n",
       "</style>\n",
       "<table border=\"1\" class=\"dataframe\">\n",
       "  <thead>\n",
       "    <tr style=\"text-align: right;\">\n",
       "      <th></th>\n",
       "      <th>playlist_name</th>\n",
       "      <th>position_in_playlist</th>\n",
       "      <th>track_name</th>\n",
       "      <th>artist_name</th>\n",
       "      <th>duration_ms</th>\n",
       "      <th>album_name</th>\n",
       "    </tr>\n",
       "  </thead>\n",
       "  <tbody>\n",
       "    <tr>\n",
       "      <th>0</th>\n",
       "      <td>Wedding Music</td>\n",
       "      <td>0</td>\n",
       "      <td>Always Forever</td>\n",
       "      <td>Phil Wickham</td>\n",
       "      <td>281880</td>\n",
       "      <td>Phil Wickham</td>\n",
       "    </tr>\n",
       "    <tr>\n",
       "      <th>1</th>\n",
       "      <td>Wedding Music</td>\n",
       "      <td>1</td>\n",
       "      <td>Divine Romance</td>\n",
       "      <td>Phil Wickham</td>\n",
       "      <td>298026</td>\n",
       "      <td>Phil Wickham</td>\n",
       "    </tr>\n",
       "    <tr>\n",
       "      <th>2</th>\n",
       "      <td>Wedding Music</td>\n",
       "      <td>2</td>\n",
       "      <td>Messiah / You're Beautiful</td>\n",
       "      <td>Phil Wickham</td>\n",
       "      <td>293720</td>\n",
       "      <td>Cannons</td>\n",
       "    </tr>\n",
       "    <tr>\n",
       "      <th>3</th>\n",
       "      <td>Wedding Music</td>\n",
       "      <td>3</td>\n",
       "      <td>Love Is Not A Fight</td>\n",
       "      <td>Warren Barfield</td>\n",
       "      <td>222986</td>\n",
       "      <td>Worth Fighting For</td>\n",
       "    </tr>\n",
       "    <tr>\n",
       "      <th>4</th>\n",
       "      <td>Wedding Music</td>\n",
       "      <td>4</td>\n",
       "      <td>When I Say I Do</td>\n",
       "      <td>Matthew West</td>\n",
       "      <td>246000</td>\n",
       "      <td>Hold You Up EP</td>\n",
       "    </tr>\n",
       "    <tr>\n",
       "      <th>...</th>\n",
       "      <td>...</td>\n",
       "      <td>...</td>\n",
       "      <td>...</td>\n",
       "      <td>...</td>\n",
       "      <td>...</td>\n",
       "      <td>...</td>\n",
       "    </tr>\n",
       "    <tr>\n",
       "      <th>147</th>\n",
       "      <td>PB</td>\n",
       "      <td>39</td>\n",
       "      <td>Chill Bill</td>\n",
       "      <td>Rob $tone</td>\n",
       "      <td>177184</td>\n",
       "      <td>Chill Bill</td>\n",
       "    </tr>\n",
       "    <tr>\n",
       "      <th>148</th>\n",
       "      <td>PB</td>\n",
       "      <td>40</td>\n",
       "      <td>Light It Up (feat. Nyla &amp; Fuse ODG) - Remix</td>\n",
       "      <td>Major Lazer</td>\n",
       "      <td>166138</td>\n",
       "      <td>Peace Is The Mission: Extended</td>\n",
       "    </tr>\n",
       "    <tr>\n",
       "      <th>149</th>\n",
       "      <td>PB</td>\n",
       "      <td>41</td>\n",
       "      <td>Party Like We're Animals - Radio Edit</td>\n",
       "      <td>Klaas</td>\n",
       "      <td>191453</td>\n",
       "      <td>Party Like We're Animals</td>\n",
       "    </tr>\n",
       "    <tr>\n",
       "      <th>150</th>\n",
       "      <td>PB</td>\n",
       "      <td>42</td>\n",
       "      <td>This Is Dirty</td>\n",
       "      <td>DVBBS</td>\n",
       "      <td>295786</td>\n",
       "      <td>We Were Young</td>\n",
       "    </tr>\n",
       "    <tr>\n",
       "      <th>151</th>\n",
       "      <td>PB</td>\n",
       "      <td>43</td>\n",
       "      <td>A Little Party Never Killed Nobody (All We Got)</td>\n",
       "      <td>Fergie</td>\n",
       "      <td>241306</td>\n",
       "      <td>Music From Baz Luhrmann's Film The Great Gatsby</td>\n",
       "    </tr>\n",
       "  </tbody>\n",
       "</table>\n",
       "<p>150 rows × 6 columns</p>\n",
       "</div>"
      ],
      "text/plain": [
       "     playlist_name  position_in_playlist  \\\n",
       "0    Wedding Music                     0   \n",
       "1    Wedding Music                     1   \n",
       "2    Wedding Music                     2   \n",
       "3    Wedding Music                     3   \n",
       "4    Wedding Music                     4   \n",
       "..             ...                   ...   \n",
       "147             PB                    39   \n",
       "148             PB                    40   \n",
       "149             PB                    41   \n",
       "150             PB                    42   \n",
       "151             PB                    43   \n",
       "\n",
       "                                          track_name      artist_name  \\\n",
       "0                                     Always Forever     Phil Wickham   \n",
       "1                                     Divine Romance     Phil Wickham   \n",
       "2                         Messiah / You're Beautiful     Phil Wickham   \n",
       "3                                Love Is Not A Fight  Warren Barfield   \n",
       "4                                    When I Say I Do     Matthew West   \n",
       "..                                               ...              ...   \n",
       "147                                       Chill Bill        Rob $tone   \n",
       "148      Light It Up (feat. Nyla & Fuse ODG) - Remix      Major Lazer   \n",
       "149            Party Like We're Animals - Radio Edit            Klaas   \n",
       "150                                    This Is Dirty            DVBBS   \n",
       "151  A Little Party Never Killed Nobody (All We Got)           Fergie   \n",
       "\n",
       "     duration_ms                                       album_name  \n",
       "0         281880                                     Phil Wickham  \n",
       "1         298026                                     Phil Wickham  \n",
       "2         293720                                          Cannons  \n",
       "3         222986                               Worth Fighting For  \n",
       "4         246000                                   Hold You Up EP  \n",
       "..           ...                                              ...  \n",
       "147       177184                                       Chill Bill  \n",
       "148       166138                   Peace Is The Mission: Extended  \n",
       "149       191453                         Party Like We're Animals  \n",
       "150       295786                                    We Were Young  \n",
       "151       241306  Music From Baz Luhrmann's Film The Great Gatsby  \n",
       "\n",
       "[150 rows x 6 columns]"
      ]
     },
     "execution_count": 9,
     "metadata": {},
     "output_type": "execute_result"
    }
   ],
   "source": [
    "track_name.head(150)"
   ]
  },
  {
   "cell_type": "code",
   "execution_count": 10,
   "id": "2e4e8b88",
   "metadata": {},
   "outputs": [],
   "source": [
    "df_artists = df.drop_duplicates(subset=['artist_name'])"
   ]
  },
  {
   "cell_type": "code",
   "execution_count": 11,
   "id": "f621c358",
   "metadata": {},
   "outputs": [
    {
     "name": "stdout",
     "output_type": "stream",
     "text": [
      "<class 'pandas.core.frame.DataFrame'>\n",
      "Int64Index: 45454 entries, 0 to 1077561\n",
      "Data columns (total 6 columns):\n",
      " #   Column                Non-Null Count  Dtype \n",
      "---  ------                --------------  ----- \n",
      " 0   playlist_name         45454 non-null  object\n",
      " 1   position_in_playlist  45454 non-null  int64 \n",
      " 2   track_name            45454 non-null  object\n",
      " 3   artist_name           45454 non-null  object\n",
      " 4   duration_ms           45454 non-null  int64 \n",
      " 5   album_name            45454 non-null  object\n",
      "dtypes: int64(2), object(4)\n",
      "memory usage: 2.4+ MB\n"
     ]
    }
   ],
   "source": [
    "df_artists.info()"
   ]
  },
  {
   "cell_type": "code",
   "execution_count": 12,
   "id": "6c440c5e",
   "metadata": {},
   "outputs": [],
   "source": [
    "playlists = df.drop_duplicates(subset=['playlist_name'])"
   ]
  },
  {
   "cell_type": "code",
   "execution_count": 13,
   "id": "fcf511ef",
   "metadata": {},
   "outputs": [
    {
     "name": "stdout",
     "output_type": "stream",
     "text": [
      "<class 'pandas.core.frame.DataFrame'>\n",
      "Int64Index: 8650 entries, 0 to 1077551\n",
      "Data columns (total 6 columns):\n",
      " #   Column                Non-Null Count  Dtype \n",
      "---  ------                --------------  ----- \n",
      " 0   playlist_name         8650 non-null   object\n",
      " 1   position_in_playlist  8650 non-null   int64 \n",
      " 2   track_name            8650 non-null   object\n",
      " 3   artist_name           8650 non-null   object\n",
      " 4   duration_ms           8650 non-null   int64 \n",
      " 5   album_name            8650 non-null   object\n",
      "dtypes: int64(2), object(4)\n",
      "memory usage: 473.0+ KB\n"
     ]
    }
   ],
   "source": [
    "playlists.info()"
   ]
  },
  {
   "cell_type": "code",
   "execution_count": null,
   "id": "c3dad951",
   "metadata": {},
   "outputs": [],
   "source": []
  },
  {
   "cell_type": "code",
   "execution_count": null,
   "id": "ac27fa3d",
   "metadata": {},
   "outputs": [],
   "source": []
  }
 ],
 "metadata": {
  "kernelspec": {
   "display_name": "Python 3 (ipykernel)",
   "language": "python",
   "name": "python3"
  },
  "language_info": {
   "codemirror_mode": {
    "name": "ipython",
    "version": 3
   },
   "file_extension": ".py",
   "mimetype": "text/x-python",
   "name": "python",
   "nbconvert_exporter": "python",
   "pygments_lexer": "ipython3",
   "version": "3.9.13"
  }
 },
 "nbformat": 4,
 "nbformat_minor": 5
}
