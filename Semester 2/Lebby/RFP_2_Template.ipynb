{
 "cells": [
  {
   "cell_type": "markdown",
   "id": "1b940825",
   "metadata": {},
   "source": [
    "# RFP: Targeted Taco Bell Ads\n",
    "\n",
    "## Project Overview\n",
    "You are invited to submit a proposal that answers the following question:\n",
    "\n",
    "### What ad will you create and why?\n",
    "\n",
    "*Please submit your proposal by **1/30/25 at 11:59 PM**.*"
   ]
  },
  {
   "cell_type": "markdown",
   "id": "968a85f0",
   "metadata": {},
   "source": [
    "## Required Proposal Components\n",
    "\n",
    "### 1. Data Description\n",
    "In the code cell below, read in the data you will need to train and test your model. Call `info()` once you have read the data into a dataframe. Consider using some or all of the following sources:\n",
    "- [Customer Demographics](https://drive.google.com/file/d/1HK42Oa3bhhRDWR1y1wVBDAQ2tbNwg1gS/view?usp=sharing)\n",
    "- [Ad Response Data](https://drive.google.com/file/d/1cuLqXPNKhP66m5BP9BAlci2G--Vopt-Z/view?usp=sharing)\n",
    "\n",
    "*Note, a level 5 dataset combines these two data sets.*"
   ]
  },
  {
   "cell_type": "code",
   "execution_count": 1,
   "id": "08c1688a",
   "metadata": {},
   "outputs": [
    {
     "name": "stdout",
     "output_type": "stream",
     "text": [
      "<class 'pandas.core.frame.DataFrame'>\n",
      "RangeIndex: 10000 entries, 0 to 9999\n",
      "Data columns (total 6 columns):\n",
      " #   Column            Non-Null Count  Dtype \n",
      "---  ------            --------------  ----- \n",
      " 0   customer_id       10000 non-null  int64 \n",
      " 1   ad_type           10000 non-null  object\n",
      " 2   ad_medium         10000 non-null  object\n",
      " 3   ad_response       10000 non-null  bool  \n",
      " 4   items_purchased   10000 non-null  object\n",
      " 5   drinks_purchased  10000 non-null  object\n",
      "dtypes: bool(1), int64(1), object(4)\n",
      "memory usage: 400.5+ KB\n"
     ]
    }
   ],
   "source": [
    "import pandas as pd\n",
    "import numpy as np\n",
    "import seaborn as sns\n",
    "import math\n",
    "import matplotlib.pyplot as plt\n",
    "from sklearn.preprocessing import StandardScaler\n",
    "from sklearn.model_selection import train_test_split\n",
    "from sklearn.cluster import KMeans\n",
    "df1 = pd.read_csv(\"ad_data.csv\")\n",
    "df2 = pd.read_csv(\"customer_data.csv\")\n",
    "df1.info()"
   ]
  },
  {
   "cell_type": "code",
   "execution_count": 2,
   "id": "ec99550a",
   "metadata": {},
   "outputs": [
    {
     "name": "stdout",
     "output_type": "stream",
     "text": [
      "<class 'pandas.core.frame.DataFrame'>\n",
      "RangeIndex: 10000 entries, 0 to 9999\n",
      "Data columns (total 7 columns):\n",
      " #   Column       Non-Null Count  Dtype  \n",
      "---  ------       --------------  -----  \n",
      " 0   customer_id  10000 non-null  int64  \n",
      " 1   state        10000 non-null  object \n",
      " 2   sex          10000 non-null  object \n",
      " 3   age          10000 non-null  float64\n",
      " 4   occupation   10000 non-null  object \n",
      " 5   family_size  10000 non-null  int64  \n",
      " 6   income       10000 non-null  int64  \n",
      "dtypes: float64(1), int64(3), object(3)\n",
      "memory usage: 547.0+ KB\n"
     ]
    }
   ],
   "source": [
    "df2.info()"
   ]
  },
  {
   "cell_type": "code",
   "execution_count": 3,
   "id": "ce23dce8",
   "metadata": {},
   "outputs": [],
   "source": [
    "df = pd.merge(df1, df2, on='customer_id', how='inner')"
   ]
  },
  {
   "cell_type": "code",
   "execution_count": 4,
   "id": "ed19cb16",
   "metadata": {
    "scrolled": false
   },
   "outputs": [
    {
     "data": {
      "text/html": [
       "<div>\n",
       "<style scoped>\n",
       "    .dataframe tbody tr th:only-of-type {\n",
       "        vertical-align: middle;\n",
       "    }\n",
       "\n",
       "    .dataframe tbody tr th {\n",
       "        vertical-align: top;\n",
       "    }\n",
       "\n",
       "    .dataframe thead th {\n",
       "        text-align: right;\n",
       "    }\n",
       "</style>\n",
       "<table border=\"1\" class=\"dataframe\">\n",
       "  <thead>\n",
       "    <tr style=\"text-align: right;\">\n",
       "      <th></th>\n",
       "      <th>customer_id</th>\n",
       "      <th>ad_type</th>\n",
       "      <th>ad_medium</th>\n",
       "      <th>ad_response</th>\n",
       "      <th>items_purchased</th>\n",
       "      <th>drinks_purchased</th>\n",
       "      <th>state</th>\n",
       "      <th>sex</th>\n",
       "      <th>age</th>\n",
       "      <th>occupation</th>\n",
       "      <th>family_size</th>\n",
       "      <th>income</th>\n",
       "    </tr>\n",
       "  </thead>\n",
       "  <tbody>\n",
       "    <tr>\n",
       "      <th>0</th>\n",
       "      <td>3226</td>\n",
       "      <td>BOGO - Garlic Steak Nacho Fries</td>\n",
       "      <td>15 sec YouTube ad</td>\n",
       "      <td>True</td>\n",
       "      <td>['steak garlic nacho fries', 'steak garlic nac...</td>\n",
       "      <td>['gatorade', 'mug root beer', 'baja blast', 'd...</td>\n",
       "      <td>CA</td>\n",
       "      <td>M</td>\n",
       "      <td>30.0</td>\n",
       "      <td>Government</td>\n",
       "      <td>5</td>\n",
       "      <td>62303</td>\n",
       "    </tr>\n",
       "    <tr>\n",
       "      <th>1</th>\n",
       "      <td>5217</td>\n",
       "      <td>DISCOUNT-50%</td>\n",
       "      <td>15 sec YouTube ad</td>\n",
       "      <td>False</td>\n",
       "      <td>['crunchy taco', 'cheesy bean and rice burrito']</td>\n",
       "      <td>['gatorade', 'diet pepsi']</td>\n",
       "      <td>OH</td>\n",
       "      <td>M</td>\n",
       "      <td>36.0</td>\n",
       "      <td>Retail</td>\n",
       "      <td>1</td>\n",
       "      <td>39638</td>\n",
       "    </tr>\n",
       "    <tr>\n",
       "      <th>2</th>\n",
       "      <td>5247</td>\n",
       "      <td>REWARD - Free Garlic Steak Nacho Fries with pu...</td>\n",
       "      <td>15 sec YouTube ad</td>\n",
       "      <td>True</td>\n",
       "      <td>['steak garlic nacho fries', 'cheesy gordita c...</td>\n",
       "      <td>['mountain dew', 'starry']</td>\n",
       "      <td>WV</td>\n",
       "      <td>M</td>\n",
       "      <td>31.0</td>\n",
       "      <td>IT</td>\n",
       "      <td>1</td>\n",
       "      <td>112766</td>\n",
       "    </tr>\n",
       "    <tr>\n",
       "      <th>3</th>\n",
       "      <td>7793</td>\n",
       "      <td>DISCOUNT-5%</td>\n",
       "      <td>30 sec Hulu commercial</td>\n",
       "      <td>False</td>\n",
       "      <td>['crunchwrap supreme', 'cravings box', 'crunch...</td>\n",
       "      <td>['baja blast', 'brisk', 'mountain dew']</td>\n",
       "      <td>MI</td>\n",
       "      <td>F</td>\n",
       "      <td>57.0</td>\n",
       "      <td>Government</td>\n",
       "      <td>2</td>\n",
       "      <td>137374</td>\n",
       "    </tr>\n",
       "    <tr>\n",
       "      <th>4</th>\n",
       "      <td>5759</td>\n",
       "      <td>DISCOUNT-50%</td>\n",
       "      <td>15 sec YouTube ad</td>\n",
       "      <td>False</td>\n",
       "      <td>['nachos bellgrande', 'crunchy taco']</td>\n",
       "      <td>['pepsi', 'diet pepsi']</td>\n",
       "      <td>RI</td>\n",
       "      <td>M</td>\n",
       "      <td>22.0</td>\n",
       "      <td>Education</td>\n",
       "      <td>1</td>\n",
       "      <td>41748</td>\n",
       "    </tr>\n",
       "    <tr>\n",
       "      <th>...</th>\n",
       "      <td>...</td>\n",
       "      <td>...</td>\n",
       "      <td>...</td>\n",
       "      <td>...</td>\n",
       "      <td>...</td>\n",
       "      <td>...</td>\n",
       "      <td>...</td>\n",
       "      <td>...</td>\n",
       "      <td>...</td>\n",
       "      <td>...</td>\n",
       "      <td>...</td>\n",
       "      <td>...</td>\n",
       "    </tr>\n",
       "    <tr>\n",
       "      <th>9995</th>\n",
       "      <td>904</td>\n",
       "      <td>BOGO - Baja Blast</td>\n",
       "      <td>15 sec TikTok ad</td>\n",
       "      <td>False</td>\n",
       "      <td>['steak garlic nacho fries']</td>\n",
       "      <td>['mountain dew']</td>\n",
       "      <td>CA</td>\n",
       "      <td>F</td>\n",
       "      <td>27.0</td>\n",
       "      <td>Government</td>\n",
       "      <td>0</td>\n",
       "      <td>56754</td>\n",
       "    </tr>\n",
       "    <tr>\n",
       "      <th>9996</th>\n",
       "      <td>8731</td>\n",
       "      <td>DISCOUNT-5%</td>\n",
       "      <td>Static Facebook ad</td>\n",
       "      <td>False</td>\n",
       "      <td>['crunchwrap supreme', 'spicy potato soft taco...</td>\n",
       "      <td>['mountain dew', 'brisk', 'starry', 'baja blast']</td>\n",
       "      <td>MI</td>\n",
       "      <td>M</td>\n",
       "      <td>44.0</td>\n",
       "      <td>Retail</td>\n",
       "      <td>3</td>\n",
       "      <td>47341</td>\n",
       "    </tr>\n",
       "    <tr>\n",
       "      <th>9997</th>\n",
       "      <td>7396</td>\n",
       "      <td>DISCOUNT-10%</td>\n",
       "      <td>15 sec TikTok ad</td>\n",
       "      <td>False</td>\n",
       "      <td>['steak garlic nacho fries']</td>\n",
       "      <td>['gatorade']</td>\n",
       "      <td>UT</td>\n",
       "      <td>M</td>\n",
       "      <td>26.0</td>\n",
       "      <td>Healthcare</td>\n",
       "      <td>0</td>\n",
       "      <td>77525</td>\n",
       "    </tr>\n",
       "    <tr>\n",
       "      <th>9998</th>\n",
       "      <td>8559</td>\n",
       "      <td>DISCOUNT-10%</td>\n",
       "      <td>30 sec cable TV ad</td>\n",
       "      <td>False</td>\n",
       "      <td>['cinnamon twists', 'mexican pizza', 'cinnamon...</td>\n",
       "      <td>['gatorade', 'mug root beer', 'iced tea', 'ice...</td>\n",
       "      <td>FL</td>\n",
       "      <td>F</td>\n",
       "      <td>67.0</td>\n",
       "      <td>Retired</td>\n",
       "      <td>5</td>\n",
       "      <td>0</td>\n",
       "    </tr>\n",
       "    <tr>\n",
       "      <th>9999</th>\n",
       "      <td>7641</td>\n",
       "      <td>DISCOUNT-20%</td>\n",
       "      <td>15 sec YouTube ad</td>\n",
       "      <td>False</td>\n",
       "      <td>['chicken quesadilla']</td>\n",
       "      <td>['baja blast']</td>\n",
       "      <td>TX</td>\n",
       "      <td>F</td>\n",
       "      <td>19.0</td>\n",
       "      <td>Student</td>\n",
       "      <td>0</td>\n",
       "      <td>13664</td>\n",
       "    </tr>\n",
       "  </tbody>\n",
       "</table>\n",
       "<p>10000 rows × 12 columns</p>\n",
       "</div>"
      ],
      "text/plain": [
       "      customer_id                                            ad_type  \\\n",
       "0            3226                    BOGO - Garlic Steak Nacho Fries   \n",
       "1            5217                                       DISCOUNT-50%   \n",
       "2            5247  REWARD - Free Garlic Steak Nacho Fries with pu...   \n",
       "3            7793                                        DISCOUNT-5%   \n",
       "4            5759                                       DISCOUNT-50%   \n",
       "...           ...                                                ...   \n",
       "9995          904                                  BOGO - Baja Blast   \n",
       "9996         8731                                        DISCOUNT-5%   \n",
       "9997         7396                                       DISCOUNT-10%   \n",
       "9998         8559                                       DISCOUNT-10%   \n",
       "9999         7641                                       DISCOUNT-20%   \n",
       "\n",
       "                   ad_medium  ad_response  \\\n",
       "0          15 sec YouTube ad         True   \n",
       "1          15 sec YouTube ad        False   \n",
       "2          15 sec YouTube ad         True   \n",
       "3     30 sec Hulu commercial        False   \n",
       "4          15 sec YouTube ad        False   \n",
       "...                      ...          ...   \n",
       "9995        15 sec TikTok ad        False   \n",
       "9996      Static Facebook ad        False   \n",
       "9997        15 sec TikTok ad        False   \n",
       "9998      30 sec cable TV ad        False   \n",
       "9999       15 sec YouTube ad        False   \n",
       "\n",
       "                                        items_purchased  \\\n",
       "0     ['steak garlic nacho fries', 'steak garlic nac...   \n",
       "1      ['crunchy taco', 'cheesy bean and rice burrito']   \n",
       "2     ['steak garlic nacho fries', 'cheesy gordita c...   \n",
       "3     ['crunchwrap supreme', 'cravings box', 'crunch...   \n",
       "4                 ['nachos bellgrande', 'crunchy taco']   \n",
       "...                                                 ...   \n",
       "9995                       ['steak garlic nacho fries']   \n",
       "9996  ['crunchwrap supreme', 'spicy potato soft taco...   \n",
       "9997                       ['steak garlic nacho fries']   \n",
       "9998  ['cinnamon twists', 'mexican pizza', 'cinnamon...   \n",
       "9999                             ['chicken quesadilla']   \n",
       "\n",
       "                                       drinks_purchased state sex   age  \\\n",
       "0     ['gatorade', 'mug root beer', 'baja blast', 'd...    CA   M  30.0   \n",
       "1                            ['gatorade', 'diet pepsi']    OH   M  36.0   \n",
       "2                            ['mountain dew', 'starry']    WV   M  31.0   \n",
       "3               ['baja blast', 'brisk', 'mountain dew']    MI   F  57.0   \n",
       "4                               ['pepsi', 'diet pepsi']    RI   M  22.0   \n",
       "...                                                 ...   ...  ..   ...   \n",
       "9995                                   ['mountain dew']    CA   F  27.0   \n",
       "9996  ['mountain dew', 'brisk', 'starry', 'baja blast']    MI   M  44.0   \n",
       "9997                                       ['gatorade']    UT   M  26.0   \n",
       "9998  ['gatorade', 'mug root beer', 'iced tea', 'ice...    FL   F  67.0   \n",
       "9999                                     ['baja blast']    TX   F  19.0   \n",
       "\n",
       "      occupation  family_size  income  \n",
       "0     Government            5   62303  \n",
       "1         Retail            1   39638  \n",
       "2             IT            1  112766  \n",
       "3     Government            2  137374  \n",
       "4      Education            1   41748  \n",
       "...          ...          ...     ...  \n",
       "9995  Government            0   56754  \n",
       "9996      Retail            3   47341  \n",
       "9997  Healthcare            0   77525  \n",
       "9998     Retired            5       0  \n",
       "9999     Student            0   13664  \n",
       "\n",
       "[10000 rows x 12 columns]"
      ]
     },
     "execution_count": 4,
     "metadata": {},
     "output_type": "execute_result"
    }
   ],
   "source": [
    "df"
   ]
  },
  {
   "cell_type": "code",
   "execution_count": 5,
   "id": "16b87551",
   "metadata": {},
   "outputs": [
    {
     "name": "stdout",
     "output_type": "stream",
     "text": [
      "<class 'pandas.core.frame.DataFrame'>\n",
      "Int64Index: 10000 entries, 0 to 9999\n",
      "Data columns (total 12 columns):\n",
      " #   Column            Non-Null Count  Dtype  \n",
      "---  ------            --------------  -----  \n",
      " 0   customer_id       10000 non-null  int64  \n",
      " 1   ad_type           10000 non-null  object \n",
      " 2   ad_medium         10000 non-null  object \n",
      " 3   ad_response       10000 non-null  bool   \n",
      " 4   items_purchased   10000 non-null  object \n",
      " 5   drinks_purchased  10000 non-null  object \n",
      " 6   state             10000 non-null  object \n",
      " 7   sex               10000 non-null  object \n",
      " 8   age               10000 non-null  float64\n",
      " 9   occupation        10000 non-null  object \n",
      " 10  family_size       10000 non-null  int64  \n",
      " 11  income            10000 non-null  int64  \n",
      "dtypes: bool(1), float64(1), int64(3), object(7)\n",
      "memory usage: 947.3+ KB\n"
     ]
    }
   ],
   "source": [
    "df.info()"
   ]
  },
  {
   "cell_type": "markdown",
   "id": "880ff05f",
   "metadata": {},
   "source": [
    "### 2. Training Your Model\n",
    "In the cell seen below, write the code you need to train a K-means clustering model. Make sure you describe the center of each cluster found.\n",
    "\n",
    "*Note, level 5 work uses at least 3 features to train a K-means model using only the standard Python library and Pandas. A level 4 uses external libraries like scikit or numpy.*"
   ]
  },
  {
   "cell_type": "code",
   "execution_count": 6,
   "id": "10c3933a",
   "metadata": {},
   "outputs": [],
   "source": [
    "numeric_data = df.select_dtypes(include=[np.number])\n",
    "numeric_data = numeric_data.fillna(numeric_data.mean())\n",
    "scaler = StandardScaler()\n",
    "normalized_data = scaler.fit_transform(numeric_data)"
   ]
  },
  {
   "cell_type": "code",
   "execution_count": 7,
   "id": "a510ebaa",
   "metadata": {},
   "outputs": [
    {
     "data": {
      "image/png": "[encoded data removed]",
      "text/plain": [
       "<Figure size 800x600 with 1 Axes>"
      ]
     },
     "metadata": {},
     "output_type": "display_data"
    }
   ],
   "source": [
    "distortions = []\n",
    "k_range = range(1, 11)\n",
    "\n",
    "for k in k_range:\n",
    "    kmeans = KMeans(n_clusters=k, random_state=42)\n",
    "    kmeans.fit(normalized_data)\n",
    "    distortions.append(kmeans.inertia_)  # Sum of squared distances to cluster center\n",
    "\n",
    "plt.figure(figsize=(8, 6))\n",
    "plt.plot(k_range, distortions, marker='o')\n",
    "plt.title('Elbow graph')\n",
    "plt.xlabel('Number of clusters (k)')\n",
    "plt.ylabel('Distortion')\n",
    "plt.show()"
   ]
  },
  {
   "cell_type": "code",
   "execution_count": 8,
   "id": "91602e96",
   "metadata": {},
   "outputs": [
    {
     "name": "stdout",
     "output_type": "stream",
     "text": [
      "   customer_id                                            ad_type  \\\n",
      "0         3226                    BOGO - Garlic Steak Nacho Fries   \n",
      "1         5217                                       DISCOUNT-50%   \n",
      "2         5247  REWARD - Free Garlic Steak Nacho Fries with pu...   \n",
      "3         7793                                        DISCOUNT-5%   \n",
      "4         5759                                       DISCOUNT-50%   \n",
      "\n",
      "                ad_medium  ad_response  \\\n",
      "0       15 sec YouTube ad         True   \n",
      "1       15 sec YouTube ad        False   \n",
      "2       15 sec YouTube ad         True   \n",
      "3  30 sec Hulu commercial        False   \n",
      "4       15 sec YouTube ad        False   \n",
      "\n",
      "                                     items_purchased  \\\n",
      "0  ['steak garlic nacho fries', 'steak garlic nac...   \n",
      "1   ['crunchy taco', 'cheesy bean and rice burrito']   \n",
      "2  ['steak garlic nacho fries', 'cheesy gordita c...   \n",
      "3  ['crunchwrap supreme', 'cravings box', 'crunch...   \n",
      "4              ['nachos bellgrande', 'crunchy taco']   \n",
      "\n",
      "                                    drinks_purchased state sex   age  \\\n",
      "0  ['gatorade', 'mug root beer', 'baja blast', 'd...    CA   M  30.0   \n",
      "1                         ['gatorade', 'diet pepsi']    OH   M  36.0   \n",
      "2                         ['mountain dew', 'starry']    WV   M  31.0   \n",
      "3            ['baja blast', 'brisk', 'mountain dew']    MI   F  57.0   \n",
      "4                            ['pepsi', 'diet pepsi']    RI   M  22.0   \n",
      "\n",
      "   occupation  family_size  income  Cluster  \n",
      "0  Government            5   62303        0  \n",
      "1      Retail            1   39638        3  \n",
      "2          IT            1  112766        3  \n",
      "3  Government            2  137374        2  \n",
      "4   Education            1   41748        3  \n"
     ]
    }
   ],
   "source": [
    "optimal_k = 4\n",
    "kmeans = KMeans(n_clusters=optimal_k, random_state=42)\n",
    "kmeans.fit(normalized_data)\n",
    "\n",
    "# Add the cluster labels to your DataFrame\n",
    "df['Cluster'] = kmeans.labels_\n",
    "print(df.head())"
   ]
  },
  {
   "cell_type": "markdown",
   "id": "0fe52f67",
   "metadata": {},
   "source": [
    "#### Don't forget to describe the centers of the clusters you found."
   ]
  },
  {
   "cell_type": "markdown",
   "id": "a1f271c9",
   "metadata": {},
   "source": [
    "### Cluster 1: Middle aged people who are upper-middle class\n",
    "### Cluster 3: Old adults who are upper class"
   ]
  },
  {
   "cell_type": "markdown",
   "id": "cfb2b903",
   "metadata": {},
   "source": [
    "### 3. Testing Your Model\n",
    "In the cell seen below, write the code you need to test your K-means model. Then, interpret your findings.\n",
    "\n",
    "*Note, level 5 testing uses both an elbow plot and a silhouette score to evaluate your model. Level 4 uses one or the other.*"
   ]
  },
  {
   "cell_type": "code",
   "execution_count": 9,
   "id": "24f8b990",
   "metadata": {},
   "outputs": [],
   "source": [
    "# Test model here."
   ]
  },
  {
   "cell_type": "markdown",
   "id": "32a8c369",
   "metadata": {},
   "source": [
    "#### Interpret your elbow plot and/or silhouette score here."
   ]
  },
  {
   "cell_type": "markdown",
   "id": "343eb3f7",
   "metadata": {},
   "source": [
    "### 4. Final Answer\n",
    "\n",
    "In the first cell seen below, describe the cluster you have chosen to target with your ad, making sure to describe the type of ad they were the most likely to respond to. Then, use software of your choosing to create the ad you will need to target this cluster. You do not need to create an ad for both the nacho fries and the Baja Blast. You can focus on one if that's what your cluster cares about most.\n",
    "\n",
    "In the second cell seen below, include a link to your ad.\n",
    "\n",
    "*Note, a level 5 ad uses the medium (static image or video) the cluster most likely responded to.* "
   ]
  },
  {
   "cell_type": "markdown",
   "id": "25533722",
   "metadata": {},
   "source": [
    "#### Describe the cluster you are targeting here."
   ]
  },
  {
   "cell_type": "markdown",
   "id": "e29adde2",
   "metadata": {},
   "source": [
    "#### Link your ad here."
   ]
  }
 ],
 "metadata": {
  "kernelspec": {
   "display_name": "Python 3 (ipykernel)",
   "language": "python",
   "name": "python3"
  },
  "language_info": {
   "codemirror_mode": {
    "name": "ipython",
    "version": 3
   },
   "file_extension": ".py",
   "mimetype": "text/x-python",
   "name": "python",
   "nbconvert_exporter": "python",
   "pygments_lexer": "ipython3",
   "version": "3.9.13"
  }
 },
 "nbformat": 4,
 "nbformat_minor": 5
}
