{
 "cells": [
  {
   "cell_type": "markdown",
   "id": "fdb73e9d",
   "metadata": {},
   "source": [
    "# RFP: Maze Solvers\n",
    "\n",
    "## Project Overview\n",
    "You are invited to submit a proposal that answers the following question:\n",
    "\n",
    "### What path will your elf take?\n",
    "\n",
    "*Please submit your proposal by **2/11/25 at 11:59 PM**.*"
   ]
  },
  {
   "cell_type": "markdown",
   "id": "d88b6a60",
   "metadata": {},
   "source": [
    "## Required Proposal Components\n",
    "\n",
    "### 1. Data Description\n",
    "In the code cell below, use [Gymnasium](https://gymnasium.farama.org/) to set up a [Frozen Lake maze](https://gymnasium.farama.org/environments/toy_text/frozen_lake/) for your project. When you are done with the set up, describe the reward system you plan on using.\n",
    "\n",
    "*Note, a level 5 maze is at least 10 x 10 cells large and contains at least five lake cells.*"
   ]
  },
  {
   "cell_type": "code",
   "execution_count": 1,
   "id": "8744bf04",
   "metadata": {},
   "outputs": [],
   "source": [
    "import gymnasium as gym\n",
    "from gymnasium.envs.toy_text.frozen_lake import generate_random_map\n",
    "import random\n",
    "import numpy as np"
   ]
  },
  {
   "cell_type": "code",
   "execution_count": 2,
   "id": "34314a12",
   "metadata": {},
   "outputs": [],
   "source": [
    "# Make maze\n",
    "\n",
    "env = gym.make('FrozenLake-v1', desc=generate_random_map(size=10, seed=259),  is_slippery=False)"
   ]
  },
  {
   "cell_type": "code",
   "execution_count": 3,
   "id": "0f243754",
   "metadata": {},
   "outputs": [],
   "source": [
    "# Get state and action sizes\n",
    "state_size = env.observation_space.n\n",
    "action_size = env.action_space.n\n",
    "\n",
    "# Extract hole ('H'), empty ('F'), and goal ('G') positions\n",
    "desc = env.unwrapped.desc\n",
    "hole_states = {i for i, row in enumerate(desc.flatten()) if row == b'H'}\n",
    "empty_states = {i for i, row in enumerate(desc.flatten()) if row == b'F'}\n",
    "goal_state = {i for i, row in enumerate(desc.flatten()) if row == b'G'}\n",
    "\n",
    "# Initialize Q-table with small random values to encourage exploration\n",
    "qtable = np.random.uniform(low=-0.5, high=0.5, size=(state_size, action_size))"
   ]
  },
  {
   "cell_type": "markdown",
   "id": "c38ed9f9",
   "metadata": {},
   "source": [
    "#### Describe your reward system here."
   ]
  },
  {
   "cell_type": "markdown",
   "id": "67f80b3f",
   "metadata": {},
   "source": [
    "### 2. Training Your Model\n",
    "In the cell seen below, write the code you need to train a Q-Learning model. Display your final Q-table once you are done training your model.\n",
    "\n",
    "*Note, level 5 work uses only the standard Python library and Pandas to train your Q-Learning model. A level 4 uses external libraries like Baseline3.*"
   ]
  },
  {
   "cell_type": "code",
   "execution_count": 4,
   "id": "72f4456c",
   "metadata": {},
   "outputs": [],
   "source": [
    "# Training parameters\n",
    "total_episodes = 10000  # Increase episodes for better learning\n",
    "max_steps = 200  \n",
    "learning_rate = 0.95  # Keep high at the start for faster learning\n",
    "gamma = 0.75  # Higher discount factor to encourage long-term rewards\n",
    "epsilon = 0.9  \n",
    "min_epsilon = 0.01  # Allow more exploration for longer\n",
    "decay_rate = 0.005  # Slower decay to ensure sufficient exploration"
   ]
  },
  {
   "cell_type": "code",
   "execution_count": null,
   "id": "73e62305",
   "metadata": {},
   "outputs": [],
   "source": [
    "# Training loop\n",
    "rewards = []\n",
    "for episode in range(total_episodes):\n",
    "    state, _ = env.reset()\n",
    "    total_rewards = 0\n",
    "    done = False\n",
    "\n",
    "    for step in range(max_steps):\n",
    "        # Choose action using epsilon-greedy strategy\n",
    "        if random.uniform(0, 1) > epsilon:\n",
    "            action = np.argmax(qtable[state])  # Exploit\n",
    "        else:\n",
    "            action = env.action_space.sample()  # Explore\n",
    "\n",
    "        # Take action\n",
    "        new_state, reward, done, truncated, _ = env.step(action)\n",
    "\n",
    "        # Modify rewards\n",
    "        if new_state in hole_states:\n",
    "            reward = -1.0  # Higher penalty for falling in a hole\n",
    "        elif new_state in empty_states:\n",
    "            reward = 0.1  # Small reward for moving forward\n",
    "        elif new_state in goal_state:\n",
    "            reward = 1.0  # Higher reward for reaching goal\n",
    "\n",
    "        # Q-learning update\n",
    "        qtable[state, action] = qtable[state, action] + learning_rate * (\n",
    "            reward + gamma * np.max(qtable[new_state]) - qtable[state, action]\n",
    "        )\n",
    "\n",
    "        total_rewards += reward\n",
    "        state = new_state\n",
    "\n",
    "        if done or truncated:\n",
    "            break\n",
    "\n",
    "    # Decay epsilon slower for better exploration\n",
    "    epsilon = max(min_epsilon, epsilon * np.exp(-decay_rate * episode))\n",
    "    rewards.append(total_rewards)"
   ]
  },
  {
   "cell_type": "markdown",
   "id": "3b912364",
   "metadata": {},
   "source": [
    "### 3. Testing Your Model\n",
    "In the cell seen below, write the code you need to test your Q-Learning model for **1000 episodes**. It is important to test your model for 1000 episodes so that we are all able to compare our results.\n",
    "\n",
    "*Note, level 5 testing uses both a success rate and an average steps taken metric to evaluate your model. Level 4 uses one or the other.*"
   ]
  },
  {
   "cell_type": "code",
   "execution_count": null,
   "id": "e30cf1dd",
   "metadata": {
    "scrolled": true
   },
   "outputs": [],
   "source": [
    "# Print results\n",
    "print(\"Score over time:\", sum(rewards) / total_episodes)\n",
    "print(\"Q-Table:\")\n",
    "print(qtable)"
   ]
  },
  {
   "cell_type": "code",
   "execution_count": null,
   "id": "a4f3491e",
   "metadata": {},
   "outputs": [],
   "source": [
    "# Variables to track success and steps\n",
    "total_episodes = 1000  # Number of episodes to run\n",
    "successful_episodes = 0\n",
    "total_steps = 0\n",
    "\n",
    "for episode in range(total_episodes):\n",
    "    state = env.reset()[0]  # Reset environment and get initial state\n",
    "    done = False\n",
    "    steps = 0\n",
    "\n",
    "    while not done:\n",
    "        action = np.argmax(qtable[state, :])  # Pick the best action based on Q-values\n",
    "        new_state, reward, done, truncated, _ = env.step(action)  # Take action\n",
    "        state = new_state  # Move to the next state\n",
    "        steps += 1\n",
    "\n",
    "    total_steps += steps\n",
    "\n",
    "    if reward == 1:\n",
    "        successful_episodes += 1\n",
    "\n",
    "env.close()  # Close the environment\n",
    "\n",
    "# Calculate success rate and average steps per episode\n",
    "success_rate = successful_episodes / total_episodes\n",
    "average_steps = total_steps / total_episodes\n",
    "\n",
    "print(f\"Success Rate: {success_rate * 100:.2f}%\")\n",
    "print(f\"Average Steps per Episode: {average_steps:.2f}\")"
   ]
  },
  {
   "cell_type": "markdown",
   "id": "78e7e09e",
   "metadata": {},
   "source": [
    "### 4. Final Answer\n",
    "In the first cell below, describe the path your elf takes to get to the gift. *Note, a level 5 answer includes a gif of the path your elf takes in order to reach the gift.*\n",
    "\n",
    "In the second cell seen below, describe how well your Q-Learning model performed. Make sure that you explicitly name the **learning rate**, **the discount factor**, and the **reward system** that you used when training your final model. *Note, a level 5 description describes the model's performance using two types of quantitative evidence.*"
   ]
  },
  {
   "cell_type": "markdown",
   "id": "9b6eef8e",
   "metadata": {},
   "source": [
    "![example image](https://gymnasium.farama.org/_images/frozen_lake.gif)"
   ]
  },
  {
   "cell_type": "markdown",
   "id": "54fdae15",
   "metadata": {},
   "source": [
    "#### Describe the path your elf takes here.\n"
   ]
  },
  {
   "cell_type": "markdown",
   "id": "7854258a",
   "metadata": {},
   "source": [
    "![My GIF](ezgif.com-video-to-gif-converter.gif)"
   ]
  },
  {
   "cell_type": "markdown",
   "id": "6b8f66ed",
   "metadata": {},
   "source": [
    "#### Describe how well your Q-Learning model performed here.\n",
    "\n",
    "##### My Q-Learning Model performed very well as to get the elf to the gift, with only 18 steps. The learning rate I put was a good learning rate because the elf looks like he has learned from learning all over the frozen lakes and is given a great learning model with the discount rate being higher so that the elf can get long term rewards. My reward system consists of a 0.001 reward for an empty space, a -1.1 reward for falling into a hole, and a +1 reward for reaching the gift. As you can see from the gif this is the path it consistantly goes now, and the path really secured a solid path to the gift. Other things that I could consider is that my elf could be put on a slippery frozen lake and still perform just as well. If you have taken a look at my code, I used a strategy to epsilon, by flipping a coin on whether it should exploit or explore. Another thing I did add was a decrease in decay rate so that the elf could explore more than exploit what it knows."
   ]
  },
  {
   "cell_type": "code",
   "execution_count": null,
   "id": "e13c3829",
   "metadata": {},
   "outputs": [],
   "source": []
  }
 ],
 "metadata": {
  "kernelspec": {
   "display_name": "Python 3 (ipykernel)",
   "language": "python",
   "name": "python3"
  },
  "language_info": {
   "codemirror_mode": {
    "name": "ipython",
    "version": 3
   },
   "file_extension": ".py",
   "mimetype": "text/x-python",
   "name": "python",
   "nbconvert_exporter": "python",
   "pygments_lexer": "ipython3",
   "version": "3.9.13"
  }
 },
 "nbformat": 4,
 "nbformat_minor": 5
}
