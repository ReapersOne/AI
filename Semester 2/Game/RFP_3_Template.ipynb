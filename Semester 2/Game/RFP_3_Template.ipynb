{
 "cells": [
  {
   "cell_type": "markdown",
   "id": "fdb73e9d",
   "metadata": {},
   "source": [
    "# RFP: Maze Solvers\n",
    "\n",
    "## Project Overview\n",
    "You are invited to submit a proposal that answers the following question:\n",
    "\n",
    "### What path will your elf take?\n",
    "\n",
    "*Please submit your proposal by **2/11/25 at 11:59 PM**.*"
   ]
  },
  {
   "cell_type": "markdown",
   "id": "d88b6a60",
   "metadata": {},
   "source": [
    "## Required Proposal Components\n",
    "\n",
    "### 1. Data Description\n",
    "In the code cell below, use [Gymnasium](https://gymnasium.farama.org/) to set up a [Frozen Lake maze](https://gymnasium.farama.org/environments/toy_text/frozen_lake/) for your project. When you are done with the set up, describe the reward system you plan on using.\n",
    "\n",
    "*Note, a level 5 maze is at least 10 x 10 cells large and contains at least five lake cells.*"
   ]
  },
  {
   "cell_type": "code",
   "execution_count": 1,
   "id": "8744bf04",
   "metadata": {},
   "outputs": [],
   "source": [
    "import gymnasium as gym\n",
    "from gymnasium.envs.toy_text.frozen_lake import generate_random_map\n",
    "import random\n",
    "import numpy as np"
   ]
  },
  {
   "cell_type": "code",
   "execution_count": 21,
   "id": "34314a12",
   "metadata": {},
   "outputs": [],
   "source": [
    "# Make maze\n",
    "\n",
    "env = gym.make('FrozenLake-v1', render_mode='human', desc=generate_random_map(size=10, seed=259),  is_slippery=False)"
   ]
  },
  {
   "cell_type": "code",
   "execution_count": 3,
   "id": "0f243754",
   "metadata": {},
   "outputs": [],
   "source": [
    "# Get state and action sizes\n",
    "state_size = env.observation_space.n\n",
    "action_size = env.action_space.n\n",
    "\n",
    "# Extract hole ('H'), empty ('F'), and goal ('G') positions\n",
    "desc = env.unwrapped.desc\n",
    "hole_states = {i for i, row in enumerate(desc.flatten()) if row == b'H'}\n",
    "empty_states = {i for i, row in enumerate(desc.flatten()) if row == b'F'}\n",
    "goal_state = {i for i, row in enumerate(desc.flatten()) if row == b'G'}\n",
    "\n",
    "# Initialize Q-table with small random values to encourage exploration\n",
    "qtable = np.random.uniform(low=-0.5, high=0.5, size=(state_size, action_size))"
   ]
  },
  {
   "cell_type": "code",
   "execution_count": 4,
   "id": "0d22a52f",
   "metadata": {},
   "outputs": [],
   "source": [
    "env.close()"
   ]
  },
  {
   "cell_type": "markdown",
   "id": "c38ed9f9",
   "metadata": {},
   "source": [
    "#### Describe your reward system here."
   ]
  },
  {
   "cell_type": "markdown",
   "id": "67f80b3f",
   "metadata": {},
   "source": [
    "### 2. Training Your Model\n",
    "In the cell seen below, write the code you need to train a Q-Learning model. Display your final Q-table once you are done training your model.\n",
    "\n",
    "*Note, level 5 work uses only the standard Python library and Pandas to train your Q-Learning model. A level 4 uses external libraries like Baseline3.*"
   ]
  },
  {
   "cell_type": "code",
   "execution_count": 5,
   "id": "37c14486",
   "metadata": {},
   "outputs": [],
   "source": [
    "# Training parameters\n",
    "total_episodes = 10000  # Increase episodes for better learning\n",
    "max_steps = 200  \n",
    "learning_rate = 0.95  # Keep high at the start for faster learning\n",
    "gamma = 0.75  # Higher discount factor to encourage long-term rewards\n",
    "epsilon = 0.9  \n",
    "min_epsilon = 0.01  # Allow more exploration for longer\n",
    "decay_rate = 0.005  # Slower decay to ensure sufficient exploration"
   ]
  },
  {
   "cell_type": "code",
   "execution_count": 6,
   "id": "73e62305",
   "metadata": {},
   "outputs": [],
   "source": [
    "# Training loop\n",
    "rewards = []\n",
    "for episode in range(total_episodes):\n",
    "    state, _ = env.reset()\n",
    "    total_rewards = 0\n",
    "    done = False\n",
    "\n",
    "    for step in range(max_steps):\n",
    "        # Choose action using epsilon-greedy strategy\n",
    "        if random.uniform(0, 1) > epsilon:\n",
    "            action = np.argmax(qtable[state])  # Exploit\n",
    "        else:\n",
    "            action = env.action_space.sample()  # Explore\n",
    "\n",
    "        # Take action\n",
    "        new_state, reward, done, truncated, _ = env.step(action)\n",
    "\n",
    "        # Modify rewards\n",
    "        if new_state in hole_states:\n",
    "            reward = -1.1  # Higher penalty for falling in a hole\n",
    "        elif new_state in empty_states:\n",
    "            reward = 0.001  # Small reward for moving forward\n",
    "        elif new_state in goal_state:\n",
    "            reward = 1.0  # Higher reward for reaching goal\n",
    "\n",
    "        # Q-learning update\n",
    "        qtable[state, action] = qtable[state, action] + learning_rate * (\n",
    "            reward + gamma * np.max(qtable[new_state]) - qtable[state, action]\n",
    "        )\n",
    "\n",
    "        total_rewards += reward\n",
    "        state = new_state\n",
    "\n",
    "        if done or truncated:\n",
    "            break\n",
    "\n",
    "    # Decay epsilon slower for better exploration\n",
    "    epsilon = max(min_epsilon, epsilon * np.exp(-decay_rate * episode))\n",
    "    rewards.append(total_rewards)"
   ]
  },
  {
   "cell_type": "markdown",
   "id": "3b912364",
   "metadata": {},
   "source": [
    "### 3. Testing Your Model\n",
    "In the cell seen below, write the code you need to test your Q-Learning model for **1000 episodes**. It is important to test your model for 1000 episodes so that we are all able to compare our results.\n",
    "\n",
    "*Note, level 5 testing uses both a success rate and an average steps taken metric to evaluate your model. Level 4 uses one or the other.*"
   ]
  },
  {
   "cell_type": "code",
   "execution_count": 7,
   "id": "e30cf1dd",
   "metadata": {
    "scrolled": true
   },
   "outputs": [
    {
     "name": "stdout",
     "output_type": "stream",
     "text": [
      "Score over time: 0.9743121999998908\n",
      "Q-Table:\n",
      "[[ 8.09287046e-03  1.07904939e-02  1.07904939e-02  8.09287046e-03]\n",
      " [ 8.09287046e-03  1.30539919e-02  1.30539919e-02  1.07904939e-02]\n",
      " [ 4.68565210e-03  1.60719892e-02  4.82483759e-03  4.70432434e-03]\n",
      " [ 4.92285205e-03 -8.16934419e-01  4.90164931e-03  4.94086349e-03]\n",
      " [ 4.95097457e-03  5.04924130e-03 -7.49422320e-01  5.09224698e-03]\n",
      " [ 4.67248518e-01  2.90479170e-01 -1.56293299e-01 -1.79164487e-02]\n",
      " [-7.02277144e-01  6.88322615e-03 -3.26684847e-01 -2.98588105e-01]\n",
      " [-2.54494353e-01  6.63659108e-03 -3.50789966e-01 -4.25983583e-01]\n",
      " [ 3.09454435e-01  4.12372468e-01  4.16536738e-01 -2.60526553e-01]\n",
      " [-2.55239656e-01 -4.79328242e-01  4.41883818e-01  5.29131929e-02]\n",
      " [ 1.07904939e-02  1.30539919e-02  1.30539919e-02  8.09287046e-03]\n",
      " [ 1.07904939e-02  1.60719892e-02  1.60719892e-02  1.07904939e-02]\n",
      " [ 1.30539919e-02  2.00959856e-02 -8.19343912e-01  1.30539919e-02]\n",
      " [-3.11071451e-01 -1.88980093e-01  3.74208118e-01 -4.18002369e-01]\n",
      " [-8.16864570e-01  5.31544335e-03 -4.76517435e-01  4.95982711e-03]\n",
      " [ 5.46310542e-03  5.56926298e-03  6.13658106e-03 -6.89323989e-01]\n",
      " [ 6.19106662e-03  5.32699283e-03  6.50707644e-03  6.79185202e-03]\n",
      " [ 7.16187214e-03 -8.64058715e-01 -4.20161527e-02  6.82122072e-03]\n",
      " [ 4.58803021e-01  4.93038046e-01 -6.60124189e-02  3.22699355e-01]\n",
      " [ 2.43361181e-01  1.85334149e-02  4.63410669e-01  4.08989085e-01]\n",
      " [ 4.89573372e-03  1.60719892e-02  4.89803348e-03  4.86165525e-03]\n",
      " [ 1.30539916e-02  2.00959856e-02  2.00959856e-02  1.30539919e-02]\n",
      " [ 1.60719892e-02  2.54613142e-02  1.60719892e-02  1.60719892e-02]\n",
      " [ 2.00959856e-02  5.18521068e-03  5.23147496e-03 -8.19343626e-01]\n",
      " [ 5.23532793e-03  5.48078780e-03  5.55756956e-03  5.55096588e-03]\n",
      " [ 5.54845256e-03  5.31417320e-03  5.48133818e-03  5.69408961e-03]\n",
      " [ 5.29551658e-03 -4.95907645e-02 -3.84233597e-01 -7.39588047e-02]\n",
      " [ 3.11281180e-01  5.84915176e-02  3.07932881e-02 -1.11629701e-01]\n",
      " [-2.67283824e-01 -1.88953830e-01  6.18184598e-02 -3.98980784e-02]\n",
      " [ 4.06563403e-01  1.40621898e-02 -1.87919911e-01 -2.04907948e-01]\n",
      " [ 5.15997684e-03  5.16813153e-03  2.00959856e-02  5.31046560e-03]\n",
      " [ 1.55015682e-02  5.43891609e-03  2.54613142e-02  5.13943730e-03]\n",
      " [ 2.00959856e-02  3.26150856e-02  2.00959856e-02  2.00959856e-02]\n",
      " [ 5.46081197e-03  2.54613142e-02  5.05598548e-03  1.55397130e-02]\n",
      " [ 5.32027193e-03 -1.49063395e-01  5.30740124e-03  5.22397200e-03]\n",
      " [ 5.45353538e-03 -3.17146653e-01 -3.66779299e-02  5.36182991e-03]\n",
      " [-3.12313952e-01  1.54322704e-01  6.69727107e-03 -1.97008134e-01]\n",
      " [-3.82110004e-03 -3.13116127e-01 -2.22183434e-01  1.22001357e-02]\n",
      " [ 9.90023091e-02 -4.29104459e-01 -1.29054236e-01 -3.14530348e-01]\n",
      " [-2.36336582e-01  7.37610962e-02 -4.24566869e-03  1.23561772e-01]\n",
      " [ 5.48975861e-03  5.48212922e-03  7.24206078e-03  5.39931774e-03]\n",
      " [ 5.50888276e-03  3.26150856e-02  5.72552713e-03  5.38618376e-03]\n",
      " [ 2.54613142e-02  4.21534475e-02  2.54613142e-02  2.54613142e-02]\n",
      " [ 3.26150856e-02 -7.45166116e-01  5.85045418e-03  5.66040170e-03]\n",
      " [ 2.47277729e-02 -2.78719098e-01  5.81920456e-03  5.19999814e-03]\n",
      " [ 9.09285668e-03  5.48110050e-03  5.91714977e-03  5.78678218e-03]\n",
      " [-1.62792541e-01  5.71472362e-03 -6.11040982e-02 -7.66267656e-02]\n",
      " [ 4.57276920e-02  1.54950006e-01 -1.62277924e-01  7.13031667e-02]\n",
      " [ 4.20581494e-01  2.67466204e-01 -1.87749177e-01  3.81231014e-01]\n",
      " [ 1.46050654e-02  2.69552952e-01  9.39751966e-02 -2.01198597e-01]\n",
      " [ 5.78030050e-03  5.79769870e-03  5.70139287e-03  5.73364068e-03]\n",
      " [ 5.99255123e-03 -7.96629822e-01  4.21534475e-02 -4.45709217e-01]\n",
      " [ 3.26150856e-02  5.48712633e-02 -7.48250983e-01  3.26150856e-02]\n",
      " [ 4.45583260e-01  4.68998689e-01  2.03872578e-01 -4.06319165e-01]\n",
      " [-7.34462016e-01 -3.74697445e-01  5.47868669e-03  6.75781435e-03]\n",
      " [ 5.36951214e-03  5.13759834e-03  5.03168735e-03  7.81930729e-03]\n",
      " [ 6.85942575e-03 -3.75651747e-02 -4.47186063e-02 -3.83762309e-01]\n",
      " [ 3.66800277e-01  3.34746330e-01 -2.36948324e-01 -1.72061307e-01]\n",
      " [ 6.65405720e-02 -2.67365188e-01  2.89377976e-02  2.66855526e-01]\n",
      " [-2.30495315e-01  3.83299378e-01  3.12259539e-02  2.20134108e-01]\n",
      " [-7.94303922e-03 -3.30745258e-01 -7.80629546e-01  5.78090767e-03]\n",
      " [ 4.02513530e-01 -9.68015497e-02 -9.65619439e-02  1.69225737e-01]\n",
      " [-7.98114853e-01  7.18283510e-02 -1.06907857e+00  4.21534475e-02]\n",
      " [-2.80232192e-01  4.12285756e-02 -2.74319480e-01 -1.48715815e-01]\n",
      " [-3.57754478e-01  1.29093558e-02  8.00244564e-04  6.20014860e-03]\n",
      " [-2.06846920e-01 -7.16031070e-01  4.63620663e-03 -3.26445609e-01]\n",
      " [ 4.54411910e-03 -7.57623215e-02 -3.30263880e-01  6.09825366e-03]\n",
      " [-3.01433954e-01  2.35330734e-01 -2.62850061e-01 -3.73166456e-01]\n",
      " [-2.19545829e-01  5.76141805e-02  5.59818911e-02 -2.76256811e-01]\n",
      " [ 5.70303283e-02 -8.89850501e-01  5.49927856e-02 -3.96017382e-02]\n",
      " [ 9.76370347e-03  2.90430951e-02  9.57589688e-03 -4.08818310e-02]\n",
      " [ 8.55322752e-03  7.18283510e-02  2.47189236e-02 -7.97305721e-01]\n",
      " [ 5.48712633e-02  9.44378014e-02  9.44378014e-02  5.48712633e-02]\n",
      " [ 7.18283510e-02  1.24583735e-01  1.24583735e-01 -1.06907857e+00]\n",
      " [-2.63342168e-01  1.64778314e-01 -4.02000504e-01  1.14064907e-02]\n",
      " [ 2.77171365e-01  3.88466138e-01 -2.85973395e-01  4.84148841e-01]\n",
      " [-3.63353279e-01  4.57336302e-03 -4.99388688e-01  5.33636509e-03]\n",
      " [ 1.16539040e-01 -2.18555449e-01  3.85104151e-01  7.07851388e-02]\n",
      " [ 2.77407601e-01  5.12138868e-01 -9.57344751e-01  4.63826628e-02]\n",
      " [-3.05095824e-02 -1.62562330e-01 -2.17788806e-01  1.86180961e-01]\n",
      " [-4.09356925e-01 -1.17866489e-01  2.61244919e-02  9.81814175e-03]\n",
      " [-5.21857716e-02  2.88670343e-02  9.44378014e-02  3.15037192e-02]\n",
      " [ 7.18283510e-02  7.18283510e-02  1.24583735e-01  7.18283510e-02]\n",
      " [ 9.44378014e-02 -7.99461855e-01  1.64778314e-01  9.44378014e-02]\n",
      " [ 1.24583735e-01  2.18371085e-01  2.18371085e-01  1.24583735e-01]\n",
      " [ 1.64778314e-01  2.89828113e-01  2.89828113e-01 -7.36888370e-01]\n",
      " [-4.26081988e-01  3.85104151e-01 -2.82875038e-01  4.48557580e-03]\n",
      " [ 5.57737555e-02  2.89810552e-01  5.12138868e-01  2.89828113e-01]\n",
      " [ 3.83920215e-01  2.73975649e-01  6.81518490e-01  3.73324630e-01]\n",
      " [ 5.12135477e-01  9.07357987e-01  6.79589934e-01 -8.92604803e-01]\n",
      " [ 2.50263638e-01 -1.55215574e-01 -2.96613377e-01  4.62599652e-01]\n",
      " [-4.02275472e-01 -2.13961342e-01  2.50775595e-02 -3.10704152e-01]\n",
      " [-2.93869932e-01  4.00000131e-03 -7.42795534e-01  9.44378014e-02]\n",
      " [ 4.00717527e-01 -2.44265296e-01 -2.85280920e-02 -3.18462900e-01]\n",
      " [-7.99461855e-01  2.18371085e-01  2.89828113e-01  1.64777201e-01]\n",
      " [ 2.18371085e-01  2.89828113e-01  3.85104151e-01  2.18371085e-01]\n",
      " [ 2.89828113e-01  3.85104151e-01  5.12138868e-01  2.89828113e-01]\n",
      " [ 3.85104151e-01  5.12138868e-01  6.81518490e-01  3.85104151e-01]\n",
      " [ 5.12138868e-01  6.81518490e-01  9.07357987e-01  5.12138868e-01]\n",
      " [-1.44528566e-01 -1.23522684e-01 -2.07189929e-01 -4.31173397e-01]]\n"
     ]
    }
   ],
   "source": [
    "# Print results\n",
    "print(\"Score over time:\", sum(rewards) / total_episodes)\n",
    "print(\"Q-Table:\")\n",
    "print(qtable)"
   ]
  },
  {
   "cell_type": "code",
   "execution_count": 22,
   "id": "f7a5a946",
   "metadata": {},
   "outputs": [],
   "source": [
    "state = env.reset()[0]  # Reset environment and get initial state\n",
    "done = False\n",
    "\n",
    "while not done:\n",
    "    action = np.argmax(qtable[state, :])  # Pick the best action based on Q-values\n",
    "    new_state, reward, done, truncated, _ = env.step(action)  # Take action\n",
    "    env.render()  # Display the environment (optional)\n",
    "    state = new_state  # Move to the next state\n",
    "\n",
    "env.close()  # Close the environment"
   ]
  },
  {
   "cell_type": "markdown",
   "id": "78e7e09e",
   "metadata": {},
   "source": [
    "### 4. Final Answer\n",
    "In the first cell below, describe the path your elf takes to get to the gift. *Note, a level 5 answer includes a gif of the path your elf takes in order to reach the gift.*\n",
    "\n",
    "In the second cell seen below, describe how well your Q-Learning model performed. Make sure that you explicitly name the **learning rate**, **the discount factor**, and the **reward system** that you used when training your final model. *Note, a level 5 description describes the model's performance using two types of quantitative evidence.*"
   ]
  },
  {
   "cell_type": "markdown",
   "id": "9b6eef8e",
   "metadata": {},
   "source": [
    "![example image](https://gymnasium.farama.org/_images/frozen_lake.gif)"
   ]
  },
  {
   "cell_type": "markdown",
   "id": "54fdae15",
   "metadata": {},
   "source": [
    "#### Describe the path your elf takes here.\n"
   ]
  },
  {
   "cell_type": "markdown",
   "id": "507d7ee7",
   "metadata": {},
   "source": [
    "![My GIF](ezgif.com-video-to-gif-converter.gif)"
   ]
  },
  {
   "cell_type": "markdown",
   "id": "6b8f66ed",
   "metadata": {},
   "source": [
    "#### Describe how well your Q-Learning model performed here.\n",
    "\n",
    "##### My Q-Learning Model performed very well as to get the elf to the gift, with only 18 steps. The learning rate I put was a good learning rate because the elf looks like he has learned from learning all over the frozen lakes and is given a great learning model with the discount rate being higher so that the elf can get long term rewards. My reward system consists of a 0.001 reward for an empty space, a -1.1 reward for falling into a hole, and a +1 reward for reaching the gift. As you can see from the gif this is the path it consistantly goes now, and the path really secured a solid path to the gift. Other things that I could consider is that my elf could be put on a slippery frozen lake and still perform just as well. If you have taken a look at my code, I used a strategy to epsilon, by flipping a coin on whether it should exploit or explore. Another thing I did add was a decrease in decay rate so that the elf could explore more than exploit what it knows."
   ]
  },
  {
   "cell_type": "code",
   "execution_count": null,
   "id": "6dd2d955",
   "metadata": {},
   "outputs": [],
   "source": []
  }
 ],
 "metadata": {
  "kernelspec": {
   "display_name": "Python 3 (ipykernel)",
   "language": "python",
   "name": "python3"
  },
  "language_info": {
   "codemirror_mode": {
    "name": "ipython",
    "version": 3
   },
   "file_extension": ".py",
   "mimetype": "text/x-python",
   "name": "python",
   "nbconvert_exporter": "python",
   "pygments_lexer": "ipython3",
   "version": "3.9.13"
  }
 },
 "nbformat": 4,
 "nbformat_minor": 5
}
