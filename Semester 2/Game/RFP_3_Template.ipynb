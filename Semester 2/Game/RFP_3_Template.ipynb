{
 "cells": [
  {
   "cell_type": "markdown",
   "id": "fdb73e9d",
   "metadata": {},
   "source": [
    "# RFP: Maze Solvers\n",
    "\n",
    "## Project Overview\n",
    "You are invited to submit a proposal that answers the following question:\n",
    "\n",
    "### What path will your elf take?\n",
    "\n",
    "*Please submit your proposal by **2/11/25 at 11:59 PM**.*"
   ]
  },
  {
   "cell_type": "markdown",
   "id": "d88b6a60",
   "metadata": {},
   "source": [
    "## Required Proposal Components\n",
    "\n",
    "### 1. Data Description\n",
    "In the code cell below, use [Gymnasium](https://gymnasium.farama.org/) to set up a [Frozen Lake maze](https://gymnasium.farama.org/environments/toy_text/frozen_lake/) for your project. When you are done with the set up, describe the reward system you plan on using.\n",
    "\n",
    "*Note, a level 5 maze is at least 10 x 10 cells large and contains at least five lake cells.*"
   ]
  },
  {
   "cell_type": "code",
   "execution_count": 1,
   "id": "8744bf04",
   "metadata": {},
   "outputs": [],
   "source": [
    "import gymnasium as gym\n",
    "from gymnasium.envs.toy_text.frozen_lake import generate_random_map\n",
    "import random\n",
    "import numpy as np"
   ]
  },
  {
   "cell_type": "code",
   "execution_count": 2,
   "id": "34314a12",
   "metadata": {},
   "outputs": [],
   "source": [
    "# Make maze\n",
    "\n",
    "env = gym.make('FrozenLake-v1', desc=generate_random_map(size=10, seed=259),  is_slippery=False)"
   ]
  },
  {
   "cell_type": "code",
   "execution_count": 3,
   "id": "0f243754",
   "metadata": {},
   "outputs": [],
   "source": [
    "# Get state and action sizes\n",
    "state_size = env.observation_space.n\n",
    "action_size = env.action_space.n\n",
    "\n",
    "# Extract hole ('H'), empty ('F'), and goal ('G') positions\n",
    "desc = env.unwrapped.desc\n",
    "hole_states = {i for i, row in enumerate(desc.flatten()) if row == b'H'}\n",
    "empty_states = {i for i, row in enumerate(desc.flatten()) if row == b'F'}\n",
    "goal_state = {i for i, row in enumerate(desc.flatten()) if row == b'G'}\n",
    "\n",
    "# Initialize Q-table with small random values to encourage exploration\n",
    "qtable = np.random.uniform(low=-0.5, high=0.5, size=(state_size, action_size))"
   ]
  },
  {
   "cell_type": "markdown",
   "id": "c38ed9f9",
   "metadata": {},
   "source": [
    "#### Describe your reward system here."
   ]
  },
  {
   "cell_type": "markdown",
   "id": "67f80b3f",
   "metadata": {},
   "source": [
    "### 2. Training Your Model\n",
    "In the cell seen below, write the code you need to train a Q-Learning model. Display your final Q-table once you are done training your model.\n",
    "\n",
    "*Note, level 5 work uses only the standard Python library and Pandas to train your Q-Learning model. A level 4 uses external libraries like Baseline3.*"
   ]
  },
  {
   "cell_type": "code",
   "execution_count": 4,
   "id": "e13b6c5b",
   "metadata": {},
   "outputs": [],
   "source": [
    "# Training parameters\n",
    "total_episodes = 10000  # Increase episodes for better learning\n",
    "max_steps = 200  \n",
    "learning_rate = 0.95  # Keep high at the start for faster learning\n",
    "gamma = 0.75  # Higher discount factor to encourage long-term rewards\n",
    "epsilon = 0.9  \n",
    "min_epsilon = 0.01  # Allow more exploration for longer\n",
    "decay_rate = 0.005  # Slower decay to ensure sufficient exploration"
   ]
  },
  {
   "cell_type": "code",
   "execution_count": 5,
   "id": "73e62305",
   "metadata": {},
   "outputs": [],
   "source": [
    "# Training loop\n",
    "rewards = []\n",
    "for episode in range(total_episodes):\n",
    "    state, _ = env.reset()\n",
    "    total_rewards = 0\n",
    "    done = False\n",
    "\n",
    "    for step in range(max_steps):\n",
    "        # Choose action using epsilon-greedy strategy\n",
    "        if random.uniform(0, 1) > epsilon:\n",
    "            action = np.argmax(qtable[state])  # Exploit\n",
    "        else:\n",
    "            action = env.action_space.sample()  # Explore\n",
    "\n",
    "        # Take action\n",
    "        new_state, reward, done, truncated, _ = env.step(action)\n",
    "\n",
    "        # Modify rewards\n",
    "        if new_state in hole_states:\n",
    "            reward = -1.0  # Higher penalty for falling in a hole\n",
    "        elif new_state in empty_states:\n",
    "            reward = 0.1  # Small reward for moving forward\n",
    "        elif new_state in goal_state:\n",
    "            reward = 1.0  # Higher reward for reaching goal\n",
    "\n",
    "        # Q-learning update\n",
    "        qtable[state, action] = qtable[state, action] + learning_rate * (\n",
    "            reward + gamma * np.max(qtable[new_state]) - qtable[state, action]\n",
    "        )\n",
    "\n",
    "        total_rewards += reward\n",
    "        state = new_state\n",
    "\n",
    "        if done or truncated:\n",
    "            break\n",
    "\n",
    "    # Decay epsilon slower for better exploration\n",
    "    epsilon = max(min_epsilon, epsilon * np.exp(-decay_rate * episode))\n",
    "    rewards.append(total_rewards)"
   ]
  },
  {
   "cell_type": "markdown",
   "id": "3b912364",
   "metadata": {},
   "source": [
    "### 3. Testing Your Model\n",
    "In the cell seen below, write the code you need to test your Q-Learning model for **1000 episodes**. It is important to test your model for 1000 episodes so that we are all able to compare our results.\n",
    "\n",
    "*Note, level 5 testing uses both a success rate and an average steps taken metric to evaluate your model. Level 4 uses one or the other.*"
   ]
  },
  {
   "cell_type": "code",
   "execution_count": 6,
   "id": "e30cf1dd",
   "metadata": {
    "scrolled": true
   },
   "outputs": [
    {
     "name": "stdout",
     "output_type": "stream",
     "text": [
      "Score over time: 9.953549999999796\n",
      "Q-Table:\n",
      "[[ 3.00000000e-01  4.00000000e-01  4.00000000e-01  3.00000000e-01]\n",
      " [ 3.00031901e-01  4.00000000e-01  4.00000000e-01  4.00000000e-01]\n",
      " [ 4.00000000e-01  4.00000000e-01  4.00000000e-01  4.00000000e-01]\n",
      " [ 4.00000000e-01 -6.73063628e-01  3.99957196e-01  4.00000000e-01]\n",
      " [ 4.00000000e-01  2.78134477e-01 -1.05292076e+00  3.81312911e-01]\n",
      " [-4.27523192e-01 -4.24626519e-01 -1.62042296e-01 -2.31281877e-01]\n",
      " [-1.08155942e+00  4.00000000e-01  3.73288719e-01  3.97854330e-01]\n",
      " [-2.83429152e-01  3.98475884e-01 -3.35347739e-01 -7.21790912e-02]\n",
      " [ 2.68629644e-01 -1.32201603e-01  4.51311623e-01 -1.68233624e-01]\n",
      " [-4.60403941e-01  4.18460930e-01 -1.35747892e-01  4.36371074e-01]\n",
      " [ 4.00000000e-01  4.00000000e-01  4.00000000e-01  3.00000000e-01]\n",
      " [ 4.00000000e-01  4.00000000e-01  4.00000000e-01  4.00000000e-01]\n",
      " [ 4.00000000e-01  4.00000000e-01 -6.73063628e-01  4.00000000e-01]\n",
      " [-4.72646898e-01 -2.26921604e-01  4.35915163e-01 -2.55006833e-01]\n",
      " [-1.02366911e-01  9.76629827e-04  1.86972386e-01  4.00000000e-01]\n",
      " [ 4.00000000e-01 -2.44574855e-01  4.00000000e-01 -3.14233215e-01]\n",
      " [ 4.00000000e-01  3.99757691e-01  3.99448694e-01  4.00000000e-01]\n",
      " [ 3.99999772e-01  4.31229460e-02  1.38790840e-01  2.86913282e-01]\n",
      " [ 2.91902868e-01  6.70697510e-02  2.54488838e-01 -3.14993966e-01]\n",
      " [ 2.89174404e-01 -2.64599454e-01  4.08733808e-01  4.22173968e-01]\n",
      " [ 4.00000000e-01  4.00000000e-01  4.00000000e-01  4.00000000e-01]\n",
      " [ 4.00000000e-01  4.00000000e-01  4.00000000e-01  4.00000000e-01]\n",
      " [ 4.00000000e-01  4.00000000e-01  4.00000000e-01  4.00000000e-01]\n",
      " [ 4.00000000e-01  3.92912052e-01  4.00000000e-01 -6.73063411e-01]\n",
      " [ 4.00000000e-01  4.00000000e-01  4.00000000e-01  3.98130906e-01]\n",
      " [-4.55916939e-01  4.00000000e-01  4.00000000e-01  3.99314297e-01]\n",
      " [ 1.67900957e-01 -3.99834164e-01 -6.38456718e-01  4.00000000e-01]\n",
      " [ 2.04988738e-01  4.15143487e-01  3.37610772e-01 -1.59942405e-01]\n",
      " [ 6.83174546e-02 -2.85600871e-02  3.82755613e-01 -1.51450106e-01]\n",
      " [ 2.25499062e-01  3.05811362e-01 -2.36977844e-02  4.36024977e-01]\n",
      " [ 4.00000000e-01  4.00000000e-01  4.00000000e-01  4.00000000e-01]\n",
      " [ 4.00000000e-01  4.00000000e-01  4.00000000e-01  4.00000000e-01]\n",
      " [ 4.00000000e-01  2.64658362e-01  3.99913089e-01  4.00000000e-01]\n",
      " [ 7.04463557e-02 -1.85530675e-01  2.51021945e-01  4.00000120e-01]\n",
      " [-4.26571688e-02  3.99123826e-01  4.00000000e-01  3.99985507e-01]\n",
      " [ 4.00000000e-01  4.00000000e-01  3.99989207e-01  4.00000000e-01]\n",
      " [ 3.99999831e-01  1.94720266e-01  2.29414311e-01 -2.91490869e-01]\n",
      " [-2.52146262e-01 -9.20230300e-01 -1.20816991e-01 -6.29898926e-01]\n",
      " [-1.46867949e-01  4.46743487e-01 -2.38132695e-01 -3.00051038e-01]\n",
      " [ 1.74523369e-01  1.89987752e-01 -1.57512356e-01 -4.03087213e-01]\n",
      " [ 4.00000000e-01  3.99999813e-01  4.00000000e-01  3.98823269e-01]\n",
      " [ 3.97585600e-01  3.72259146e-01  3.81988000e-01  4.00000000e-01]\n",
      " [ 1.38514330e-01  2.76486662e-01  2.22624347e-01 -1.19796458e-01]\n",
      " [ 1.38543501e-02 -1.00809316e+00  1.67058125e-01 -2.77608267e-01]\n",
      " [ 2.30626512e-01  3.74479899e-01 -3.07814030e-01  4.00130995e-01]\n",
      " [ 2.89937328e-01  1.14612156e-01  2.63214638e-01  4.00000000e-01]\n",
      " [ 7.21577549e-02  1.27203013e-03 -4.83305412e-01  3.65254689e-01]\n",
      " [-3.25611031e-02 -4.60754292e-01  3.07027919e-02 -2.45219821e-01]\n",
      " [ 2.30212665e-01  2.22509183e-01 -4.96856548e-01  3.99668142e-01]\n",
      " [-1.90624872e-02  4.22359952e-01  4.03279622e-01 -1.93847305e-01]\n",
      " [ 4.00000000e-01  4.24230841e-01  1.41139169e-01  3.98065832e-01]\n",
      " [ 3.71572994e-01 -6.59796257e-01  4.17677380e-02  3.52619248e-01]\n",
      " [ 6.17493568e-02  3.33467785e-01 -9.69714489e-01 -3.80555604e-01]\n",
      " [-2.48364828e-01 -3.17585082e-01 -1.32440974e-02 -4.30033976e-01]\n",
      " [ 1.70828415e-01  2.61014297e-01  1.00636540e-01 -2.17861162e-01]\n",
      " [-3.08934905e-01 -2.01336397e-01  2.48257917e-01 -8.29546418e-02]\n",
      " [ 2.16388868e-01  1.67288517e-01  1.45348982e-01 -4.62555964e-02]\n",
      " [-4.36254959e-01 -2.40553508e-02 -8.07841498e-01 -2.37188345e-01]\n",
      " [ 1.93814852e-01 -4.51736076e-01 -4.93040573e-03  7.14342988e-02]\n",
      " [ 4.83916747e-01 -3.67649163e-01 -2.10413818e-01 -4.68932001e-02]\n",
      " [-4.98840812e-01  3.82750403e-01  3.43051794e-01  3.19354937e-02]\n",
      " [-4.92152063e-01  1.85343978e-01  4.37134715e-01 -2.11203768e-01]\n",
      " [ 1.58765026e-01  3.99999987e-01 -6.19869090e-01  2.37981475e-01]\n",
      " [-4.93242077e-01  3.73118728e-01  4.33748959e-01  4.17561974e-01]\n",
      " [ 3.06053835e-01  8.41082685e-02 -3.81648918e-01  1.95325381e-02]\n",
      " [-5.03638275e-02 -3.09626845e-01  4.18427446e-01 -3.11088313e-01]\n",
      " [ 2.49578422e-03 -4.52785685e-01  4.41059653e-01  4.95154137e-01]\n",
      " [-3.92156907e-02  1.10526287e-01 -5.86193809e-02  2.25755320e-01]\n",
      " [-6.32563919e-02  3.26601702e-01 -6.59243664e-02 -6.89270189e-02]\n",
      " [-3.22798079e-01  1.04992173e-01 -2.73473436e-01  2.26930491e-01]\n",
      " [-1.80861624e-02  4.11378789e-01  2.61193475e-01  3.32965919e-01]\n",
      " [-1.45421111e-01  4.02477298e-01 -4.70757730e-01 -1.22586588e-01]\n",
      " [-3.33253148e-01 -3.20306279e-01 -3.87632703e-02  3.99999990e-01]\n",
      " [-2.11875194e-01  3.17922379e-01  4.23500704e-02 -4.68727491e-01]\n",
      " [-3.87486272e-01 -9.52039927e-02  3.65171966e-01  4.21785778e-01]\n",
      " [-4.87384239e-02 -4.37676888e-01 -2.66775218e-01  4.68196050e-01]\n",
      " [ 1.26443145e-02 -1.73376937e-01 -2.92485814e-01  3.35019172e-01]\n",
      " [ 4.82195991e-02 -3.61415427e-01  2.52973939e-01  2.01442656e-01]\n",
      " [ 4.74077223e-02  2.57935344e-01 -2.76253001e-01 -4.43373965e-01]\n",
      " [-1.15718364e-01 -3.82477987e-01 -2.60890609e-01 -3.09170347e-01]\n",
      " [ 4.17681733e-01 -6.09068454e-01  4.13955771e-01  4.17851428e-01]\n",
      " [ 4.17423055e-01 -2.19578188e-01  4.06549643e-01 -2.40581897e-01]\n",
      " [ 4.13262370e-01  1.40801045e-01  2.16855801e-01  4.02835593e-01]\n",
      " [ 2.28958990e-01  2.48872954e-01  3.29203366e-01  2.41070420e-01]\n",
      " [-3.86778623e-01 -4.43274328e-01 -1.87230709e-02 -2.16173630e-02]\n",
      " [-1.59494577e-01  1.33567454e-01 -4.45852793e-01  4.25600127e-01]\n",
      " [-3.00881352e-01 -4.90008891e-02  4.53986688e-01  4.65554250e-01]\n",
      " [-2.81599263e-01  4.12575716e-01  6.76531678e-02 -2.89920075e-01]\n",
      " [-2.07606876e-01 -2.52355000e-01  1.73144570e-02  1.89507315e-02]\n",
      " [ 1.13935061e-01 -1.38131002e-01 -1.18168847e-01  1.70611996e-01]\n",
      " [ 2.47907746e-01  3.28632863e-01  4.94670630e-01  4.35255554e-01]\n",
      " [-3.80138662e-01  1.88258388e-01  1.82927114e-01 -1.29477084e-01]\n",
      " [-1.17803777e-01 -5.97059905e-02 -7.92953726e-02  1.54970766e-02]\n",
      " [ 4.04787497e-01  2.81768506e-02  2.24164392e-01 -2.42622507e-01]\n",
      " [ 8.58096732e-02 -1.49839046e-01 -3.57965723e-01 -4.37721812e-01]\n",
      " [ 3.17873478e-01  3.52184021e-01  1.12291172e-01 -4.10252926e-01]\n",
      " [-2.78568958e-01  3.20096860e-01 -1.76934564e-01  1.68698547e-01]\n",
      " [ 4.63777330e-01  3.61951419e-01 -4.68295055e-01  2.43023276e-01]\n",
      " [ 2.29239782e-01 -3.78023002e-01  1.84720568e-01 -2.18487541e-01]\n",
      " [ 4.60628416e-01 -2.11783773e-01 -1.11301135e-01 -1.88240524e-01]]\n"
     ]
    }
   ],
   "source": [
    "# Print results\n",
    "print(\"Score over time:\", sum(rewards) / total_episodes)\n",
    "print(\"Q-Table:\")\n",
    "print(qtable)"
   ]
  },
  {
   "cell_type": "code",
   "execution_count": null,
   "id": "1daca670",
   "metadata": {},
   "outputs": [],
   "source": [
    "# Variables to track success and steps\n",
    "total_episodes = 1000  # Number of episodes to run\n",
    "successful_episodes = 0\n",
    "total_steps = 0\n",
    "\n",
    "for episode in range(total_episodes):\n",
    "    state = env.reset()[0]  # Reset environment and get initial state\n",
    "    done = False\n",
    "    steps = 0\n",
    "\n",
    "    while not done:\n",
    "        action = np.argmax(qtable[state, :])  # Pick the best action based on Q-values\n",
    "        new_state, reward, done, truncated, _ = env.step(action)  # Take action\n",
    "        state = new_state  # Move to the next state\n",
    "        steps += 1\n",
    "\n",
    "    total_steps += steps\n",
    "\n",
    "    if reward == 1:\n",
    "        successful_episodes += 1\n",
    "\n",
    "env.close()  # Close the environment\n",
    "\n",
    "# Calculate success rate and average steps per episode\n",
    "success_rate = successful_episodes / total_episodes\n",
    "average_steps = total_steps / total_episodes\n",
    "\n",
    "print(f\"Success Rate: {success_rate * 100:.2f}%\")\n",
    "print(f\"Average Steps per Episode: {average_steps:.2f}\")"
   ]
  },
  {
   "cell_type": "markdown",
   "id": "78e7e09e",
   "metadata": {},
   "source": [
    "### 4. Final Answer\n",
    "In the first cell below, describe the path your elf takes to get to the gift. *Note, a level 5 answer includes a gif of the path your elf takes in order to reach the gift.*\n",
    "\n",
    "In the second cell seen below, describe how well your Q-Learning model performed. Make sure that you explicitly name the **learning rate**, **the discount factor**, and the **reward system** that you used when training your final model. *Note, a level 5 description describes the model's performance using two types of quantitative evidence.*"
   ]
  },
  {
   "cell_type": "markdown",
   "id": "9b6eef8e",
   "metadata": {},
   "source": [
    "![example image](https://gymnasium.farama.org/_images/frozen_lake.gif)"
   ]
  },
  {
   "cell_type": "markdown",
   "id": "54fdae15",
   "metadata": {},
   "source": [
    "#### Describe the path your elf takes here.\n"
   ]
  },
  {
   "cell_type": "markdown",
   "id": "c5c8e818",
   "metadata": {},
   "source": [
    "![My GIF](ezgif.com-video-to-gif-converter.gif)"
   ]
  },
  {
   "cell_type": "markdown",
   "id": "6b8f66ed",
   "metadata": {},
   "source": [
    "#### Describe how well your Q-Learning model performed here.\n",
    "\n",
    "##### My Q-Learning Model performed very well as to get the elf to the gift, with only 18 steps. The learning rate I put was a good learning rate because the elf looks like he has learned from learning all over the frozen lakes and is given a great learning model with the discount rate being higher so that the elf can get long term rewards. My reward system consists of a 0.001 reward for an empty space, a -1.1 reward for falling into a hole, and a +1 reward for reaching the gift. As you can see from the gif this is the path it consistantly goes now, and the path really secured a solid path to the gift. Other things that I could consider is that my elf could be put on a slippery frozen lake and still perform just as well. If you have taken a look at my code, I used a strategy to epsilon, by flipping a coin on whether it should exploit or explore. Another thing I did add was a decrease in decay rate so that the elf could explore more than exploit what it knows."
   ]
  },
  {
   "cell_type": "code",
   "execution_count": null,
   "id": "d3a8001e",
   "metadata": {},
   "outputs": [],
   "source": []
  }
 ],
 "metadata": {
  "kernelspec": {
   "display_name": "Python 3 (ipykernel)",
   "language": "python",
   "name": "python3"
  },
  "language_info": {
   "codemirror_mode": {
    "name": "ipython",
    "version": 3
   },
   "file_extension": ".py",
   "mimetype": "text/x-python",
   "name": "python",
   "nbconvert_exporter": "python",
   "pygments_lexer": "ipython3",
   "version": "3.9.13"
  }
 },
 "nbformat": 4,
 "nbformat_minor": 5
}
