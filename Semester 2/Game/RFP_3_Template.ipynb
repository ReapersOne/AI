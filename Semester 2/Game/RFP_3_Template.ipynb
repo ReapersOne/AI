{
 "cells": [
  {
   "cell_type": "markdown",
   "id": "fdb73e9d",
   "metadata": {},
   "source": [
    "# RFP: Maze Solvers\n",
    "\n",
    "## Project Overview\n",
    "You are invited to submit a proposal that answers the following question:\n",
    "\n",
    "### What path will your elf take?\n",
    "\n",
    "*Please submit your proposal by **2/11/25 at 11:59 PM**.*"
   ]
  },
  {
   "cell_type": "markdown",
   "id": "d88b6a60",
   "metadata": {},
   "source": [
    "## Required Proposal Components\n",
    "\n",
    "### 1. Data Description\n",
    "In the code cell below, use [Gymnasium](https://gymnasium.farama.org/) to set up a [Frozen Lake maze](https://gymnasium.farama.org/environments/toy_text/frozen_lake/) for your project. When you are done with the set up, describe the reward system you plan on using.\n",
    "\n",
    "*Note, a level 5 maze is at least 10 x 10 cells large and contains at least five lake cells.*"
   ]
  },
  {
   "cell_type": "code",
   "execution_count": 1,
   "id": "8744bf04",
   "metadata": {},
   "outputs": [],
   "source": [
    "import gymnasium as gym\n",
    "from gymnasium.envs.toy_text.frozen_lake import generate_random_map\n",
    "import random\n",
    "import numpy as np"
   ]
  },
  {
   "cell_type": "code",
   "execution_count": 2,
   "id": "34314a12",
   "metadata": {},
   "outputs": [],
   "source": [
    "# Make maze\n",
    "\n",
    "env = gym.make('FrozenLake-v1', desc=generate_random_map(size=10, seed=259),  is_slippery=False)\n",
    "#initial_state = env.reset()\n",
    "\n",
    "#env.render()\n",
    "\n",
    "# Take a step (0: LEFT, 1: DOWN, 2: RIGHT, 3: UP)\n",
    "#action = 2\n",
    "#new_state, reward, terminated, truncated, info = env.step(action)\n",
    "\n",
    "#env.render()"
   ]
  },
  {
   "cell_type": "code",
   "execution_count": 3,
   "id": "b45aeb50",
   "metadata": {},
   "outputs": [
    {
     "name": "stdout",
     "output_type": "stream",
     "text": [
      "Score over time: 9.921334999999347\n",
      "Final Q-Table:\n",
      "[[ 1.90000000e+00  2.00000000e+00  2.00000000e+00  1.90000000e+00]\n",
      " [ 1.90000000e+00  2.00000000e+00  2.00000000e+00  2.00000000e+00]\n",
      " [ 2.00000000e+00  2.00000000e+00  2.00000000e+00  2.00000000e+00]\n",
      " [ 2.00000000e+00 -8.33255114e-01  1.99999994e+00  2.00000000e+00]\n",
      " [ 2.00000000e+00  1.91077672e+00 -6.73081636e-01  1.99845810e+00]\n",
      " [ 3.44111800e-01 -7.17785709e-03 -4.75577979e-02 -4.07164647e-01]\n",
      " [ 8.91339039e-03  3.24248953e-02 -3.13375948e-01 -4.24134246e-01]\n",
      " [ 4.36977272e-01 -2.06039508e-01 -6.63491848e-02 -4.84089428e-01]\n",
      " [-1.16674758e-01  1.11175983e-01  2.25949832e-01 -2.25880921e-01]\n",
      " [-5.13303297e-02 -4.28434611e-01 -4.44838857e-01 -4.28946033e-01]\n",
      " [ 2.00000000e+00  2.00000000e+00  2.00000000e+00  1.90000000e+00]\n",
      " [ 2.00000000e+00  2.00000000e+00  2.00000000e+00  2.00000000e+00]\n",
      " [ 2.00000000e+00  2.00000000e+00 -8.33255114e-01  2.00000000e+00]\n",
      " [ 1.75520933e-01  5.30920176e-02 -3.76937193e-01  1.17477076e-01]\n",
      " [-8.31586490e-01  1.98968903e+00  1.03870748e+00  1.71638514e+00]\n",
      " [ 9.99120141e-01  5.06418935e-01 -2.67537403e-01 -5.37082158e-01]\n",
      " [ 6.57167452e-02  5.32775246e-01  6.84421680e-02  2.76815338e-01]\n",
      " [ 2.83352155e-01 -1.85165594e-02 -9.42799612e-02  2.99291676e-01]\n",
      " [ 3.77620816e-01 -4.71910819e-01  3.34236650e-01  9.17468271e-02]\n",
      " [ 3.43807695e-01 -9.18433637e-02 -1.31490492e-01 -1.50111503e-01]\n",
      " [ 2.00000000e+00  2.00000000e+00  2.00000000e+00  2.00000000e+00]\n",
      " [ 2.00000000e+00  2.00000000e+00  2.00000000e+00  2.00000000e+00]\n",
      " [ 2.00000000e+00  1.99999915e+00  1.99983689e+00  1.99999999e+00]\n",
      " [ 1.99999888e+00  1.91471540e+00  1.99146235e+00 -8.33255114e-01]\n",
      " [ 1.99999380e+00  1.94222493e+00  1.21828618e+00  1.72157964e+00]\n",
      " [ 1.84018461e+00  4.79778967e-01  4.40657123e-01  5.92565359e-01]\n",
      " [ 4.27190929e-01 -1.79741457e-01 -8.98326282e-01  4.66408135e-01]\n",
      " [-1.03314777e-01 -1.07176431e-01 -2.41076416e-01 -5.48490419e-02]\n",
      " [ 1.07192800e-01 -3.07055373e-01 -2.57307624e-01  3.72700474e-01]\n",
      " [-2.81950805e-01  2.88180172e-01  4.55622939e-01  3.80008236e-03]\n",
      " [ 2.00000000e+00  2.00000000e+00  2.00000000e+00  2.00000000e+00]\n",
      " [ 2.00000000e+00  2.00000000e+00  2.00000000e+00  2.00000000e+00]\n",
      " [ 2.00000000e+00  1.99979828e+00  1.99994109e+00  1.99476249e+00]\n",
      " [ 1.99995574e+00  1.94597690e+00  1.96386601e+00  2.48344361e-01]\n",
      " [ 3.13252807e-01  5.06952143e-01  7.14551961e-01  1.99987474e+00]\n",
      " [ 6.69704013e-01  1.75768244e-01  5.58586747e-01  2.87290261e-01]\n",
      " [ 5.98328020e-01 -4.02498497e-01  5.49760899e-02  4.85768494e-01]\n",
      " [-1.56808482e-01 -3.48598862e-01 -2.17099479e-01 -9.07456938e-01]\n",
      " [-3.75792203e-01  1.59664314e-01 -3.83923765e-01  1.08585288e-01]\n",
      " [ 4.49630895e-01  2.98079320e-01 -9.67737726e-02 -4.55298409e-01]\n",
      " [ 1.99997532e+00  1.99988703e+00  1.99999056e+00  2.00000000e+00]\n",
      " [ 1.99857755e+00  1.93920433e+00  1.99975032e+00  2.00000000e+00]\n",
      " [ 1.98216461e+00  1.47728011e+00  1.79038964e+00  1.99999556e+00]\n",
      " [ 1.57241962e+00 -1.12030972e+00  5.01025098e-01  1.99385749e+00]\n",
      " [ 3.84233896e-01  4.09104449e-01 -1.08293706e-01  1.91758390e+00]\n",
      " [ 1.36676997e+00 -4.94651871e-01 -4.21716916e-01 -2.84789623e-01]\n",
      " [ 1.67128829e-01 -2.35265013e-01 -3.10742329e-01  1.38061497e-01]\n",
      " [-3.46474817e-01 -3.86375040e-01  4.63799830e-01 -1.14348279e-01]\n",
      " [ 4.69896821e-01 -4.55465687e-01 -1.18182704e-03  1.24766814e-01]\n",
      " [-2.62807124e-01  3.70629989e-01  6.09682473e-02  4.01782546e-02]\n",
      " [ 1.99534658e+00  1.42246504e+00  1.81631980e+00  1.99999339e+00]\n",
      " [ 1.75623149e+00 -6.39761203e-01  1.30070870e+00  1.99289137e+00]\n",
      " [ 1.44815308e+00  2.03745421e-01 -1.11858224e+00  1.45760367e+00]\n",
      " [-2.12266086e-01 -1.26742905e-01 -4.45931899e-01 -2.15555913e-01]\n",
      " [-1.07069348e+00  4.48276296e-01  3.35034277e-01 -3.93600496e-01]\n",
      " [ 2.26562467e-01  5.82429531e-01  1.03023519e-02  2.39169700e-01]\n",
      " [ 1.61768749e-01  2.46805114e-01  2.43401420e-01 -2.47547692e-02]\n",
      " [-3.12580878e-01  3.53394657e-01 -2.87858572e-01  2.58805634e-01]\n",
      " [ 3.90037166e-01 -1.53898109e-01 -1.85049509e-01 -4.02783628e-01]\n",
      " [ 5.74982371e-02 -1.25467585e-01 -2.79991705e-01  6.24739215e-02]\n",
      " [ 5.95952660e-01  7.65004827e-01 -4.14967882e-01  1.55476446e+00]\n",
      " [-4.71738742e-01  3.78868086e-01  2.03328167e-02  2.47749148e-01]\n",
      " [-6.24426516e-01 -1.63308250e-01 -1.09230717e-01  1.25174687e-01]\n",
      " [ 2.80451764e-01  2.79761151e-01 -2.01959860e-01  3.77110201e-01]\n",
      " [ 3.56063788e-01  4.60069146e-01  7.15732406e-01  3.50241496e-01]\n",
      " [ 7.58280743e-01 -4.66547551e-01 -2.85171982e-01  5.30568809e-01]\n",
      " [-4.77615740e-01  3.90287507e-01 -3.19125881e-01  1.16513139e-01]\n",
      " [-4.49356797e-01  2.45831590e-01  2.60600585e-01 -3.57025386e-01]\n",
      " [ 3.45996005e-01  9.66415811e-02 -3.54863407e-01 -7.93219384e-02]\n",
      " [ 3.49783407e-01  4.94693084e-02  1.25179268e-01  2.36618814e-01]\n",
      " [ 8.52179928e-01  5.42702549e-01  6.69051991e-01  6.13033012e-01]\n",
      " [ 6.72683751e-01  2.61131119e-01 -3.23542956e-01 -5.99657393e-01]\n",
      " [ 3.42452580e-01  1.40214139e-03  2.33543867e-01 -4.86567080e-01]\n",
      " [-4.48153159e-01 -1.75184909e-01 -1.82089088e-01  1.42071535e-01]\n",
      " [-4.84294146e-01 -2.78541646e-01 -4.99540669e-01 -7.05886056e-02]\n",
      " [ 1.93353585e-01 -4.71806701e-01 -3.21910567e-01 -4.45020364e-01]\n",
      " [ 2.40676108e-01  3.60505359e-01 -3.07139313e-02 -5.12450631e-02]\n",
      " [-4.67117796e-01  3.27061718e-01  1.28353742e-01  1.06836215e-01]\n",
      " [ 1.41243214e-01 -3.33856898e-02  2.41774888e-01 -2.63386950e-01]\n",
      " [ 4.04450943e-02 -3.59899193e-01  1.64214785e-02  3.03384975e-01]\n",
      " [ 1.40218488e-01 -7.02584666e-01 -4.45582366e-02  5.58000692e-01]\n",
      " [-4.60682465e-01  3.14043942e-01 -2.66174637e-01  1.65761755e-01]\n",
      " [-6.52139416e-02 -2.58733059e-01  4.87919550e-01  2.19464950e-01]\n",
      " [ 1.05098021e-01 -3.49285592e-01  4.28477613e-01  3.64903239e-01]\n",
      " [ 2.72174635e-01  3.90220634e-01  1.39653226e-02  1.49559717e-01]\n",
      " [-2.41400407e-01  4.81832289e-02 -9.44198978e-03  1.17936638e-01]\n",
      " [ 1.52839116e-01 -1.16388747e-01 -3.95858668e-02  3.68338980e-01]\n",
      " [ 1.79929481e-01  3.40489084e-01  4.61450601e-01  2.26928964e-01]\n",
      " [ 2.90806662e-01  2.21360725e-02 -2.91320840e-01 -3.32031674e-01]\n",
      " [ 2.22680852e-01 -3.51757373e-01  5.91213836e-02  6.91191478e-02]\n",
      " [-4.38685629e-01  2.73316577e-01 -3.21070253e-01  1.69056004e-01]\n",
      " [ 1.73284871e-01 -2.52512119e-01  3.50003043e-01 -3.22182334e-01]\n",
      " [ 2.91324085e-01 -2.39400162e-01 -2.74555867e-01  2.62907482e-01]\n",
      " [ 1.35512267e-01  5.96148197e-02  4.69049703e-01  1.96503505e-01]\n",
      " [ 4.03118220e-01 -1.33217121e-01  3.95716231e-01 -1.43757663e-01]\n",
      " [-4.66125868e-01 -1.02526857e-02 -3.54529824e-01  1.68346682e-02]\n",
      " [ 2.01378035e-01 -3.91444967e-01  3.66370248e-01  4.47029793e-01]\n",
      " [-2.87584427e-01  1.12325384e-01 -2.06920696e-01 -4.51631984e-01]\n",
      " [-4.34061475e-01  4.35537240e-01  1.91271884e-01  2.60018595e-01]\n",
      " [ 4.61105001e-01  4.69572287e-01 -2.03593477e-01 -3.02070262e-01]]\n"
     ]
    }
   ],
   "source": [
    "# Get state and action sizes\n",
    "state_size = env.observation_space.n\n",
    "action_size = env.action_space.n\n",
    "\n",
    "# Extract hole ('H'), empty ('F'), and goal ('G') positions\n",
    "desc = env.unwrapped.desc\n",
    "hole_states = {i for i, row in enumerate(desc.flatten()) if row == b'H'}\n",
    "empty_states = {i for i, row in enumerate(desc.flatten()) if row == b'F'}\n",
    "goal_state = {i for i, row in enumerate(desc.flatten()) if row == b'G'}\n",
    "\n",
    "# Initialize Q-table with small random values to encourage exploration\n",
    "qtable = np.random.uniform(low=-0.5, high=0.5, size=(state_size, action_size))\n",
    "\n",
    "# Training parameters\n",
    "total_episodes = 20000  # Increase episodes for better learning\n",
    "max_steps = 200  \n",
    "learning_rate = 0.8  # Keep high at the start for faster learning\n",
    "gamma = 0.95  # Higher discount factor to encourage long-term rewards\n",
    "epsilon = 1.0  \n",
    "min_epsilon = 0.01  # Allow more exploration for longer\n",
    "decay_rate = 0.0001  # Slower decay to ensure sufficient exploration\n",
    "\n",
    "# Training loop\n",
    "rewards = []\n",
    "for episode in range(total_episodes):\n",
    "    state, _ = env.reset()\n",
    "    total_rewards = 0\n",
    "    done = False\n",
    "\n",
    "    for step in range(max_steps):\n",
    "        # Choose action using epsilon-greedy strategy\n",
    "        if random.uniform(0, 1) > epsilon:\n",
    "            action = np.argmax(qtable[state])  # Exploit\n",
    "        else:\n",
    "            action = env.action_space.sample()  # Explore\n",
    "\n",
    "        # Take action\n",
    "        new_state, reward, done, truncated, _ = env.step(action)\n",
    "\n",
    "        # Modify rewards\n",
    "        if new_state in hole_states:\n",
    "            reward = -100.0  # Higher penalty for falling in a hole\n",
    "        elif new_state in empty_states:\n",
    "            reward = 1  # Small reward for moving forward\n",
    "        elif new_state in goal_state:\n",
    "            reward = 100.0  # Higher reward for reaching goal\n",
    "\n",
    "        # Q-learning update\n",
    "        qtable[state, action] = qtable[state, action] + learning_rate * (\n",
    "            reward + gamma * np.max(qtable[new_state]) - qtable[state, action]\n",
    "        )\n",
    "\n",
    "        total_rewards += reward\n",
    "        state = new_state\n",
    "\n",
    "        if done or truncated:\n",
    "            break\n",
    "\n",
    "    # Decay epsilon slower for better exploration\n",
    "    epsilon = max(min_epsilon, epsilon * np.exp(-decay_rate * episode))\n",
    "    rewards.append(total_rewards)\n",
    "\n",
    "# Print results\n",
    "print(\"Score over time:\", sum(rewards) / total_episodes)\n",
    "print(\"Final Q-Table:\")\n",
    "print(qtable)"
   ]
  },
  {
   "cell_type": "code",
   "execution_count": null,
   "id": "0d22a52f",
   "metadata": {},
   "outputs": [],
   "source": [
    "env.close()"
   ]
  },
  {
   "cell_type": "markdown",
   "id": "c38ed9f9",
   "metadata": {},
   "source": [
    "#### Describe your reward system here."
   ]
  },
  {
   "cell_type": "markdown",
   "id": "67f80b3f",
   "metadata": {},
   "source": [
    "### 2. Training Your Model\n",
    "In the cell seen below, write the code you need to train a Q-Learning model. Display your final Q-table once you are done training your model.\n",
    "\n",
    "*Note, level 5 work uses only the standard Python library and Pandas to train your Q-Learning model. A level 4 uses external libraries like Baseline3.*"
   ]
  },
  {
   "cell_type": "code",
   "execution_count": null,
   "id": "73e62305",
   "metadata": {},
   "outputs": [],
   "source": [
    "# Train model here.\n",
    "# Don't forget to display your final Q table!"
   ]
  },
  {
   "cell_type": "markdown",
   "id": "3b912364",
   "metadata": {},
   "source": [
    "### 3. Testing Your Model\n",
    "In the cell seen below, write the code you need to test your Q-Learning model for **1000 episodes**. It is important to test your model for 1000 episodes so that we are all able to compare our results.\n",
    "\n",
    "*Note, level 5 testing uses both a success rate and an average steps taken metric to evaluate your model. Level 4 uses one or the other.*"
   ]
  },
  {
   "cell_type": "code",
   "execution_count": null,
   "id": "e30cf1dd",
   "metadata": {},
   "outputs": [],
   "source": [
    "# Test model here."
   ]
  },
  {
   "cell_type": "markdown",
   "id": "78e7e09e",
   "metadata": {},
   "source": [
    "### 4. Final Answer\n",
    "In the first cell below, describe the path your elf takes to get to the gift. *Note, a level 5 answer includes a gif of the path your elf takes in order to reach the gift.*\n",
    "\n",
    "In the second cell seen below, describe how well your Q-Learning model performed. Make sure that you explicitly name the **learning rate**, **the discount factor**, and the **reward system** that you used when training your final model. *Note, a level 5 description describes the model's performance using two types of quantitative evidence.*"
   ]
  },
  {
   "cell_type": "markdown",
   "id": "9b6eef8e",
   "metadata": {},
   "source": [
    "![example image](https://gymnasium.farama.org/_images/frozen_lake.gif)"
   ]
  },
  {
   "cell_type": "markdown",
   "id": "54fdae15",
   "metadata": {},
   "source": [
    "#### Describe the path your elf takes here."
   ]
  },
  {
   "cell_type": "markdown",
   "id": "6b8f66ed",
   "metadata": {},
   "source": [
    "#### Describe how well your Q-Learning model performed here."
   ]
  }
 ],
 "metadata": {
  "kernelspec": {
   "display_name": "Python 3 (ipykernel)",
   "language": "python",
   "name": "python3"
  },
  "language_info": {
   "codemirror_mode": {
    "name": "ipython",
    "version": 3
   },
   "file_extension": ".py",
   "mimetype": "text/x-python",
   "name": "python",
   "nbconvert_exporter": "python",
   "pygments_lexer": "ipython3",
   "version": "3.9.13"
  }
 },
 "nbformat": 4,
 "nbformat_minor": 5
}
