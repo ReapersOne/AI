{
 "cells": [
  {
   "cell_type": "markdown",
   "id": "fdb73e9d",
   "metadata": {},
   "source": [
    "# RFP: Maze Solvers\n",
    "\n",
    "## Project Overview\n",
    "You are invited to submit a proposal that answers the following question:\n",
    "\n",
    "### What path will your elf take?\n",
    "\n",
    "*Please submit your proposal by **2/11/25 at 11:59 PM**.*"
   ]
  },
  {
   "cell_type": "markdown",
   "id": "d88b6a60",
   "metadata": {},
   "source": [
    "## Required Proposal Components\n",
    "\n",
    "### 1. Data Description\n",
    "In the code cell below, use [Gymnasium](https://gymnasium.farama.org/) to set up a [Frozen Lake maze](https://gymnasium.farama.org/environments/toy_text/frozen_lake/) for your project. When you are done with the set up, describe the reward system you plan on using.\n",
    "\n",
    "*Note, a level 5 maze is at least 10 x 10 cells large and contains at least five lake cells.*"
   ]
  },
  {
   "cell_type": "code",
   "execution_count": 1,
   "id": "8744bf04",
   "metadata": {},
   "outputs": [],
   "source": [
    "import gymnasium as gym\n",
    "from gymnasium.envs.toy_text.frozen_lake import generate_random_map\n",
    "import random\n",
    "import numpy as np"
   ]
  },
  {
   "cell_type": "code",
   "execution_count": 2,
   "id": "34314a12",
   "metadata": {},
   "outputs": [],
   "source": [
    "# Make maze\n",
    "\n",
    "env = gym.make('FrozenLake-v1', desc=generate_random_map(size=10, seed=259),  is_slippery=False)\n",
    "#initial_state = env.reset()\n",
    "\n",
    "#env.render()\n",
    "\n",
    "# Take a step (0: LEFT, 1: DOWN, 2: RIGHT, 3: UP)\n",
    "#action = 2\n",
    "#new_state, reward, terminated, truncated, info = env.step(action)\n",
    "\n",
    "#env.render()"
   ]
  },
  {
   "cell_type": "code",
   "execution_count": 5,
   "id": "d92818a4",
   "metadata": {
    "scrolled": true
   },
   "outputs": [
    {
     "name": "stdout",
     "output_type": "stream",
     "text": [
      "Score over time: 9.840264999999999\n",
      "Final Q-Table:\n",
      "[[0.66666667 0.66666667 0.66666667 0.66666667]\n",
      " [0.66666667 0.66666667 0.66666667 0.66666667]\n",
      " [0.66666667 0.66666667 0.66666667 0.66666667]\n",
      " [0.66666667 0.         0.66666667 0.66666667]\n",
      " [0.66666667 0.66666667 0.         0.66666667]\n",
      " [0.         0.         0.         0.        ]\n",
      " [0.         0.         0.55019013 0.        ]\n",
      " [0.30621726 0.59588939 0.09       0.52192643]\n",
      " [0.52192643 0.         0.         0.        ]\n",
      " [0.         0.         0.         0.        ]\n",
      " [0.66666667 0.66666667 0.66666667 0.66666667]\n",
      " [0.66666667 0.66666667 0.66666667 0.66666667]\n",
      " [0.66666667 0.66666667 0.         0.66666667]\n",
      " [0.         0.         0.         0.        ]\n",
      " [0.         0.66666667 0.66666615 0.66666662]\n",
      " [0.66666662 0.6666107  0.49403567 0.        ]\n",
      " [0.66441501 0.60935955 0.57573245 0.0999    ]\n",
      " [0.61516955 0.         0.         0.53092643]\n",
      " [0.         0.         0.         0.        ]\n",
      " [0.         0.         0.         0.        ]\n",
      " [0.66666667 0.66666667 0.66666667 0.66666667]\n",
      " [0.66666667 0.66666667 0.66666667 0.66666667]\n",
      " [0.66666667 0.66666667 0.66666667 0.66666667]\n",
      " [0.66666667 0.66666667 0.66666667 0.        ]\n",
      " [0.66666667 0.66666667 0.66666667 0.66666642]\n",
      " [0.66666667 0.66662603 0.63184818 0.66666292]\n",
      " [0.62755689 0.51967225 0.         0.64459211]\n",
      " [0.         0.         0.         0.        ]\n",
      " [0.         0.         0.         0.        ]\n",
      " [0.         0.         0.         0.        ]\n",
      " [0.66666667 0.66666667 0.66666667 0.66666667]\n",
      " [0.66666667 0.66666667 0.66666667 0.66666667]\n",
      " [0.66666667 0.66666667 0.66666667 0.66666667]\n",
      " [0.66666667 0.66666667 0.66666667 0.66666667]\n",
      " [0.66666667 0.66666667 0.66666667 0.66666666]\n",
      " [0.66666667 0.66666549 0.62107437 0.66658639]\n",
      " [0.65566537 0.09       0.49744927 0.61877739]\n",
      " [0.61533192 0.         0.         0.        ]\n",
      " [0.         0.         0.         0.        ]\n",
      " [0.         0.         0.         0.        ]\n",
      " [0.66666667 0.66666667 0.66666667 0.66666667]\n",
      " [0.66666667 0.66666667 0.66666667 0.66666667]\n",
      " [0.66666667 0.66666667 0.66666667 0.66666667]\n",
      " [0.66666667 0.         0.66666667 0.66666667]\n",
      " [0.66666667 0.66666257 0.66665852 0.66666666]\n",
      " [0.66666666 0.63197696 0.6075812  0.6666574 ]\n",
      " [0.59749411 0.45456436 0.         0.57012355]\n",
      " [0.         0.         0.         0.        ]\n",
      " [0.         0.         0.         0.        ]\n",
      " [0.         0.         0.         0.        ]\n",
      " [0.66666667 0.66666667 0.66666667 0.66666667]\n",
      " [0.66666667 0.         0.66666667 0.66666667]\n",
      " [0.66666667 0.66666667 0.         0.66666667]\n",
      " [0.         0.         0.         0.        ]\n",
      " [0.         0.65515722 0.44668559 0.66666644]\n",
      " [0.43171447 0.09       0.26769799 0.66437526]\n",
      " [0.31594099 0.42593542 0.23357228 0.21840525]\n",
      " [0.         0.15885    0.         0.        ]\n",
      " [0.         0.         0.         0.        ]\n",
      " [0.         0.         0.         0.        ]\n",
      " [0.66666667 0.66666667 0.         0.66666667]\n",
      " [0.         0.         0.         0.        ]\n",
      " [0.         0.66666656 0.         0.66666667]\n",
      " [0.         0.         0.         0.        ]\n",
      " [0.         0.         0.22740525 0.65964757]\n",
      " [0.09       0.         0.174735   0.        ]\n",
      " [0.         0.09       0.16785    0.39302061]\n",
      " [0.         0.16785    0.         0.09      ]\n",
      " [0.         0.         0.         0.        ]\n",
      " [0.         0.         0.         0.        ]\n",
      " [0.66666667 0.66666667 0.66666667 0.66666667]\n",
      " [0.66666667 0.66666667 0.66666667 0.        ]\n",
      " [0.65970721 0.66578632 0.6616136  0.66666667]\n",
      " [0.6636822  0.28546779 0.33497052 0.        ]\n",
      " [0.60801463 0.         0.         0.        ]\n",
      " [0.         0.         0.         0.        ]\n",
      " [0.         0.         0.         0.        ]\n",
      " [0.         0.         0.099      0.        ]\n",
      " [0.         0.09       0.         0.        ]\n",
      " [0.         0.         0.         0.        ]\n",
      " [0.66666667 0.         0.66666667 0.66666667]\n",
      " [0.66666667 0.0999     0.66073094 0.666     ]\n",
      " [0.65923557 0.         0.         0.66662959]\n",
      " [0.09       0.         0.22052025 0.        ]\n",
      " [0.27458299 0.         0.         0.        ]\n",
      " [0.         0.09       0.         0.        ]\n",
      " [0.09       0.         0.         0.        ]\n",
      " [0.         0.09       0.         0.        ]\n",
      " [0.09       0.         0.09       0.        ]\n",
      " [0.15885    0.         0.34382522 0.        ]\n",
      " [0.         0.         0.         0.        ]\n",
      " [0.         0.         0.         0.        ]\n",
      " [0.         0.         0.         0.        ]\n",
      " [0.         0.         0.         0.        ]\n",
      " [0.         0.16785    0.         0.        ]\n",
      " [0.09       0.16785    0.         0.        ]\n",
      " [0.         0.         0.15885    0.09      ]\n",
      " [0.22052025 0.         0.         0.        ]\n",
      " [0.         0.         0.         0.        ]\n",
      " [0.         0.         0.         0.        ]]\n"
     ]
    }
   ],
   "source": [
    "\n",
    "# Get state and action sizes\n",
    "state_size = env.observation_space.n\n",
    "action_size = env.action_space.n\n",
    "\n",
    "# Initialize Q-table\n",
    "qtable = np.zeros((state_size, action_size))\n",
    "\n",
    "# Training parameters\n",
    "total_episodes = 20000\n",
    "max_steps = 200  \n",
    "learning_rate = 0.9  \n",
    "gamma = 0.85  \n",
    "epsilon = 1.0  \n",
    "min_epsilon = 0.05  \n",
    "decay_rate = 0.0005 \n",
    "\n",
    "# Training loop\n",
    "rewards = []\n",
    "for episode in range(total_episodes):\n",
    "    state, _ = env.reset()\n",
    "    total_rewards = 0\n",
    "    done = False\n",
    "\n",
    "    for step in range(max_steps):\n",
    "        # Exploration-exploitation trade-off\n",
    "        if random.uniform(0, 1) > epsilon:\n",
    "            action = np.argmax(qtable[state])  # Exploit\n",
    "        else:\n",
    "            action = env.action_space.sample()  # Explore\n",
    "\n",
    "        # Take action\n",
    "        new_state, reward, done, truncated, _ = env.step(action)\n",
    "\n",
    "        # Add small step reward to encourage movement\n",
    "        reward = 0.1 if not done else reward\n",
    "\n",
    "        # Q-learning update\n",
    "        qtable[state, action] = qtable[state, action] + learning_rate * (\n",
    "            reward + gamma * np.max(qtable[new_state]) - qtable[state, action]\n",
    "        )\n",
    "\n",
    "        total_rewards += reward\n",
    "        state = new_state\n",
    "\n",
    "        if done or truncated:\n",
    "            break\n",
    "\n",
    "    # Slow down epsilon decay\n",
    "    epsilon = max(min_epsilon, epsilon * 0.999)\n",
    "    rewards.append(total_rewards)\n",
    "\n",
    "# Print results\n",
    "print(\"Score over time:\", sum(rewards) / total_episodes)\n",
    "print(\"Final Q-Table:\")\n",
    "print(qtable)\n"
   ]
  },
  {
   "cell_type": "code",
   "execution_count": null,
   "id": "0d22a52f",
   "metadata": {},
   "outputs": [],
   "source": [
    "env.close()"
   ]
  },
  {
   "cell_type": "markdown",
   "id": "c38ed9f9",
   "metadata": {},
   "source": [
    "#### Describe your reward system here."
   ]
  },
  {
   "cell_type": "markdown",
   "id": "67f80b3f",
   "metadata": {},
   "source": [
    "### 2. Training Your Model\n",
    "In the cell seen below, write the code you need to train a Q-Learning model. Display your final Q-table once you are done training your model.\n",
    "\n",
    "*Note, level 5 work uses only the standard Python library and Pandas to train your Q-Learning model. A level 4 uses external libraries like Baseline3.*"
   ]
  },
  {
   "cell_type": "code",
   "execution_count": null,
   "id": "73e62305",
   "metadata": {},
   "outputs": [],
   "source": [
    "# Train model here.\n",
    "# Don't forget to display your final Q table!"
   ]
  },
  {
   "cell_type": "markdown",
   "id": "3b912364",
   "metadata": {},
   "source": [
    "### 3. Testing Your Model\n",
    "In the cell seen below, write the code you need to test your Q-Learning model for **1000 episodes**. It is important to test your model for 1000 episodes so that we are all able to compare our results.\n",
    "\n",
    "*Note, level 5 testing uses both a success rate and an average steps taken metric to evaluate your model. Level 4 uses one or the other.*"
   ]
  },
  {
   "cell_type": "code",
   "execution_count": null,
   "id": "e30cf1dd",
   "metadata": {},
   "outputs": [],
   "source": [
    "# Test model here."
   ]
  },
  {
   "cell_type": "markdown",
   "id": "78e7e09e",
   "metadata": {},
   "source": [
    "### 4. Final Answer\n",
    "In the first cell below, describe the path your elf takes to get to the gift. *Note, a level 5 answer includes a gif of the path your elf takes in order to reach the gift.*\n",
    "\n",
    "In the second cell seen below, describe how well your Q-Learning model performed. Make sure that you explicitly name the **learning rate**, **the discount factor**, and the **reward system** that you used when training your final model. *Note, a level 5 description describes the model's performance using two types of quantitative evidence.*"
   ]
  },
  {
   "cell_type": "markdown",
   "id": "9b6eef8e",
   "metadata": {},
   "source": [
    "![example image](https://gymnasium.farama.org/_images/frozen_lake.gif)"
   ]
  },
  {
   "cell_type": "markdown",
   "id": "54fdae15",
   "metadata": {},
   "source": [
    "#### Describe the path your elf takes here."
   ]
  },
  {
   "cell_type": "markdown",
   "id": "6b8f66ed",
   "metadata": {},
   "source": [
    "#### Describe how well your Q-Learning model performed here."
   ]
  }
 ],
 "metadata": {
  "kernelspec": {
   "display_name": "Python 3 (ipykernel)",
   "language": "python",
   "name": "python3"
  },
  "language_info": {
   "codemirror_mode": {
    "name": "ipython",
    "version": 3
   },
   "file_extension": ".py",
   "mimetype": "text/x-python",
   "name": "python",
   "nbconvert_exporter": "python",
   "pygments_lexer": "ipython3",
   "version": "3.9.13"
  }
 },
 "nbformat": 4,
 "nbformat_minor": 5
}
