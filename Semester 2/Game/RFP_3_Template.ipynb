{
 "cells": [
  {
   "cell_type": "markdown",
   "id": "fdb73e9d",
   "metadata": {},
   "source": [
    "# RFP: Maze Solvers\n",
    "\n",
    "## Project Overview\n",
    "You are invited to submit a proposal that answers the following question:\n",
    "\n",
    "### What path will your elf take?\n",
    "\n",
    "*Please submit your proposal by **2/11/25 at 11:59 PM**.*"
   ]
  },
  {
   "cell_type": "markdown",
   "id": "d88b6a60",
   "metadata": {},
   "source": [
    "## Required Proposal Components\n",
    "\n",
    "### 1. Data Description\n",
    "In the code cell below, use [Gymnasium](https://gymnasium.farama.org/) to set up a [Frozen Lake maze](https://gymnasium.farama.org/environments/toy_text/frozen_lake/) for your project. When you are done with the set up, describe the reward system you plan on using.\n",
    "\n",
    "*Note, a level 5 maze is at least 10 x 10 cells large and contains at least five lake cells.*"
   ]
  },
  {
   "cell_type": "code",
   "execution_count": 1,
   "id": "8744bf04",
   "metadata": {},
   "outputs": [],
   "source": [
    "import gymnasium as gym\n",
    "from gymnasium.envs.toy_text.frozen_lake import generate_random_map\n",
    "import random\n",
    "import numpy as np"
   ]
  },
  {
   "cell_type": "code",
   "execution_count": 2,
   "id": "34314a12",
   "metadata": {},
   "outputs": [],
   "source": [
    "# Make maze\n",
    "\n",
    "env = gym.make('FrozenLake-v1', desc=generate_random_map(size=10, seed=259),  is_slippery=False)\n",
    "#initial_state = env.reset()\n",
    "\n",
    "#env.render()\n",
    "\n",
    "# Take a step (0: LEFT, 1: DOWN, 2: RIGHT, 3: UP)\n",
    "#action = 2\n",
    "#new_state, reward, terminated, truncated, info = env.step(action)\n",
    "\n",
    "#env.render()"
   ]
  },
  {
   "cell_type": "code",
   "execution_count": 3,
   "id": "0f243754",
   "metadata": {},
   "outputs": [
    {
     "name": "stdout",
     "output_type": "stream",
     "text": [
      "Score over time: 98.8063\n",
      "Final Q-Table:\n",
      "[[ 1.90000000e+01  2.00000000e+01  2.00000000e+01  1.90000000e+01]\n",
      " [ 1.90000000e+01  2.00000000e+01  2.00000000e+01  2.00000000e+01]\n",
      " [ 2.00000000e+01  1.99999981e+01  1.99988807e+01  1.99999999e+01]\n",
      " [ 1.99989987e+01 -9.96515866e+01  7.79871349e+00  1.99882867e+01]\n",
      " [ 3.59120610e-01  6.02009437e+00 -9.96898335e+01  7.85731708e+00]\n",
      " [-3.16016616e-01  9.21872011e-02  3.16007711e-01 -4.01093726e-01]\n",
      " [-9.87066429e+01  7.37359170e+00  1.03257481e+00  2.95620169e-01]\n",
      " [ 8.87834238e-02  1.12197038e+00  9.95295756e-01 -1.84804647e-01]\n",
      " [-2.99131730e-01  9.34915259e-02  1.08082118e+00  9.89200164e-01]\n",
      " [-4.14047482e-01  7.15773749e-01  2.55189083e-01  2.79896703e+00]\n",
      " [ 2.00000000e+01  2.00000000e+01  2.00000000e+01  1.90000000e+01]\n",
      " [ 2.00000000e+01  2.00000000e+01  2.00000000e+01  2.00000000e+01]\n",
      " [ 2.00000000e+01  2.00000000e+01 -9.96515876e+01  2.00000000e+01]\n",
      " [ 2.96129754e-02  1.68479770e-01 -4.71271777e-01  3.66749863e-01]\n",
      " [-9.86542177e+01  5.52439512e+00  9.58458290e+00  6.06325628e+00]\n",
      " [ 6.87629166e+00  8.77211878e+00  9.91285475e+00 -9.95996590e+01]\n",
      " [ 9.48432934e+00  8.51113868e+00  7.48595269e+00  7.94385827e+00]\n",
      " [ 8.96791241e+00 -9.85530810e+01  2.63587496e+00  1.81659107e+00]\n",
      " [ 3.34343160e+00  2.12002902e-01 -3.73392495e-01  2.95005421e-01]\n",
      " [-2.15355162e-01  1.23305663e+00 -2.10183864e-01 -3.57388763e-01]\n",
      " [ 2.00000000e+01  2.00000000e+01  2.00000000e+01  2.00000000e+01]\n",
      " [ 2.00000000e+01  2.00000000e+01  2.00000000e+01  2.00000000e+01]\n",
      " [ 2.00000000e+01  2.00000000e+01  2.00000000e+01  2.00000000e+01]\n",
      " [ 2.00000000e+01  1.99999995e+01  1.99853118e+01 -9.96515876e+01]\n",
      " [ 1.99984677e+01  1.98290211e+01  9.13093774e+00  1.00860373e+01]\n",
      " [ 1.86318194e+01  2.71520627e+00  9.10774964e+00  8.37342786e+00]\n",
      " [ 7.46369741e+00  5.45015556e+00 -3.28645670e-01  9.86762162e+00]\n",
      " [ 4.34163685e-01  4.72176797e-01 -2.66710221e-01  1.40114975e-01]\n",
      " [ 2.57673498e-01  3.25976342e-01 -4.23507131e-01  2.15181472e-01]\n",
      " [-3.60420962e-01  2.51373077e+00  4.18313410e-01  3.25681105e-01]\n",
      " [ 2.00000000e+01  2.00000000e+01  2.00000000e+01  2.00000000e+01]\n",
      " [ 2.00000000e+01  2.00000000e+01  2.00000000e+01  2.00000000e+01]\n",
      " [ 2.00000000e+01  2.00000000e+01  2.00000000e+01  2.00000000e+01]\n",
      " [ 1.99997478e+01  1.99666761e+01  1.99114204e+01  2.00000000e+01]\n",
      " [ 1.98227609e+01  1.97784016e+01  1.93718436e+01  1.99775929e+01]\n",
      " [ 1.98812747e+01  1.61442692e+01  5.76913994e+00  1.71721438e+01]\n",
      " [ 5.03513263e+00  1.47384556e+01  1.14828133e-01  4.12419297e+00]\n",
      " [ 1.20183583e-01 -3.49120832e-02 -1.54879617e-01 -4.61514694e-01]\n",
      " [-1.23722137e-01 -8.50837107e-02  2.57721475e-01 -1.53284133e-01]\n",
      " [ 1.27849724e-01  1.27094480e+00 -1.87742808e-01  1.76362432e+00]\n",
      " [ 2.00000000e+01  2.00000000e+01  2.00000000e+01  2.00000000e+01]\n",
      " [ 2.00000000e+01  2.00000000e+01  2.00000000e+01  2.00000000e+01]\n",
      " [ 2.00000000e+01  1.99919861e+01  1.99999940e+01  2.00000000e+01]\n",
      " [ 1.79354327e+01 -9.97537518e+01  1.94319911e+01  1.99999999e+01]\n",
      " [ 1.97913810e+01  6.56692445e+00  1.60451037e+01  1.22496148e+01]\n",
      " [ 1.62888459e+01  4.63325124e+00  1.91793670e+00  1.96079575e+01]\n",
      " [ 1.91076052e+01  1.28411799e+00 -8.96326434e+01  1.06759615e+00]\n",
      " [-4.04344558e-01  3.33750487e-01  4.07175342e-01  3.89080496e-01]\n",
      " [ 3.22788434e-01 -7.52571951e-03 -1.29036669e-01 -8.97666516e+01]\n",
      " [ 1.21705975e+00 -3.19952025e-01  2.05049459e+00  1.46233683e-01]\n",
      " [ 2.00000000e+01  1.99997830e+01  2.00000000e+01  1.99994566e+01]\n",
      " [ 1.99999996e+01 -9.95794732e+01  1.99999535e+01  2.00000000e+01]\n",
      " [ 1.99999977e+01  1.59809767e+01 -9.96552934e+01  1.99684225e+01]\n",
      " [ 2.58162203e-01 -3.87824375e-01 -4.64200236e-01 -1.68193854e-01]\n",
      " [-8.97984909e+01  6.38322236e+00  6.44852683e+00 -3.18551960e-01]\n",
      " [ 6.62885173e+00  2.35114856e+00  5.77451754e+00  2.52171576e+00]\n",
      " [ 6.34124658e+00  1.02885628e+00  2.77184564e+00  2.00891317e+00]\n",
      " [ 4.28242204e+00 -4.66228609e-01 -8.96422538e+01  2.88368477e-01]\n",
      " [ 4.70151563e-01  2.33699263e-01  3.72298664e-01 -1.76461099e-01]\n",
      " [-3.11152298e-01  2.85122895e-01 -9.24545533e-02  3.42896463e-01]\n",
      " [ 1.94891624e+01  6.27607404e+00 -9.95794633e+01  1.99999950e+01]\n",
      " [-1.05707627e-01  7.59515918e-02  4.42659786e-01  2.03890125e-01]\n",
      " [-9.94797892e+01  5.55349108e+00 -8.95719824e+01  1.57701962e+01]\n",
      " [-1.40590917e-02  4.73135870e-01 -2.57434645e-01 -3.54057937e-01]\n",
      " [-8.96091509e+01  1.16469945e+00  2.44610508e-01  7.03094517e+00]\n",
      " [ 1.76634228e+00 -4.94761612e-02  1.74968202e+00  1.71961729e-01]\n",
      " [ 1.04714280e+00 -1.91520201e-01  2.42222704e+00 -2.71388668e-01]\n",
      " [ 1.67420050e+00  1.10410964e+00 -2.32749582e-01  2.62775692e+00]\n",
      " [ 3.73458360e-01  3.88178981e-01 -4.24857029e-01  3.03108781e-01]\n",
      " [-4.86043924e-01  1.53560608e-01  8.61959211e-03 -4.95861081e-01]\n",
      " [ 6.54149625e+00  7.65803986e+00  1.29469253e+00  1.84166602e+01]\n",
      " [ 6.80757285e+00 -1.34834842e-01 -2.98783350e-01  4.05460597e-01]\n",
      " [ 3.59054703e+00 -9.51840648e-02  5.33992603e+00 -4.81415810e-01]\n",
      " [ 4.71712159e+00  2.68240416e+00  3.20767562e-01  4.79739707e-01]\n",
      " [-1.98189146e-01  1.31169884e+00 -8.98201899e+01 -9.01441066e-02]\n",
      " [ 2.36096886e-01 -1.33884807e-02 -6.43984774e-02  9.11382794e-02]\n",
      " [-8.97487489e+01  7.93974271e-02  2.43987633e+00  1.17186396e-01]\n",
      " [ 2.39872437e-01  5.15377227e+00 -1.38734410e-01  1.83075476e+00]\n",
      " [-4.85737706e-01  4.72036006e-01 -1.65422242e-01  3.60361986e-01]\n",
      " [ 2.45633907e-01 -1.74081483e-01  3.94271828e-01  3.18011523e-01]\n",
      " [ 8.81071030e+00 -8.97331375e+01  1.32515765e+00  7.97352045e+00]\n",
      " [ 2.19539300e-01  4.66061280e-01  8.76712362e-01  4.95680083e-01]\n",
      " [-4.17830271e-01  1.09594230e+00  1.27911421e+00 -4.89738894e-01]\n",
      " [ 2.03899240e+00 -3.24176126e-01  1.54059374e+00 -1.16073634e-01]\n",
      " [ 4.59250054e-01  3.85124216e-01  4.43497741e+00 -2.66474792e-01]\n",
      " [-3.96238125e-01 -3.47100092e-01  5.42981220e+00 -2.67424877e-01]\n",
      " [ 4.80925861e+00  5.63604986e+00  6.90072193e+00  1.13254904e+00]\n",
      " [ 7.43496743e+00 -2.31827483e-01  2.77577435e-01  2.64602058e-01]\n",
      " [ 4.91415515e-01 -4.32683446e-01 -3.95500577e-01  1.91650757e-01]\n",
      " [ 1.89748858e-01 -1.03840146e-01 -6.96270842e-02 -7.52148848e-02]\n",
      " [ 9.34688296e-02 -4.81488609e-01  2.76680274e-01  3.27107667e-01]\n",
      " [-8.97494273e+01 -9.38301732e-02 -2.07384737e-01 -5.15554374e-02]\n",
      " [ 8.43974751e-01  2.37344631e-01 -3.63771092e-01 -1.32404647e-01]\n",
      " [-3.46035616e-03  3.99703605e-01  2.98419829e-01  1.34346302e-01]\n",
      " [ 2.86658461e-02 -1.43977154e-01  3.08392604e-01  4.43459450e-01]\n",
      " [-1.78278296e-01 -4.53737710e-01 -1.14810930e-01  1.37755511e-01]\n",
      " [ 3.67053400e-01  5.56451399e+00  9.57651087e-01  5.20704516e+00]\n",
      " [-2.14335662e-01 -4.95344705e-01  1.10628140e+00  9.14533364e-02]\n",
      " [-1.31456094e-01  2.57056953e-01  9.00964433e+01 -2.50442414e-01]\n",
      " [-2.07872023e-01 -3.64533712e-01  8.13608385e-02 -1.97774803e-01]]\n"
     ]
    }
   ],
   "source": [
    "# Get state and action sizes\n",
    "state_size = env.observation_space.n\n",
    "action_size = env.action_space.n\n",
    "\n",
    "# Extract hole ('H'), empty ('F'), and goal ('G') positions\n",
    "desc = env.unwrapped.desc\n",
    "hole_states = {i for i, row in enumerate(desc.flatten()) if row == b'H'}\n",
    "empty_states = {i for i, row in enumerate(desc.flatten()) if row == b'F'}\n",
    "goal_state = {i for i, row in enumerate(desc.flatten()) if row == b'G'}\n",
    "\n",
    "# Initialize Q-table with small random values to encourage exploration\n",
    "qtable = np.random.uniform(low=-0.5, high=0.5, size=(state_size, action_size))\n",
    "\n",
    "# Training parameters\n",
    "total_episodes = 20000  # Increase episodes for better learning\n",
    "max_steps = 200  \n",
    "learning_rate = 0.9  # Keep high at the start for faster learning\n",
    "gamma = 0.95  # Higher discount factor to encourage long-term rewards\n",
    "epsilon = 1.0  \n",
    "min_epsilon = 0.01  # Allow more exploration for longer\n",
    "decay_rate = 0.0001  # Slower decay to ensure sufficient exploration\n",
    "\n",
    "# Training loop\n",
    "rewards = []\n",
    "for episode in range(total_episodes):\n",
    "    state, _ = env.reset()\n",
    "    total_rewards = 0\n",
    "    done = False\n",
    "\n",
    "    for step in range(max_steps):\n",
    "        # Choose action using epsilon-greedy strategy\n",
    "        if random.uniform(0, 1) > epsilon:\n",
    "            action = np.argmax(qtable[state])  # Exploit\n",
    "        else:\n",
    "            action = env.action_space.sample()  # Explore\n",
    "\n",
    "        # Take action\n",
    "        new_state, reward, done, truncated, _ = env.step(action)\n",
    "\n",
    "        # Modify rewards\n",
    "        if new_state in hole_states:\n",
    "            reward = -1.0  # Higher penalty for falling in a hole\n",
    "        elif new_state in empty_states:\n",
    "            reward = 0.1  # Small reward for moving forward\n",
    "        elif new_state in goal_state:\n",
    "            reward = 1.0  # Higher reward for reaching goal\n",
    "\n",
    "        # Q-learning update\n",
    "        qtable[state, action] = qtable[state, action] + learning_rate * (\n",
    "            reward + gamma * np.max(qtable[new_state]) - qtable[state, action]\n",
    "        )\n",
    "\n",
    "        total_rewards += reward\n",
    "        state = new_state\n",
    "\n",
    "        if done or truncated:\n",
    "            break\n",
    "\n",
    "    # Decay epsilon slower for better exploration\n",
    "    epsilon = max(min_epsilon, epsilon * np.exp(-decay_rate * episode))\n",
    "    rewards.append(total_rewards)\n",
    "\n",
    "# Print results\n",
    "print(\"Score over time:\", sum(rewards) / total_episodes)\n",
    "print(\"Final Q-Table:\")\n",
    "print(qtable)"
   ]
  },
  {
   "cell_type": "code",
   "execution_count": null,
   "id": "0d22a52f",
   "metadata": {},
   "outputs": [],
   "source": [
    "env.close()"
   ]
  },
  {
   "cell_type": "markdown",
   "id": "c38ed9f9",
   "metadata": {},
   "source": [
    "#### Describe your reward system here."
   ]
  },
  {
   "cell_type": "markdown",
   "id": "67f80b3f",
   "metadata": {},
   "source": [
    "### 2. Training Your Model\n",
    "In the cell seen below, write the code you need to train a Q-Learning model. Display your final Q-table once you are done training your model.\n",
    "\n",
    "*Note, level 5 work uses only the standard Python library and Pandas to train your Q-Learning model. A level 4 uses external libraries like Baseline3.*"
   ]
  },
  {
   "cell_type": "code",
   "execution_count": null,
   "id": "73e62305",
   "metadata": {},
   "outputs": [],
   "source": [
    "# Train model here.\n",
    "# Don't forget to display your final Q table!"
   ]
  },
  {
   "cell_type": "markdown",
   "id": "3b912364",
   "metadata": {},
   "source": [
    "### 3. Testing Your Model\n",
    "In the cell seen below, write the code you need to test your Q-Learning model for **1000 episodes**. It is important to test your model for 1000 episodes so that we are all able to compare our results.\n",
    "\n",
    "*Note, level 5 testing uses both a success rate and an average steps taken metric to evaluate your model. Level 4 uses one or the other.*"
   ]
  },
  {
   "cell_type": "code",
   "execution_count": null,
   "id": "e30cf1dd",
   "metadata": {},
   "outputs": [],
   "source": [
    "# Test model here."
   ]
  },
  {
   "cell_type": "markdown",
   "id": "78e7e09e",
   "metadata": {},
   "source": [
    "### 4. Final Answer\n",
    "In the first cell below, describe the path your elf takes to get to the gift. *Note, a level 5 answer includes a gif of the path your elf takes in order to reach the gift.*\n",
    "\n",
    "In the second cell seen below, describe how well your Q-Learning model performed. Make sure that you explicitly name the **learning rate**, **the discount factor**, and the **reward system** that you used when training your final model. *Note, a level 5 description describes the model's performance using two types of quantitative evidence.*"
   ]
  },
  {
   "cell_type": "markdown",
   "id": "9b6eef8e",
   "metadata": {},
   "source": [
    "![example image](https://gymnasium.farama.org/_images/frozen_lake.gif)"
   ]
  },
  {
   "cell_type": "markdown",
   "id": "54fdae15",
   "metadata": {},
   "source": [
    "#### Describe the path your elf takes here."
   ]
  },
  {
   "cell_type": "markdown",
   "id": "6b8f66ed",
   "metadata": {},
   "source": [
    "#### Describe how well your Q-Learning model performed here."
   ]
  }
 ],
 "metadata": {
  "kernelspec": {
   "display_name": "Python 3 (ipykernel)",
   "language": "python",
   "name": "python3"
  },
  "language_info": {
   "codemirror_mode": {
    "name": "ipython",
    "version": 3
   },
   "file_extension": ".py",
   "mimetype": "text/x-python",
   "name": "python",
   "nbconvert_exporter": "python",
   "pygments_lexer": "ipython3",
   "version": "3.9.13"
  }
 },
 "nbformat": 4,
 "nbformat_minor": 5
}
