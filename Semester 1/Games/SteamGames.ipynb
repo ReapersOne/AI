{
 "cells": [
  {
   "cell_type": "code",
   "execution_count": 1,
   "id": "c20c2f76",
   "metadata": {},
   "outputs": [],
   "source": [
    "import pandas as pd\n",
    "import seaborn as sns\n",
    "import numpy as np\n",
    "import matplotlib.pyplot as plt"
   ]
  },
  {
   "cell_type": "code",
   "execution_count": 2,
   "id": "891c3f62",
   "metadata": {},
   "outputs": [
    {
     "name": "stdout",
     "output_type": "stream",
     "text": [
      "<class 'pandas.core.frame.DataFrame'>\n",
      "Int64Index: 97410 entries, 0 to 97409\n",
      "Data columns (total 38 columns):\n",
      " #   Column                    Non-Null Count  Dtype  \n",
      "---  ------                    --------------  -----  \n",
      " 0   ID                        97410 non-null  int64  \n",
      " 1   name                      97404 non-null  object \n",
      " 2   release_date              97410 non-null  object \n",
      " 3   estimated_owners          97410 non-null  object \n",
      " 4   peak_ccu                  97410 non-null  int64  \n",
      " 5   required_age              97410 non-null  int64  \n",
      " 6   price                     97410 non-null  float64\n",
      " 7   dlc_count                 97410 non-null  int64  \n",
      " 8   main_description          92540 non-null  object \n",
      " 9   supported_languages       97410 non-null  object \n",
      " 10  full_audio_languages      97410 non-null  object \n",
      " 11  reviews                   10125 non-null  object \n",
      " 12  header_image              97410 non-null  object \n",
      " 13  website                   42737 non-null  object \n",
      " 14  support_url               45908 non-null  object \n",
      " 15  support_email             81378 non-null  object \n",
      " 16  windows                   97410 non-null  bool   \n",
      " 17  mac                       97410 non-null  bool   \n",
      " 18  linux                     97410 non-null  bool   \n",
      " 19  metacritic_score          97410 non-null  int64  \n",
      " 20  metacriticURL             3953 non-null   object \n",
      " 21  user_score                97410 non-null  int64  \n",
      " 22  positive                  97410 non-null  int64  \n",
      " 23  negative                  97410 non-null  int64  \n",
      " 24  score_rank                44 non-null     float64\n",
      " 25  achievements              97410 non-null  int64  \n",
      " 26  recommendations           97410 non-null  int64  \n",
      " 27  notes                     15474 non-null  object \n",
      " 28  average_playtime_forever  97410 non-null  int64  \n",
      " 29  average_playtime_2weeks   97410 non-null  int64  \n",
      " 30  median_playtime_forever   97410 non-null  int64  \n",
      " 31  packages                  97410 non-null  int64  \n",
      " 32  developers                92534 non-null  object \n",
      " 33  publishers                92274 non-null  object \n",
      " 34  categories                91497 non-null  object \n",
      " 35  genres                    92569 non-null  object \n",
      " 36  tags                      67647 non-null  object \n",
      " 37  screenshots               94515 non-null  object \n",
      "dtypes: bool(3), float64(2), int64(14), object(19)\n",
      "memory usage: 27.0+ MB\n"
     ]
    }
   ],
   "source": [
    "df = pd.read_json(\"games.json\")\n",
    "df.info()"
   ]
  },
  {
   "cell_type": "code",
   "execution_count": 3,
   "id": "21626426",
   "metadata": {},
   "outputs": [
    {
     "data": {
      "text/html": [
       "<div>\n",
       "<style scoped>\n",
       "    .dataframe tbody tr th:only-of-type {\n",
       "        vertical-align: middle;\n",
       "    }\n",
       "\n",
       "    .dataframe tbody tr th {\n",
       "        vertical-align: top;\n",
       "    }\n",
       "\n",
       "    .dataframe thead th {\n",
       "        text-align: right;\n",
       "    }\n",
       "</style>\n",
       "<table border=\"1\" class=\"dataframe\">\n",
       "  <thead>\n",
       "    <tr style=\"text-align: right;\">\n",
       "      <th></th>\n",
       "      <th>ID</th>\n",
       "      <th>name</th>\n",
       "      <th>release_date</th>\n",
       "      <th>estimated_owners</th>\n",
       "      <th>peak_ccu</th>\n",
       "      <th>required_age</th>\n",
       "      <th>price</th>\n",
       "      <th>dlc_count</th>\n",
       "      <th>main_description</th>\n",
       "      <th>supported_languages</th>\n",
       "      <th>...</th>\n",
       "      <th>average_playtime_forever</th>\n",
       "      <th>average_playtime_2weeks</th>\n",
       "      <th>median_playtime_forever</th>\n",
       "      <th>packages</th>\n",
       "      <th>developers</th>\n",
       "      <th>publishers</th>\n",
       "      <th>categories</th>\n",
       "      <th>genres</th>\n",
       "      <th>tags</th>\n",
       "      <th>screenshots</th>\n",
       "    </tr>\n",
       "  </thead>\n",
       "  <tbody>\n",
       "    <tr>\n",
       "      <th>0</th>\n",
       "      <td>20200</td>\n",
       "      <td>Galactic Bowling</td>\n",
       "      <td>Oct 21, 2008</td>\n",
       "      <td>0 - 20000</td>\n",
       "      <td>0</td>\n",
       "      <td>0</td>\n",
       "      <td>19.99</td>\n",
       "      <td>0</td>\n",
       "      <td>Galactic Bowling is an exaggerated and stylize...</td>\n",
       "      <td>['English']</td>\n",
       "      <td>...</td>\n",
       "      <td>0</td>\n",
       "      <td>0</td>\n",
       "      <td>0</td>\n",
       "      <td>0</td>\n",
       "      <td>Perpetual FX Creative</td>\n",
       "      <td>Perpetual FX Creative</td>\n",
       "      <td>Single-player,Multi-player,Steam Achievements,...</td>\n",
       "      <td>Casual,Indie,Sports</td>\n",
       "      <td>Indie,Casual,Sports,Bowling</td>\n",
       "      <td>https://cdn.akamai.steamstatic.com/steam/apps/...</td>\n",
       "    </tr>\n",
       "    <tr>\n",
       "      <th>1</th>\n",
       "      <td>655370</td>\n",
       "      <td>Train Bandit</td>\n",
       "      <td>Oct 12, 2017</td>\n",
       "      <td>0 - 20000</td>\n",
       "      <td>0</td>\n",
       "      <td>0</td>\n",
       "      <td>0.99</td>\n",
       "      <td>0</td>\n",
       "      <td>THE LAW!! Looks to be a showdown atop a train....</td>\n",
       "      <td>['English', 'French', 'Italian', 'German', 'Sp...</td>\n",
       "      <td>...</td>\n",
       "      <td>0</td>\n",
       "      <td>0</td>\n",
       "      <td>0</td>\n",
       "      <td>0</td>\n",
       "      <td>Rusty Moyher</td>\n",
       "      <td>Wild Rooster</td>\n",
       "      <td>Single-player,Steam Achievements,Full controll...</td>\n",
       "      <td>Action,Indie</td>\n",
       "      <td>Indie,Action,Pixel Graphics,2D,Retro,Arcade,Sc...</td>\n",
       "      <td>https://cdn.akamai.steamstatic.com/steam/apps/...</td>\n",
       "    </tr>\n",
       "    <tr>\n",
       "      <th>2</th>\n",
       "      <td>1732930</td>\n",
       "      <td>Jolt Project</td>\n",
       "      <td>Nov 17, 2021</td>\n",
       "      <td>0 - 20000</td>\n",
       "      <td>0</td>\n",
       "      <td>0</td>\n",
       "      <td>4.99</td>\n",
       "      <td>0</td>\n",
       "      <td>Jolt Project: The army now has a new robotics ...</td>\n",
       "      <td>['English', 'Portuguese - Brazil']</td>\n",
       "      <td>...</td>\n",
       "      <td>0</td>\n",
       "      <td>0</td>\n",
       "      <td>0</td>\n",
       "      <td>0</td>\n",
       "      <td>Campião Games</td>\n",
       "      <td>Campião Games</td>\n",
       "      <td>Single-player</td>\n",
       "      <td>Action,Adventure,Indie,Strategy</td>\n",
       "      <td>None</td>\n",
       "      <td>https://cdn.akamai.steamstatic.com/steam/apps/...</td>\n",
       "    </tr>\n",
       "    <tr>\n",
       "      <th>3</th>\n",
       "      <td>1355720</td>\n",
       "      <td>Henosis™</td>\n",
       "      <td>Jul 23, 2020</td>\n",
       "      <td>0 - 20000</td>\n",
       "      <td>0</td>\n",
       "      <td>0</td>\n",
       "      <td>5.99</td>\n",
       "      <td>0</td>\n",
       "      <td>HENOSIS™ is a mysterious 2D Platform Puzzler w...</td>\n",
       "      <td>['English', 'French', 'Italian', 'German', 'Sp...</td>\n",
       "      <td>...</td>\n",
       "      <td>0</td>\n",
       "      <td>0</td>\n",
       "      <td>0</td>\n",
       "      <td>0</td>\n",
       "      <td>Odd Critter Games</td>\n",
       "      <td>Odd Critter Games</td>\n",
       "      <td>Single-player,Full controller support</td>\n",
       "      <td>Adventure,Casual,Indie</td>\n",
       "      <td>2D Platformer,Atmospheric,Surreal,Mystery,Puzz...</td>\n",
       "      <td>https://cdn.akamai.steamstatic.com/steam/apps/...</td>\n",
       "    </tr>\n",
       "    <tr>\n",
       "      <th>4</th>\n",
       "      <td>1139950</td>\n",
       "      <td>Two Weeks in Painland</td>\n",
       "      <td>Feb 3, 2020</td>\n",
       "      <td>0 - 20000</td>\n",
       "      <td>0</td>\n",
       "      <td>0</td>\n",
       "      <td>0.00</td>\n",
       "      <td>0</td>\n",
       "      <td>ABOUT THE GAME Play as a hacker who has arrang...</td>\n",
       "      <td>['English', 'Spanish - Spain']</td>\n",
       "      <td>...</td>\n",
       "      <td>0</td>\n",
       "      <td>0</td>\n",
       "      <td>0</td>\n",
       "      <td>0</td>\n",
       "      <td>Unusual Games</td>\n",
       "      <td>Unusual Games</td>\n",
       "      <td>Single-player,Steam Achievements</td>\n",
       "      <td>Adventure,Indie</td>\n",
       "      <td>Indie,Adventure,Nudity,Violent,Sexual Content,...</td>\n",
       "      <td>https://cdn.akamai.steamstatic.com/steam/apps/...</td>\n",
       "    </tr>\n",
       "  </tbody>\n",
       "</table>\n",
       "<p>5 rows × 38 columns</p>\n",
       "</div>"
      ],
      "text/plain": [
       "        ID                   name  release_date estimated_owners  peak_ccu  \\\n",
       "0    20200       Galactic Bowling  Oct 21, 2008        0 - 20000         0   \n",
       "1   655370           Train Bandit  Oct 12, 2017        0 - 20000         0   \n",
       "2  1732930           Jolt Project  Nov 17, 2021        0 - 20000         0   \n",
       "3  1355720               Henosis™  Jul 23, 2020        0 - 20000         0   \n",
       "4  1139950  Two Weeks in Painland   Feb 3, 2020        0 - 20000         0   \n",
       "\n",
       "   required_age  price  dlc_count  \\\n",
       "0             0  19.99          0   \n",
       "1             0   0.99          0   \n",
       "2             0   4.99          0   \n",
       "3             0   5.99          0   \n",
       "4             0   0.00          0   \n",
       "\n",
       "                                    main_description  \\\n",
       "0  Galactic Bowling is an exaggerated and stylize...   \n",
       "1  THE LAW!! Looks to be a showdown atop a train....   \n",
       "2  Jolt Project: The army now has a new robotics ...   \n",
       "3  HENOSIS™ is a mysterious 2D Platform Puzzler w...   \n",
       "4  ABOUT THE GAME Play as a hacker who has arrang...   \n",
       "\n",
       "                                 supported_languages  ...  \\\n",
       "0                                        ['English']  ...   \n",
       "1  ['English', 'French', 'Italian', 'German', 'Sp...  ...   \n",
       "2                 ['English', 'Portuguese - Brazil']  ...   \n",
       "3  ['English', 'French', 'Italian', 'German', 'Sp...  ...   \n",
       "4                     ['English', 'Spanish - Spain']  ...   \n",
       "\n",
       "  average_playtime_forever average_playtime_2weeks median_playtime_forever  \\\n",
       "0                        0                       0                       0   \n",
       "1                        0                       0                       0   \n",
       "2                        0                       0                       0   \n",
       "3                        0                       0                       0   \n",
       "4                        0                       0                       0   \n",
       "\n",
       "  packages             developers             publishers  \\\n",
       "0        0  Perpetual FX Creative  Perpetual FX Creative   \n",
       "1        0           Rusty Moyher           Wild Rooster   \n",
       "2        0          Campião Games          Campião Games   \n",
       "3        0      Odd Critter Games      Odd Critter Games   \n",
       "4        0          Unusual Games          Unusual Games   \n",
       "\n",
       "                                          categories  \\\n",
       "0  Single-player,Multi-player,Steam Achievements,...   \n",
       "1  Single-player,Steam Achievements,Full controll...   \n",
       "2                                      Single-player   \n",
       "3              Single-player,Full controller support   \n",
       "4                   Single-player,Steam Achievements   \n",
       "\n",
       "                            genres  \\\n",
       "0              Casual,Indie,Sports   \n",
       "1                     Action,Indie   \n",
       "2  Action,Adventure,Indie,Strategy   \n",
       "3           Adventure,Casual,Indie   \n",
       "4                  Adventure,Indie   \n",
       "\n",
       "                                                tags  \\\n",
       "0                        Indie,Casual,Sports,Bowling   \n",
       "1  Indie,Action,Pixel Graphics,2D,Retro,Arcade,Sc...   \n",
       "2                                               None   \n",
       "3  2D Platformer,Atmospheric,Surreal,Mystery,Puzz...   \n",
       "4  Indie,Adventure,Nudity,Violent,Sexual Content,...   \n",
       "\n",
       "                                         screenshots  \n",
       "0  https://cdn.akamai.steamstatic.com/steam/apps/...  \n",
       "1  https://cdn.akamai.steamstatic.com/steam/apps/...  \n",
       "2  https://cdn.akamai.steamstatic.com/steam/apps/...  \n",
       "3  https://cdn.akamai.steamstatic.com/steam/apps/...  \n",
       "4  https://cdn.akamai.steamstatic.com/steam/apps/...  \n",
       "\n",
       "[5 rows x 38 columns]"
      ]
     },
     "execution_count": 3,
     "metadata": {},
     "output_type": "execute_result"
    }
   ],
   "source": [
    "df.head()"
   ]
  },
  {
   "cell_type": "code",
   "execution_count": 4,
   "id": "103f2af7",
   "metadata": {},
   "outputs": [
    {
     "data": {
      "text/html": [
       "<div>\n",
       "<style scoped>\n",
       "    .dataframe tbody tr th:only-of-type {\n",
       "        vertical-align: middle;\n",
       "    }\n",
       "\n",
       "    .dataframe tbody tr th {\n",
       "        vertical-align: top;\n",
       "    }\n",
       "\n",
       "    .dataframe thead th {\n",
       "        text-align: right;\n",
       "    }\n",
       "</style>\n",
       "<table border=\"1\" class=\"dataframe\">\n",
       "  <thead>\n",
       "    <tr style=\"text-align: right;\">\n",
       "      <th></th>\n",
       "      <th>ID</th>\n",
       "      <th>name</th>\n",
       "      <th>release_date</th>\n",
       "      <th>estimated_owners</th>\n",
       "      <th>peak_ccu</th>\n",
       "      <th>required_age</th>\n",
       "      <th>price</th>\n",
       "      <th>dlc_count</th>\n",
       "      <th>main_description</th>\n",
       "      <th>supported_languages</th>\n",
       "      <th>...</th>\n",
       "      <th>average_playtime_forever</th>\n",
       "      <th>average_playtime_2weeks</th>\n",
       "      <th>median_playtime_forever</th>\n",
       "      <th>packages</th>\n",
       "      <th>developers</th>\n",
       "      <th>publishers</th>\n",
       "      <th>categories</th>\n",
       "      <th>genres</th>\n",
       "      <th>tags</th>\n",
       "      <th>screenshots</th>\n",
       "    </tr>\n",
       "  </thead>\n",
       "  <tbody>\n",
       "    <tr>\n",
       "      <th>1025</th>\n",
       "      <td>22380</td>\n",
       "      <td>Fallout: New Vegas</td>\n",
       "      <td>Oct 19, 2010</td>\n",
       "      <td>2000000 - 5000000</td>\n",
       "      <td>5776</td>\n",
       "      <td>16</td>\n",
       "      <td>9.99</td>\n",
       "      <td>0</td>\n",
       "      <td>Welcome to Vegas. New Vegas. It’s the kind of ...</td>\n",
       "      <td>['English', 'French', 'German', 'Italian', 'Sp...</td>\n",
       "      <td>...</td>\n",
       "      <td>3044</td>\n",
       "      <td>112</td>\n",
       "      <td>976</td>\n",
       "      <td>153</td>\n",
       "      <td>Obsidian Entertainment</td>\n",
       "      <td>Bethesda Softworks</td>\n",
       "      <td>Single-player,Steam Achievements,Partial Contr...</td>\n",
       "      <td>Action,RPG</td>\n",
       "      <td>Open World,RPG,Post-apocalyptic,Singleplayer,M...</td>\n",
       "      <td>https://cdn.akamai.steamstatic.com/steam/apps/...</td>\n",
       "    </tr>\n",
       "  </tbody>\n",
       "</table>\n",
       "<p>1 rows × 38 columns</p>\n",
       "</div>"
      ],
      "text/plain": [
       "         ID                name  release_date   estimated_owners  peak_ccu  \\\n",
       "1025  22380  Fallout: New Vegas  Oct 19, 2010  2000000 - 5000000      5776   \n",
       "\n",
       "      required_age  price  dlc_count  \\\n",
       "1025            16   9.99          0   \n",
       "\n",
       "                                       main_description  \\\n",
       "1025  Welcome to Vegas. New Vegas. It’s the kind of ...   \n",
       "\n",
       "                                    supported_languages  ...  \\\n",
       "1025  ['English', 'French', 'German', 'Italian', 'Sp...  ...   \n",
       "\n",
       "     average_playtime_forever average_playtime_2weeks median_playtime_forever  \\\n",
       "1025                     3044                     112                     976   \n",
       "\n",
       "     packages              developers          publishers  \\\n",
       "1025      153  Obsidian Entertainment  Bethesda Softworks   \n",
       "\n",
       "                                             categories      genres  \\\n",
       "1025  Single-player,Steam Achievements,Partial Contr...  Action,RPG   \n",
       "\n",
       "                                                   tags  \\\n",
       "1025  Open World,RPG,Post-apocalyptic,Singleplayer,M...   \n",
       "\n",
       "                                            screenshots  \n",
       "1025  https://cdn.akamai.steamstatic.com/steam/apps/...  \n",
       "\n",
       "[1 rows x 38 columns]"
      ]
     },
     "execution_count": 4,
     "metadata": {},
     "output_type": "execute_result"
    }
   ],
   "source": [
    "df[df['ID'] == 22380]"
   ]
  },
  {
   "cell_type": "code",
   "execution_count": 5,
   "id": "7254bf05",
   "metadata": {},
   "outputs": [
    {
     "name": "stdout",
     "output_type": "stream",
     "text": [
      "'Activision' appears 71 times.\n"
     ]
    }
   ],
   "source": [
    "count_activision = (df['publishers'] == 'Activision').sum()\n",
    "\n",
    "print(f\"'Activision' appears {count_activision} times.\")"
   ]
  },
  {
   "cell_type": "code",
   "execution_count": 6,
   "id": "affd8487",
   "metadata": {},
   "outputs": [
    {
     "name": "stdout",
     "output_type": "stream",
     "text": [
      "There are 35 Call of Duty games on Steam.\n"
     ]
    }
   ],
   "source": [
    "call_of_duty_games = df[df['name'].str.contains('Call of Duty', case=False, na=False)]\n",
    "\n",
    "count_cods = len(call_of_duty_games)\n",
    "\n",
    "print(f\"There are {count_cods} Call of Duty games on Steam.\")"
   ]
  },
  {
   "cell_type": "code",
   "execution_count": 7,
   "id": "93296bef",
   "metadata": {},
   "outputs": [
    {
     "data": {
      "text/plain": [
       "ID                                                                      22380\n",
       "name                                                       Fallout: New Vegas\n",
       "release_date                                                     Oct 19, 2010\n",
       "estimated_owners                                            2000000 - 5000000\n",
       "peak_ccu                                                                 5776\n",
       "required_age                                                               16\n",
       "price                                                                    9.99\n",
       "dlc_count                                                                   0\n",
       "main_description            Welcome to Vegas. New Vegas. It’s the kind of ...\n",
       "supported_languages         ['English', 'French', 'German', 'Italian', 'Sp...\n",
       "full_audio_languages                                                       []\n",
       "reviews                                                                  None\n",
       "header_image                https://cdn.akamai.steamstatic.com/steam/apps/...\n",
       "website                                           http://fallout.bethsoft.com\n",
       "support_url                                      http://support.bethsoft.com/\n",
       "support_email                                                            None\n",
       "windows                                                                  True\n",
       "mac                                                                     False\n",
       "linux                                                                   False\n",
       "metacritic_score                                                           84\n",
       "metacriticURL               https://www.metacritic.com/game/pc/fallout-new...\n",
       "user_score                                                                  0\n",
       "positive                                                               154845\n",
       "negative                                                                 5667\n",
       "score_rank                                                                NaN\n",
       "achievements                                                               75\n",
       "recommendations                                                        127087\n",
       "notes                                                                    None\n",
       "average_playtime_forever                                                 3044\n",
       "average_playtime_2weeks                                                   112\n",
       "median_playtime_forever                                                   976\n",
       "packages                                                                  153\n",
       "developers                                             Obsidian Entertainment\n",
       "publishers                                                 Bethesda Softworks\n",
       "categories                  Single-player,Steam Achievements,Partial Contr...\n",
       "genres                                                             Action,RPG\n",
       "tags                        Open World,RPG,Post-apocalyptic,Singleplayer,M...\n",
       "screenshots                 https://cdn.akamai.steamstatic.com/steam/apps/...\n",
       "Name: 1025, dtype: object"
      ]
     },
     "execution_count": 7,
     "metadata": {},
     "output_type": "execute_result"
    }
   ],
   "source": [
    "df.loc[1025]"
   ]
  },
  {
   "cell_type": "code",
   "execution_count": 8,
   "id": "8e443cd9",
   "metadata": {
    "scrolled": true
   },
   "outputs": [
    {
     "data": {
      "text/plain": [
       "ID                                                                       7940\n",
       "name                                         Call of Duty® 4: Modern Warfare®\n",
       "release_date                                                     Nov 12, 2007\n",
       "estimated_owners                                            1000000 - 2000000\n",
       "peak_ccu                                                                  495\n",
       "required_age                                                               17\n",
       "price                                                                    9.99\n",
       "dlc_count                                                                   0\n",
       "main_description            The new action-thriller from the award-winning...\n",
       "supported_languages         ['English', 'French', 'German', 'Italian', 'Sp...\n",
       "full_audio_languages                                                       []\n",
       "reviews                     Winner of more than 40 E3 2007 awards : Editor...\n",
       "header_image                https://cdn.akamai.steamstatic.com/steam/apps/...\n",
       "website                                     http://www.charlieoscardelta.com/\n",
       "support_url                                    http://support.activision.com/\n",
       "support_email                                                            None\n",
       "windows                                                                  True\n",
       "mac                                                                      True\n",
       "linux                                                                   False\n",
       "metacritic_score                                                           92\n",
       "metacriticURL               https://www.metacritic.com/game/pc/call-of-dut...\n",
       "user_score                                                                  0\n",
       "positive                                                                16788\n",
       "negative                                                                 1211\n",
       "score_rank                                                                NaN\n",
       "achievements                                                                0\n",
       "recommendations                                                         13997\n",
       "notes                                                                    None\n",
       "average_playtime_forever                                                 1034\n",
       "average_playtime_2weeks                                                    51\n",
       "median_playtime_forever                                                   449\n",
       "packages                                                                   51\n",
       "developers                                                      Infinity Ward\n",
       "publishers                                                         Activision\n",
       "categories                                         Single-player,Multi-player\n",
       "genres                                                                 Action\n",
       "tags                        FPS,Action,Multiplayer,Shooter,Singleplayer,Fi...\n",
       "screenshots                 https://cdn.akamai.steamstatic.com/steam/apps/...\n",
       "Name: 136, dtype: object"
      ]
     },
     "execution_count": 8,
     "metadata": {},
     "output_type": "execute_result"
    }
   ],
   "source": [
    "df.loc[136]"
   ]
  },
  {
   "cell_type": "code",
   "execution_count": 9,
   "id": "355f485a",
   "metadata": {},
   "outputs": [
    {
     "data": {
      "text/plain": [
       "<AxesSubplot:xlabel='price', ylabel='metacritic_score'>"
      ]
     },
     "execution_count": 9,
     "metadata": {},
     "output_type": "execute_result"
    },
    {
     "data": {
      "image/png": "[encoded data removed]",
      "text/plain": [
       "<Figure size 640x480 with 1 Axes>"
      ]
     },
     "metadata": {},
     "output_type": "display_data"
    }
   ],
   "source": [
    "sns.scatterplot(data=df, x='price', y='metacritic_score')"
   ]
  },
  {
   "cell_type": "markdown",
   "id": "42c147df",
   "metadata": {},
   "source": [
    "## The Relationship Between Price and Metacritic Score\n",
    "\n",
    "#### The relationship between the price and metacritic score is none, there is no correlation to the price vs the score the game got on metacritic. As shown in the graph above the price does not matter based on the score that was given.\n"
   ]
  },
  {
   "cell_type": "code",
   "execution_count": 10,
   "id": "f42373a4",
   "metadata": {},
   "outputs": [
    {
     "data": {
      "text/plain": [
       "999.98"
      ]
     },
     "execution_count": 10,
     "metadata": {},
     "output_type": "execute_result"
    }
   ],
   "source": [
    "df['price'].max()"
   ]
  },
  {
   "cell_type": "code",
   "execution_count": 11,
   "id": "4f141b17",
   "metadata": {},
   "outputs": [
    {
     "data": {
      "text/plain": [
       "7.08626157478198"
      ]
     },
     "execution_count": 11,
     "metadata": {},
     "output_type": "execute_result"
    }
   ],
   "source": [
    "df['price'].mean()"
   ]
  },
  {
   "cell_type": "code",
   "execution_count": 12,
   "id": "e35f575a",
   "metadata": {},
   "outputs": [],
   "source": [
    "df.drop([81901, 82971, 26936, 94022, 57689, 32110, 12150], inplace=True)"
   ]
  },
  {
   "cell_type": "code",
   "execution_count": 13,
   "id": "66bb0e14",
   "metadata": {},
   "outputs": [
    {
     "data": {
      "text/plain": [
       "<AxesSubplot:xlabel='price', ylabel='metacritic_score'>"
      ]
     },
     "execution_count": 13,
     "metadata": {},
     "output_type": "execute_result"
    },
    {
     "data": {
      "image/png": "[encoded data removed]",
      "text/plain": [
       "<Figure size 640x480 with 1 Axes>"
      ]
     },
     "metadata": {},
     "output_type": "display_data"
    }
   ],
   "source": [
    "sns.scatterplot(data=df, x='price', y='metacritic_score')"
   ]
  },
  {
   "cell_type": "markdown",
   "id": "b2221a3c",
   "metadata": {},
   "source": [
    "The Leverage Game is indeed a real game! The price is kinda crazy for a gambling game."
   ]
  },
  {
   "cell_type": "code",
   "execution_count": 14,
   "id": "94feb259",
   "metadata": {},
   "outputs": [
    {
     "data": {
      "text/plain": [
       "<AxesSubplot:xlabel='packages', ylabel='metacritic_score'>"
      ]
     },
     "execution_count": 14,
     "metadata": {},
     "output_type": "execute_result"
    },
    {
     "data": {
      "image/png": "[encoded data removed]",
      "text/plain": [
       "<Figure size 640x480 with 1 Axes>"
      ]
     },
     "metadata": {},
     "output_type": "display_data"
    }
   ],
   "source": [
    "sns.scatterplot(data=df, x='packages', y='metacritic_score')"
   ]
  },
  {
   "cell_type": "code",
   "execution_count": 15,
   "id": "772b6ca9",
   "metadata": {},
   "outputs": [
    {
     "data": {
      "text/plain": [
       "19159"
      ]
     },
     "execution_count": 15,
     "metadata": {},
     "output_type": "execute_result"
    }
   ],
   "source": [
    "df['packages'].max()"
   ]
  },
  {
   "cell_type": "code",
   "execution_count": 16,
   "id": "95c33eca",
   "metadata": {},
   "outputs": [
    {
     "data": {
      "text/plain": [
       "<AxesSubplot:xlabel='price', ylabel='recommendations'>"
      ]
     },
     "execution_count": 16,
     "metadata": {},
     "output_type": "execute_result"
    },
    {
     "data": {
      "image/png": "[encoded data removed]",
      "text/plain": [
       "<Figure size 640x480 with 1 Axes>"
      ]
     },
     "metadata": {},
     "output_type": "display_data"
    }
   ],
   "source": [
    "sns.scatterplot(data=df, x='price', y='recommendations')"
   ]
  },
  {
   "cell_type": "code",
   "execution_count": 17,
   "id": "84932b38",
   "metadata": {},
   "outputs": [
    {
     "data": {
      "text/plain": [
       "{'Max': 199.99, 'Q3': 9.99, 'Median': 4.19, 'Q1': 0.99, 'Min': 0.0}"
      ]
     },
     "execution_count": 17,
     "metadata": {},
     "output_type": "execute_result"
    }
   ],
   "source": [
    "summary = {\n",
    "    'Max': df['price'].max(),\n",
    "    'Q3': df['price'].quantile(0.75),\n",
    "    'Median': df['price'].median(),\n",
    "    'Q1': df['price'].quantile(0.25),\n",
    "    'Min': df['price'].min()\n",
    "}\n",
    "summary"
   ]
  },
  {
   "cell_type": "code",
   "execution_count": 18,
   "id": "cbd8cf99",
   "metadata": {},
   "outputs": [
    {
     "data": {
      "text/plain": [
       "199.99"
      ]
     },
     "execution_count": 18,
     "metadata": {},
     "output_type": "execute_result"
    }
   ],
   "source": [
    "df[\"price\"].max()"
   ]
  },
  {
   "cell_type": "code",
   "execution_count": 19,
   "id": "83141324",
   "metadata": {},
   "outputs": [
    {
     "data": {
      "text/html": [
       "<div>\n",
       "<style scoped>\n",
       "    .dataframe tbody tr th:only-of-type {\n",
       "        vertical-align: middle;\n",
       "    }\n",
       "\n",
       "    .dataframe tbody tr th {\n",
       "        vertical-align: top;\n",
       "    }\n",
       "\n",
       "    .dataframe thead th {\n",
       "        text-align: right;\n",
       "    }\n",
       "</style>\n",
       "<table border=\"1\" class=\"dataframe\">\n",
       "  <thead>\n",
       "    <tr style=\"text-align: right;\">\n",
       "      <th></th>\n",
       "      <th>ID</th>\n",
       "      <th>name</th>\n",
       "      <th>release_date</th>\n",
       "      <th>estimated_owners</th>\n",
       "      <th>peak_ccu</th>\n",
       "      <th>required_age</th>\n",
       "      <th>price</th>\n",
       "      <th>dlc_count</th>\n",
       "      <th>main_description</th>\n",
       "      <th>supported_languages</th>\n",
       "      <th>...</th>\n",
       "      <th>average_playtime_forever</th>\n",
       "      <th>average_playtime_2weeks</th>\n",
       "      <th>median_playtime_forever</th>\n",
       "      <th>packages</th>\n",
       "      <th>developers</th>\n",
       "      <th>publishers</th>\n",
       "      <th>categories</th>\n",
       "      <th>genres</th>\n",
       "      <th>tags</th>\n",
       "      <th>screenshots</th>\n",
       "    </tr>\n",
       "  </thead>\n",
       "  <tbody>\n",
       "  </tbody>\n",
       "</table>\n",
       "<p>0 rows × 38 columns</p>\n",
       "</div>"
      ],
      "text/plain": [
       "Empty DataFrame\n",
       "Columns: [ID, name, release_date, estimated_owners, peak_ccu, required_age, price, dlc_count, main_description, supported_languages, full_audio_languages, reviews, header_image, website, support_url, support_email, windows, mac, linux, metacritic_score, metacriticURL, user_score, positive, negative, score_rank, achievements, recommendations, notes, average_playtime_forever, average_playtime_2weeks, median_playtime_forever, packages, developers, publishers, categories, genres, tags, screenshots]\n",
       "Index: []\n",
       "\n",
       "[0 rows x 38 columns]"
      ]
     },
     "execution_count": 19,
     "metadata": {},
     "output_type": "execute_result"
    }
   ],
   "source": [
    "df[df[\"price\"] == 249.0]"
   ]
  },
  {
   "cell_type": "markdown",
   "id": "aa35b46b",
   "metadata": {},
   "source": [
    "# The relationship between Price and Recommendations\n",
    "\n",
    "### The direction of the scatter plot has a very weak exponential curve from left to right, meaning that it is a negative direction. The form is definetly weak considering most of the actual plot is in the left bottom corner of the graph, so much that there could be no correlation. The relationship is a very very weak negative relationship, the higher the price, the lower the recommendations."
   ]
  },
  {
   "cell_type": "code",
   "execution_count": 20,
   "id": "ba7890a8",
   "metadata": {},
   "outputs": [
    {
     "data": {
      "text/plain": [
       "<AxesSubplot:xlabel='positive', ylabel='negative'>"
      ]
     },
     "execution_count": 20,
     "metadata": {},
     "output_type": "execute_result"
    },
    {
     "data": {
      "image/png": "[encoded data removed]",
      "text/plain": [
       "<Figure size 640x480 with 1 Axes>"
      ]
     },
     "metadata": {},
     "output_type": "display_data"
    }
   ],
   "source": [
    "sns.scatterplot(data=df, x='positive', y='negative')"
   ]
  },
  {
   "cell_type": "code",
   "execution_count": 21,
   "id": "3e9fc368",
   "metadata": {},
   "outputs": [
    {
     "data": {
      "text/plain": [
       "895978"
      ]
     },
     "execution_count": 21,
     "metadata": {},
     "output_type": "execute_result"
    }
   ],
   "source": [
    "df['negative'].max()"
   ]
  },
  {
   "cell_type": "code",
   "execution_count": 22,
   "id": "1f9410ac",
   "metadata": {},
   "outputs": [
    {
     "data": {
      "text/html": [
       "<div>\n",
       "<style scoped>\n",
       "    .dataframe tbody tr th:only-of-type {\n",
       "        vertical-align: middle;\n",
       "    }\n",
       "\n",
       "    .dataframe tbody tr th {\n",
       "        vertical-align: top;\n",
       "    }\n",
       "\n",
       "    .dataframe thead th {\n",
       "        text-align: right;\n",
       "    }\n",
       "</style>\n",
       "<table border=\"1\" class=\"dataframe\">\n",
       "  <thead>\n",
       "    <tr style=\"text-align: right;\">\n",
       "      <th></th>\n",
       "      <th>ID</th>\n",
       "      <th>name</th>\n",
       "      <th>release_date</th>\n",
       "      <th>estimated_owners</th>\n",
       "      <th>peak_ccu</th>\n",
       "      <th>required_age</th>\n",
       "      <th>price</th>\n",
       "      <th>dlc_count</th>\n",
       "      <th>main_description</th>\n",
       "      <th>supported_languages</th>\n",
       "      <th>...</th>\n",
       "      <th>average_playtime_forever</th>\n",
       "      <th>average_playtime_2weeks</th>\n",
       "      <th>median_playtime_forever</th>\n",
       "      <th>packages</th>\n",
       "      <th>developers</th>\n",
       "      <th>publishers</th>\n",
       "      <th>categories</th>\n",
       "      <th>genres</th>\n",
       "      <th>tags</th>\n",
       "      <th>screenshots</th>\n",
       "    </tr>\n",
       "  </thead>\n",
       "  <tbody>\n",
       "  </tbody>\n",
       "</table>\n",
       "<p>0 rows × 38 columns</p>\n",
       "</div>"
      ],
      "text/plain": [
       "Empty DataFrame\n",
       "Columns: [ID, name, release_date, estimated_owners, peak_ccu, required_age, price, dlc_count, main_description, supported_languages, full_audio_languages, reviews, header_image, website, support_url, support_email, windows, mac, linux, metacritic_score, metacriticURL, user_score, positive, negative, score_rank, achievements, recommendations, notes, average_playtime_forever, average_playtime_2weeks, median_playtime_forever, packages, developers, publishers, categories, genres, tags, screenshots]\n",
       "Index: []\n",
       "\n",
       "[0 rows x 38 columns]"
      ]
     },
     "execution_count": 22,
     "metadata": {},
     "output_type": "execute_result"
    }
   ],
   "source": [
    "df[df[\"positive\"] == 300437]"
   ]
  },
  {
   "cell_type": "code",
   "execution_count": 23,
   "id": "d9b9ad7a",
   "metadata": {},
   "outputs": [
    {
     "data": {
      "text/html": [
       "<div>\n",
       "<style scoped>\n",
       "    .dataframe tbody tr th:only-of-type {\n",
       "        vertical-align: middle;\n",
       "    }\n",
       "\n",
       "    .dataframe tbody tr th {\n",
       "        vertical-align: top;\n",
       "    }\n",
       "\n",
       "    .dataframe thead th {\n",
       "        text-align: right;\n",
       "    }\n",
       "</style>\n",
       "<table border=\"1\" class=\"dataframe\">\n",
       "  <thead>\n",
       "    <tr style=\"text-align: right;\">\n",
       "      <th></th>\n",
       "      <th>ID</th>\n",
       "      <th>name</th>\n",
       "      <th>release_date</th>\n",
       "      <th>estimated_owners</th>\n",
       "      <th>peak_ccu</th>\n",
       "      <th>required_age</th>\n",
       "      <th>price</th>\n",
       "      <th>dlc_count</th>\n",
       "      <th>main_description</th>\n",
       "      <th>supported_languages</th>\n",
       "      <th>...</th>\n",
       "      <th>average_playtime_forever</th>\n",
       "      <th>average_playtime_2weeks</th>\n",
       "      <th>median_playtime_forever</th>\n",
       "      <th>packages</th>\n",
       "      <th>developers</th>\n",
       "      <th>publishers</th>\n",
       "      <th>categories</th>\n",
       "      <th>genres</th>\n",
       "      <th>tags</th>\n",
       "      <th>screenshots</th>\n",
       "    </tr>\n",
       "  </thead>\n",
       "  <tbody>\n",
       "    <tr>\n",
       "      <th>8885</th>\n",
       "      <td>578080</td>\n",
       "      <td>PUBG: BATTLEGROUNDS</td>\n",
       "      <td>Dec 21, 2017</td>\n",
       "      <td>50000000 - 100000000</td>\n",
       "      <td>275374</td>\n",
       "      <td>0</td>\n",
       "      <td>0.0</td>\n",
       "      <td>0</td>\n",
       "      <td>LAND, LOOT, SURVIVE! Play PUBG: BATTLEGROUNDS ...</td>\n",
       "      <td>['English', 'Korean', 'Simplified Chinese', 'F...</td>\n",
       "      <td>...</td>\n",
       "      <td>21963</td>\n",
       "      <td>790</td>\n",
       "      <td>7134</td>\n",
       "      <td>152</td>\n",
       "      <td>KRAFTON, Inc.</td>\n",
       "      <td>KRAFTON, Inc.</td>\n",
       "      <td>Multi-player,PvP,Online PvP,Stats,Remote Play ...</td>\n",
       "      <td>Action,Adventure,Free to Play,Massively Multip...</td>\n",
       "      <td>Survival,Shooter,Multiplayer,Battle Royale,FPS...</td>\n",
       "      <td>https://cdn.akamai.steamstatic.com/steam/apps/...</td>\n",
       "    </tr>\n",
       "  </tbody>\n",
       "</table>\n",
       "<p>1 rows × 38 columns</p>\n",
       "</div>"
      ],
      "text/plain": [
       "          ID                 name  release_date      estimated_owners  \\\n",
       "8885  578080  PUBG: BATTLEGROUNDS  Dec 21, 2017  50000000 - 100000000   \n",
       "\n",
       "      peak_ccu  required_age  price  dlc_count  \\\n",
       "8885    275374             0    0.0          0   \n",
       "\n",
       "                                       main_description  \\\n",
       "8885  LAND, LOOT, SURVIVE! Play PUBG: BATTLEGROUNDS ...   \n",
       "\n",
       "                                    supported_languages  ...  \\\n",
       "8885  ['English', 'Korean', 'Simplified Chinese', 'F...  ...   \n",
       "\n",
       "     average_playtime_forever average_playtime_2weeks median_playtime_forever  \\\n",
       "8885                    21963                     790                    7134   \n",
       "\n",
       "     packages     developers     publishers  \\\n",
       "8885      152  KRAFTON, Inc.  KRAFTON, Inc.   \n",
       "\n",
       "                                             categories  \\\n",
       "8885  Multi-player,PvP,Online PvP,Stats,Remote Play ...   \n",
       "\n",
       "                                                 genres  \\\n",
       "8885  Action,Adventure,Free to Play,Massively Multip...   \n",
       "\n",
       "                                                   tags  \\\n",
       "8885  Survival,Shooter,Multiplayer,Battle Royale,FPS...   \n",
       "\n",
       "                                            screenshots  \n",
       "8885  https://cdn.akamai.steamstatic.com/steam/apps/...  \n",
       "\n",
       "[1 rows x 38 columns]"
      ]
     },
     "execution_count": 23,
     "metadata": {},
     "output_type": "execute_result"
    }
   ],
   "source": [
    "df[df[\"negative\"] == 895978]"
   ]
  },
  {
   "cell_type": "code",
   "execution_count": 24,
   "id": "0e8d3b3f",
   "metadata": {},
   "outputs": [],
   "source": [
    "df.drop([8885, 46158], inplace=True)"
   ]
  },
  {
   "cell_type": "code",
   "execution_count": 25,
   "id": "28836348",
   "metadata": {},
   "outputs": [
    {
     "data": {
      "text/plain": [
       "<AxesSubplot:xlabel='positive', ylabel='negative'>"
      ]
     },
     "execution_count": 25,
     "metadata": {},
     "output_type": "execute_result"
    },
    {
     "data": {
      "image/png": "[encoded data removed]",
      "text/plain": [
       "<Figure size 640x480 with 1 Axes>"
      ]
     },
     "metadata": {},
     "output_type": "display_data"
    }
   ],
   "source": [
    "sns.scatterplot(data=df, x='positive', y='negative')"
   ]
  },
  {
   "cell_type": "code",
   "execution_count": 26,
   "id": "2ba698a5",
   "metadata": {},
   "outputs": [
    {
     "data": {
      "text/plain": [
       "0.7900831490720337"
      ]
     },
     "execution_count": 26,
     "metadata": {},
     "output_type": "execute_result"
    }
   ],
   "source": [
    "df['positive'].corr(df['negative'])"
   ]
  },
  {
   "cell_type": "code",
   "execution_count": 27,
   "id": "fe769355",
   "metadata": {},
   "outputs": [
    {
     "data": {
      "text/html": [
       "<div>\n",
       "<style scoped>\n",
       "    .dataframe tbody tr th:only-of-type {\n",
       "        vertical-align: middle;\n",
       "    }\n",
       "\n",
       "    .dataframe tbody tr th {\n",
       "        vertical-align: top;\n",
       "    }\n",
       "\n",
       "    .dataframe thead th {\n",
       "        text-align: right;\n",
       "    }\n",
       "</style>\n",
       "<table border=\"1\" class=\"dataframe\">\n",
       "  <thead>\n",
       "    <tr style=\"text-align: right;\">\n",
       "      <th></th>\n",
       "      <th>ID</th>\n",
       "      <th>peak_ccu</th>\n",
       "      <th>required_age</th>\n",
       "      <th>price</th>\n",
       "      <th>dlc_count</th>\n",
       "      <th>windows</th>\n",
       "      <th>mac</th>\n",
       "      <th>linux</th>\n",
       "      <th>metacritic_score</th>\n",
       "      <th>user_score</th>\n",
       "      <th>positive</th>\n",
       "      <th>negative</th>\n",
       "      <th>score_rank</th>\n",
       "      <th>achievements</th>\n",
       "      <th>recommendations</th>\n",
       "      <th>average_playtime_forever</th>\n",
       "      <th>average_playtime_2weeks</th>\n",
       "      <th>median_playtime_forever</th>\n",
       "      <th>packages</th>\n",
       "    </tr>\n",
       "  </thead>\n",
       "  <tbody>\n",
       "    <tr>\n",
       "      <th>ID</th>\n",
       "      <td>1.000000</td>\n",
       "      <td>-0.005970</td>\n",
       "      <td>-0.103965</td>\n",
       "      <td>-0.077411</td>\n",
       "      <td>NaN</td>\n",
       "      <td>0.007553</td>\n",
       "      <td>-0.201857</td>\n",
       "      <td>-0.139508</td>\n",
       "      <td>-0.263006</td>\n",
       "      <td>-0.018264</td>\n",
       "      <td>-0.072941</td>\n",
       "      <td>-0.070107</td>\n",
       "      <td>0.152725</td>\n",
       "      <td>-0.061732</td>\n",
       "      <td>-0.063905</td>\n",
       "      <td>-0.089562</td>\n",
       "      <td>-0.038499</td>\n",
       "      <td>-0.055715</td>\n",
       "      <td>-0.036812</td>\n",
       "    </tr>\n",
       "    <tr>\n",
       "      <th>peak_ccu</th>\n",
       "      <td>-0.005970</td>\n",
       "      <td>1.000000</td>\n",
       "      <td>0.030698</td>\n",
       "      <td>0.050343</td>\n",
       "      <td>NaN</td>\n",
       "      <td>0.000383</td>\n",
       "      <td>0.000484</td>\n",
       "      <td>0.000809</td>\n",
       "      <td>0.035227</td>\n",
       "      <td>-0.000427</td>\n",
       "      <td>0.328028</td>\n",
       "      <td>0.281989</td>\n",
       "      <td>-0.254030</td>\n",
       "      <td>0.004965</td>\n",
       "      <td>0.206922</td>\n",
       "      <td>0.072859</td>\n",
       "      <td>0.081460</td>\n",
       "      <td>0.013691</td>\n",
       "      <td>0.058135</td>\n",
       "    </tr>\n",
       "    <tr>\n",
       "      <th>required_age</th>\n",
       "      <td>-0.103965</td>\n",
       "      <td>0.030698</td>\n",
       "      <td>1.000000</td>\n",
       "      <td>0.107840</td>\n",
       "      <td>NaN</td>\n",
       "      <td>-0.006858</td>\n",
       "      <td>-0.002782</td>\n",
       "      <td>0.001356</td>\n",
       "      <td>0.195624</td>\n",
       "      <td>0.079026</td>\n",
       "      <td>0.119698</td>\n",
       "      <td>0.139674</td>\n",
       "      <td>0.079917</td>\n",
       "      <td>0.005949</td>\n",
       "      <td>0.139126</td>\n",
       "      <td>0.050324</td>\n",
       "      <td>0.057045</td>\n",
       "      <td>0.019190</td>\n",
       "      <td>0.053532</td>\n",
       "    </tr>\n",
       "    <tr>\n",
       "      <th>price</th>\n",
       "      <td>-0.077411</td>\n",
       "      <td>0.050343</td>\n",
       "      <td>0.107840</td>\n",
       "      <td>1.000000</td>\n",
       "      <td>NaN</td>\n",
       "      <td>-0.017451</td>\n",
       "      <td>0.039503</td>\n",
       "      <td>0.032253</td>\n",
       "      <td>0.155254</td>\n",
       "      <td>-0.000474</td>\n",
       "      <td>0.062178</td>\n",
       "      <td>0.065873</td>\n",
       "      <td>0.281748</td>\n",
       "      <td>0.009939</td>\n",
       "      <td>0.072865</td>\n",
       "      <td>0.068991</td>\n",
       "      <td>0.073345</td>\n",
       "      <td>0.045159</td>\n",
       "      <td>0.071957</td>\n",
       "    </tr>\n",
       "    <tr>\n",
       "      <th>dlc_count</th>\n",
       "      <td>NaN</td>\n",
       "      <td>NaN</td>\n",
       "      <td>NaN</td>\n",
       "      <td>NaN</td>\n",
       "      <td>NaN</td>\n",
       "      <td>NaN</td>\n",
       "      <td>NaN</td>\n",
       "      <td>NaN</td>\n",
       "      <td>NaN</td>\n",
       "      <td>NaN</td>\n",
       "      <td>NaN</td>\n",
       "      <td>NaN</td>\n",
       "      <td>NaN</td>\n",
       "      <td>NaN</td>\n",
       "      <td>NaN</td>\n",
       "      <td>NaN</td>\n",
       "      <td>NaN</td>\n",
       "      <td>NaN</td>\n",
       "      <td>NaN</td>\n",
       "    </tr>\n",
       "    <tr>\n",
       "      <th>windows</th>\n",
       "      <td>0.007553</td>\n",
       "      <td>0.000383</td>\n",
       "      <td>-0.006858</td>\n",
       "      <td>-0.017451</td>\n",
       "      <td>NaN</td>\n",
       "      <td>1.000000</td>\n",
       "      <td>-0.029616</td>\n",
       "      <td>-0.005024</td>\n",
       "      <td>0.003688</td>\n",
       "      <td>0.000377</td>\n",
       "      <td>0.001059</td>\n",
       "      <td>0.001006</td>\n",
       "      <td>NaN</td>\n",
       "      <td>0.001790</td>\n",
       "      <td>0.000979</td>\n",
       "      <td>0.001334</td>\n",
       "      <td>0.000983</td>\n",
       "      <td>0.000880</td>\n",
       "      <td>0.000972</td>\n",
       "    </tr>\n",
       "    <tr>\n",
       "      <th>mac</th>\n",
       "      <td>-0.201857</td>\n",
       "      <td>0.000484</td>\n",
       "      <td>-0.002782</td>\n",
       "      <td>0.039503</td>\n",
       "      <td>NaN</td>\n",
       "      <td>-0.029616</td>\n",
       "      <td>1.000000</td>\n",
       "      <td>0.565806</td>\n",
       "      <td>0.113448</td>\n",
       "      <td>0.003432</td>\n",
       "      <td>0.035551</td>\n",
       "      <td>0.017789</td>\n",
       "      <td>-0.123797</td>\n",
       "      <td>0.012834</td>\n",
       "      <td>0.026053</td>\n",
       "      <td>0.030922</td>\n",
       "      <td>0.005954</td>\n",
       "      <td>0.017708</td>\n",
       "      <td>0.004774</td>\n",
       "    </tr>\n",
       "    <tr>\n",
       "      <th>linux</th>\n",
       "      <td>-0.139508</td>\n",
       "      <td>0.000809</td>\n",
       "      <td>0.001356</td>\n",
       "      <td>0.032253</td>\n",
       "      <td>NaN</td>\n",
       "      <td>-0.005024</td>\n",
       "      <td>0.565806</td>\n",
       "      <td>1.000000</td>\n",
       "      <td>0.090312</td>\n",
       "      <td>0.006565</td>\n",
       "      <td>0.034945</td>\n",
       "      <td>0.016499</td>\n",
       "      <td>-0.005814</td>\n",
       "      <td>0.016073</td>\n",
       "      <td>0.025946</td>\n",
       "      <td>0.020986</td>\n",
       "      <td>0.004000</td>\n",
       "      <td>0.011166</td>\n",
       "      <td>0.001417</td>\n",
       "    </tr>\n",
       "    <tr>\n",
       "      <th>metacritic_score</th>\n",
       "      <td>-0.263006</td>\n",
       "      <td>0.035227</td>\n",
       "      <td>0.195624</td>\n",
       "      <td>0.155254</td>\n",
       "      <td>NaN</td>\n",
       "      <td>0.003688</td>\n",
       "      <td>0.113448</td>\n",
       "      <td>0.090312</td>\n",
       "      <td>1.000000</td>\n",
       "      <td>-0.001304</td>\n",
       "      <td>0.184278</td>\n",
       "      <td>0.151250</td>\n",
       "      <td>0.196195</td>\n",
       "      <td>0.018751</td>\n",
       "      <td>0.163098</td>\n",
       "      <td>0.109854</td>\n",
       "      <td>0.109755</td>\n",
       "      <td>0.046582</td>\n",
       "      <td>0.107265</td>\n",
       "    </tr>\n",
       "    <tr>\n",
       "      <th>user_score</th>\n",
       "      <td>-0.018264</td>\n",
       "      <td>-0.000427</td>\n",
       "      <td>0.079026</td>\n",
       "      <td>-0.000474</td>\n",
       "      <td>NaN</td>\n",
       "      <td>0.000377</td>\n",
       "      <td>0.003432</td>\n",
       "      <td>0.006565</td>\n",
       "      <td>-0.001304</td>\n",
       "      <td>1.000000</td>\n",
       "      <td>-0.001018</td>\n",
       "      <td>-0.000954</td>\n",
       "      <td>0.941245</td>\n",
       "      <td>0.002435</td>\n",
       "      <td>-0.000647</td>\n",
       "      <td>0.000281</td>\n",
       "      <td>0.000505</td>\n",
       "      <td>0.000462</td>\n",
       "      <td>0.000385</td>\n",
       "    </tr>\n",
       "    <tr>\n",
       "      <th>positive</th>\n",
       "      <td>-0.072941</td>\n",
       "      <td>0.328028</td>\n",
       "      <td>0.119698</td>\n",
       "      <td>0.062178</td>\n",
       "      <td>NaN</td>\n",
       "      <td>0.001059</td>\n",
       "      <td>0.035551</td>\n",
       "      <td>0.034945</td>\n",
       "      <td>0.184278</td>\n",
       "      <td>-0.001018</td>\n",
       "      <td>1.000000</td>\n",
       "      <td>0.790083</td>\n",
       "      <td>0.158575</td>\n",
       "      <td>0.020187</td>\n",
       "      <td>0.812868</td>\n",
       "      <td>0.212173</td>\n",
       "      <td>0.157822</td>\n",
       "      <td>0.037447</td>\n",
       "      <td>0.103818</td>\n",
       "    </tr>\n",
       "    <tr>\n",
       "      <th>negative</th>\n",
       "      <td>-0.070107</td>\n",
       "      <td>0.281989</td>\n",
       "      <td>0.139674</td>\n",
       "      <td>0.065873</td>\n",
       "      <td>NaN</td>\n",
       "      <td>0.001006</td>\n",
       "      <td>0.017789</td>\n",
       "      <td>0.016499</td>\n",
       "      <td>0.151250</td>\n",
       "      <td>-0.000954</td>\n",
       "      <td>0.790083</td>\n",
       "      <td>1.000000</td>\n",
       "      <td>-0.332659</td>\n",
       "      <td>0.017526</td>\n",
       "      <td>0.641976</td>\n",
       "      <td>0.211939</td>\n",
       "      <td>0.167553</td>\n",
       "      <td>0.037728</td>\n",
       "      <td>0.118197</td>\n",
       "    </tr>\n",
       "    <tr>\n",
       "      <th>score_rank</th>\n",
       "      <td>0.152725</td>\n",
       "      <td>-0.254030</td>\n",
       "      <td>0.079917</td>\n",
       "      <td>0.281748</td>\n",
       "      <td>NaN</td>\n",
       "      <td>NaN</td>\n",
       "      <td>-0.123797</td>\n",
       "      <td>-0.005814</td>\n",
       "      <td>0.196195</td>\n",
       "      <td>0.941245</td>\n",
       "      <td>0.158575</td>\n",
       "      <td>-0.332659</td>\n",
       "      <td>1.000000</td>\n",
       "      <td>-0.113213</td>\n",
       "      <td>0.238920</td>\n",
       "      <td>0.041754</td>\n",
       "      <td>0.196195</td>\n",
       "      <td>0.101289</td>\n",
       "      <td>0.196195</td>\n",
       "    </tr>\n",
       "    <tr>\n",
       "      <th>achievements</th>\n",
       "      <td>-0.061732</td>\n",
       "      <td>0.004965</td>\n",
       "      <td>0.005949</td>\n",
       "      <td>0.009939</td>\n",
       "      <td>NaN</td>\n",
       "      <td>0.001790</td>\n",
       "      <td>0.012834</td>\n",
       "      <td>0.016073</td>\n",
       "      <td>0.018751</td>\n",
       "      <td>0.002435</td>\n",
       "      <td>0.020187</td>\n",
       "      <td>0.017526</td>\n",
       "      <td>-0.113213</td>\n",
       "      <td>1.000000</td>\n",
       "      <td>0.016655</td>\n",
       "      <td>0.014704</td>\n",
       "      <td>0.010716</td>\n",
       "      <td>0.006940</td>\n",
       "      <td>0.009210</td>\n",
       "    </tr>\n",
       "    <tr>\n",
       "      <th>recommendations</th>\n",
       "      <td>-0.063905</td>\n",
       "      <td>0.206922</td>\n",
       "      <td>0.139126</td>\n",
       "      <td>0.072865</td>\n",
       "      <td>NaN</td>\n",
       "      <td>0.000979</td>\n",
       "      <td>0.026053</td>\n",
       "      <td>0.025946</td>\n",
       "      <td>0.163098</td>\n",
       "      <td>-0.000647</td>\n",
       "      <td>0.812868</td>\n",
       "      <td>0.641976</td>\n",
       "      <td>0.238920</td>\n",
       "      <td>0.016655</td>\n",
       "      <td>1.000000</td>\n",
       "      <td>0.149734</td>\n",
       "      <td>0.116583</td>\n",
       "      <td>0.036864</td>\n",
       "      <td>0.084163</td>\n",
       "    </tr>\n",
       "    <tr>\n",
       "      <th>average_playtime_forever</th>\n",
       "      <td>-0.089562</td>\n",
       "      <td>0.072859</td>\n",
       "      <td>0.050324</td>\n",
       "      <td>0.068991</td>\n",
       "      <td>NaN</td>\n",
       "      <td>0.001334</td>\n",
       "      <td>0.030922</td>\n",
       "      <td>0.020986</td>\n",
       "      <td>0.109854</td>\n",
       "      <td>0.000281</td>\n",
       "      <td>0.212173</td>\n",
       "      <td>0.211939</td>\n",
       "      <td>0.041754</td>\n",
       "      <td>0.014704</td>\n",
       "      <td>0.149734</td>\n",
       "      <td>1.000000</td>\n",
       "      <td>0.159811</td>\n",
       "      <td>0.887923</td>\n",
       "      <td>0.145597</td>\n",
       "    </tr>\n",
       "    <tr>\n",
       "      <th>average_playtime_2weeks</th>\n",
       "      <td>-0.038499</td>\n",
       "      <td>0.081460</td>\n",
       "      <td>0.057045</td>\n",
       "      <td>0.073345</td>\n",
       "      <td>NaN</td>\n",
       "      <td>0.000983</td>\n",
       "      <td>0.005954</td>\n",
       "      <td>0.004000</td>\n",
       "      <td>0.109755</td>\n",
       "      <td>0.000505</td>\n",
       "      <td>0.157822</td>\n",
       "      <td>0.167553</td>\n",
       "      <td>0.196195</td>\n",
       "      <td>0.010716</td>\n",
       "      <td>0.116583</td>\n",
       "      <td>0.159811</td>\n",
       "      <td>1.000000</td>\n",
       "      <td>0.076147</td>\n",
       "      <td>0.972240</td>\n",
       "    </tr>\n",
       "    <tr>\n",
       "      <th>median_playtime_forever</th>\n",
       "      <td>-0.055715</td>\n",
       "      <td>0.013691</td>\n",
       "      <td>0.019190</td>\n",
       "      <td>0.045159</td>\n",
       "      <td>NaN</td>\n",
       "      <td>0.000880</td>\n",
       "      <td>0.017708</td>\n",
       "      <td>0.011166</td>\n",
       "      <td>0.046582</td>\n",
       "      <td>0.000462</td>\n",
       "      <td>0.037447</td>\n",
       "      <td>0.037728</td>\n",
       "      <td>0.101289</td>\n",
       "      <td>0.006940</td>\n",
       "      <td>0.036864</td>\n",
       "      <td>0.887923</td>\n",
       "      <td>0.076147</td>\n",
       "      <td>1.000000</td>\n",
       "      <td>0.072643</td>\n",
       "    </tr>\n",
       "    <tr>\n",
       "      <th>packages</th>\n",
       "      <td>-0.036812</td>\n",
       "      <td>0.058135</td>\n",
       "      <td>0.053532</td>\n",
       "      <td>0.071957</td>\n",
       "      <td>NaN</td>\n",
       "      <td>0.000972</td>\n",
       "      <td>0.004774</td>\n",
       "      <td>0.001417</td>\n",
       "      <td>0.107265</td>\n",
       "      <td>0.000385</td>\n",
       "      <td>0.103818</td>\n",
       "      <td>0.118197</td>\n",
       "      <td>0.196195</td>\n",
       "      <td>0.009210</td>\n",
       "      <td>0.084163</td>\n",
       "      <td>0.145597</td>\n",
       "      <td>0.972240</td>\n",
       "      <td>0.072643</td>\n",
       "      <td>1.000000</td>\n",
       "    </tr>\n",
       "  </tbody>\n",
       "</table>\n",
       "</div>"
      ],
      "text/plain": [
       "                                ID  peak_ccu  required_age     price  \\\n",
       "ID                        1.000000 -0.005970     -0.103965 -0.077411   \n",
       "peak_ccu                 -0.005970  1.000000      0.030698  0.050343   \n",
       "required_age             -0.103965  0.030698      1.000000  0.107840   \n",
       "price                    -0.077411  0.050343      0.107840  1.000000   \n",
       "dlc_count                      NaN       NaN           NaN       NaN   \n",
       "windows                   0.007553  0.000383     -0.006858 -0.017451   \n",
       "mac                      -0.201857  0.000484     -0.002782  0.039503   \n",
       "linux                    -0.139508  0.000809      0.001356  0.032253   \n",
       "metacritic_score         -0.263006  0.035227      0.195624  0.155254   \n",
       "user_score               -0.018264 -0.000427      0.079026 -0.000474   \n",
       "positive                 -0.072941  0.328028      0.119698  0.062178   \n",
       "negative                 -0.070107  0.281989      0.139674  0.065873   \n",
       "score_rank                0.152725 -0.254030      0.079917  0.281748   \n",
       "achievements             -0.061732  0.004965      0.005949  0.009939   \n",
       "recommendations          -0.063905  0.206922      0.139126  0.072865   \n",
       "average_playtime_forever -0.089562  0.072859      0.050324  0.068991   \n",
       "average_playtime_2weeks  -0.038499  0.081460      0.057045  0.073345   \n",
       "median_playtime_forever  -0.055715  0.013691      0.019190  0.045159   \n",
       "packages                 -0.036812  0.058135      0.053532  0.071957   \n",
       "\n",
       "                          dlc_count   windows       mac     linux  \\\n",
       "ID                              NaN  0.007553 -0.201857 -0.139508   \n",
       "peak_ccu                        NaN  0.000383  0.000484  0.000809   \n",
       "required_age                    NaN -0.006858 -0.002782  0.001356   \n",
       "price                           NaN -0.017451  0.039503  0.032253   \n",
       "dlc_count                       NaN       NaN       NaN       NaN   \n",
       "windows                         NaN  1.000000 -0.029616 -0.005024   \n",
       "mac                             NaN -0.029616  1.000000  0.565806   \n",
       "linux                           NaN -0.005024  0.565806  1.000000   \n",
       "metacritic_score                NaN  0.003688  0.113448  0.090312   \n",
       "user_score                      NaN  0.000377  0.003432  0.006565   \n",
       "positive                        NaN  0.001059  0.035551  0.034945   \n",
       "negative                        NaN  0.001006  0.017789  0.016499   \n",
       "score_rank                      NaN       NaN -0.123797 -0.005814   \n",
       "achievements                    NaN  0.001790  0.012834  0.016073   \n",
       "recommendations                 NaN  0.000979  0.026053  0.025946   \n",
       "average_playtime_forever        NaN  0.001334  0.030922  0.020986   \n",
       "average_playtime_2weeks         NaN  0.000983  0.005954  0.004000   \n",
       "median_playtime_forever         NaN  0.000880  0.017708  0.011166   \n",
       "packages                        NaN  0.000972  0.004774  0.001417   \n",
       "\n",
       "                          metacritic_score  user_score  positive  negative  \\\n",
       "ID                               -0.263006   -0.018264 -0.072941 -0.070107   \n",
       "peak_ccu                          0.035227   -0.000427  0.328028  0.281989   \n",
       "required_age                      0.195624    0.079026  0.119698  0.139674   \n",
       "price                             0.155254   -0.000474  0.062178  0.065873   \n",
       "dlc_count                              NaN         NaN       NaN       NaN   \n",
       "windows                           0.003688    0.000377  0.001059  0.001006   \n",
       "mac                               0.113448    0.003432  0.035551  0.017789   \n",
       "linux                             0.090312    0.006565  0.034945  0.016499   \n",
       "metacritic_score                  1.000000   -0.001304  0.184278  0.151250   \n",
       "user_score                       -0.001304    1.000000 -0.001018 -0.000954   \n",
       "positive                          0.184278   -0.001018  1.000000  0.790083   \n",
       "negative                          0.151250   -0.000954  0.790083  1.000000   \n",
       "score_rank                        0.196195    0.941245  0.158575 -0.332659   \n",
       "achievements                      0.018751    0.002435  0.020187  0.017526   \n",
       "recommendations                   0.163098   -0.000647  0.812868  0.641976   \n",
       "average_playtime_forever          0.109854    0.000281  0.212173  0.211939   \n",
       "average_playtime_2weeks           0.109755    0.000505  0.157822  0.167553   \n",
       "median_playtime_forever           0.046582    0.000462  0.037447  0.037728   \n",
       "packages                          0.107265    0.000385  0.103818  0.118197   \n",
       "\n",
       "                          score_rank  achievements  recommendations  \\\n",
       "ID                          0.152725     -0.061732        -0.063905   \n",
       "peak_ccu                   -0.254030      0.004965         0.206922   \n",
       "required_age                0.079917      0.005949         0.139126   \n",
       "price                       0.281748      0.009939         0.072865   \n",
       "dlc_count                        NaN           NaN              NaN   \n",
       "windows                          NaN      0.001790         0.000979   \n",
       "mac                        -0.123797      0.012834         0.026053   \n",
       "linux                      -0.005814      0.016073         0.025946   \n",
       "metacritic_score            0.196195      0.018751         0.163098   \n",
       "user_score                  0.941245      0.002435        -0.000647   \n",
       "positive                    0.158575      0.020187         0.812868   \n",
       "negative                   -0.332659      0.017526         0.641976   \n",
       "score_rank                  1.000000     -0.113213         0.238920   \n",
       "achievements               -0.113213      1.000000         0.016655   \n",
       "recommendations             0.238920      0.016655         1.000000   \n",
       "average_playtime_forever    0.041754      0.014704         0.149734   \n",
       "average_playtime_2weeks     0.196195      0.010716         0.116583   \n",
       "median_playtime_forever     0.101289      0.006940         0.036864   \n",
       "packages                    0.196195      0.009210         0.084163   \n",
       "\n",
       "                          average_playtime_forever  average_playtime_2weeks  \\\n",
       "ID                                       -0.089562                -0.038499   \n",
       "peak_ccu                                  0.072859                 0.081460   \n",
       "required_age                              0.050324                 0.057045   \n",
       "price                                     0.068991                 0.073345   \n",
       "dlc_count                                      NaN                      NaN   \n",
       "windows                                   0.001334                 0.000983   \n",
       "mac                                       0.030922                 0.005954   \n",
       "linux                                     0.020986                 0.004000   \n",
       "metacritic_score                          0.109854                 0.109755   \n",
       "user_score                                0.000281                 0.000505   \n",
       "positive                                  0.212173                 0.157822   \n",
       "negative                                  0.211939                 0.167553   \n",
       "score_rank                                0.041754                 0.196195   \n",
       "achievements                              0.014704                 0.010716   \n",
       "recommendations                           0.149734                 0.116583   \n",
       "average_playtime_forever                  1.000000                 0.159811   \n",
       "average_playtime_2weeks                   0.159811                 1.000000   \n",
       "median_playtime_forever                   0.887923                 0.076147   \n",
       "packages                                  0.145597                 0.972240   \n",
       "\n",
       "                          median_playtime_forever  packages  \n",
       "ID                                      -0.055715 -0.036812  \n",
       "peak_ccu                                 0.013691  0.058135  \n",
       "required_age                             0.019190  0.053532  \n",
       "price                                    0.045159  0.071957  \n",
       "dlc_count                                     NaN       NaN  \n",
       "windows                                  0.000880  0.000972  \n",
       "mac                                      0.017708  0.004774  \n",
       "linux                                    0.011166  0.001417  \n",
       "metacritic_score                         0.046582  0.107265  \n",
       "user_score                               0.000462  0.000385  \n",
       "positive                                 0.037447  0.103818  \n",
       "negative                                 0.037728  0.118197  \n",
       "score_rank                               0.101289  0.196195  \n",
       "achievements                             0.006940  0.009210  \n",
       "recommendations                          0.036864  0.084163  \n",
       "average_playtime_forever                 0.887923  0.145597  \n",
       "average_playtime_2weeks                  0.076147  0.972240  \n",
       "median_playtime_forever                  1.000000  0.072643  \n",
       "packages                                 0.072643  1.000000  "
      ]
     },
     "execution_count": 27,
     "metadata": {},
     "output_type": "execute_result"
    }
   ],
   "source": [
    "df.corr(method='pearson')"
   ]
  },
  {
   "cell_type": "code",
   "execution_count": 28,
   "id": "39179641",
   "metadata": {},
   "outputs": [
    {
     "data": {
      "text/html": [
       "<div>\n",
       "<style scoped>\n",
       "    .dataframe tbody tr th:only-of-type {\n",
       "        vertical-align: middle;\n",
       "    }\n",
       "\n",
       "    .dataframe tbody tr th {\n",
       "        vertical-align: top;\n",
       "    }\n",
       "\n",
       "    .dataframe thead th {\n",
       "        text-align: right;\n",
       "    }\n",
       "</style>\n",
       "<table border=\"1\" class=\"dataframe\">\n",
       "  <thead>\n",
       "    <tr style=\"text-align: right;\">\n",
       "      <th></th>\n",
       "      <th>positive</th>\n",
       "      <th>negative</th>\n",
       "    </tr>\n",
       "  </thead>\n",
       "  <tbody>\n",
       "    <tr>\n",
       "      <th>positive</th>\n",
       "      <td>1.000000</td>\n",
       "      <td>0.790083</td>\n",
       "    </tr>\n",
       "    <tr>\n",
       "      <th>negative</th>\n",
       "      <td>0.790083</td>\n",
       "      <td>1.000000</td>\n",
       "    </tr>\n",
       "  </tbody>\n",
       "</table>\n",
       "</div>"
      ],
      "text/plain": [
       "          positive  negative\n",
       "positive  1.000000  0.790083\n",
       "negative  0.790083  1.000000"
      ]
     },
     "execution_count": 28,
     "metadata": {},
     "output_type": "execute_result"
    }
   ],
   "source": [
    "subDF = df[['positive', 'negative']]\n",
    "subDF.corr(method='pearson')"
   ]
  },
  {
   "cell_type": "markdown",
   "id": "36f184a0",
   "metadata": {},
   "source": [
    "# The correlation coefficient of positive reviews to negative reviews\n",
    "\n",
    "#### The correlation before outliers removed: 0.7823842565518223\n",
    "\n",
    "#### The correlation after outliers removed: 0.7900831490720337\n",
    "\n",
    "#### The relationship between positive and negative reviews seems to be a strong positive relationship. The outliers didn't affect the overall sum of the correlation, which is about 0.782. SOOOO, the more positive reviews, the less likely I am to write a negative review on a game."
   ]
  },
  {
   "cell_type": "code",
   "execution_count": 29,
   "id": "2c340d55",
   "metadata": {},
   "outputs": [
    {
     "data": {
      "text/plain": [
       "<AxesSubplot:xlabel='average_playtime_forever', ylabel='median_playtime_forever'>"
      ]
     },
     "execution_count": 29,
     "metadata": {},
     "output_type": "execute_result"
    },
    {
     "data": {
      "image/png": "[encoded data removed]",
      "text/plain": [
       "<Figure size 640x480 with 1 Axes>"
      ]
     },
     "metadata": {},
     "output_type": "display_data"
    }
   ],
   "source": [
    "sns.scatterplot(data=df, x='average_playtime_forever', y='median_playtime_forever')"
   ]
  },
  {
   "cell_type": "code",
   "execution_count": 30,
   "id": "80681798",
   "metadata": {},
   "outputs": [
    {
     "data": {
      "text/plain": [
       "145727"
      ]
     },
     "execution_count": 30,
     "metadata": {},
     "output_type": "execute_result"
    }
   ],
   "source": [
    "df['average_playtime_forever'].max()"
   ]
  },
  {
   "cell_type": "code",
   "execution_count": 31,
   "id": "f606e4bf",
   "metadata": {},
   "outputs": [
    {
     "data": {
      "text/html": [
       "<div>\n",
       "<style scoped>\n",
       "    .dataframe tbody tr th:only-of-type {\n",
       "        vertical-align: middle;\n",
       "    }\n",
       "\n",
       "    .dataframe tbody tr th {\n",
       "        vertical-align: top;\n",
       "    }\n",
       "\n",
       "    .dataframe thead th {\n",
       "        text-align: right;\n",
       "    }\n",
       "</style>\n",
       "<table border=\"1\" class=\"dataframe\">\n",
       "  <thead>\n",
       "    <tr style=\"text-align: right;\">\n",
       "      <th></th>\n",
       "      <th>ID</th>\n",
       "      <th>name</th>\n",
       "      <th>release_date</th>\n",
       "      <th>estimated_owners</th>\n",
       "      <th>peak_ccu</th>\n",
       "      <th>required_age</th>\n",
       "      <th>price</th>\n",
       "      <th>dlc_count</th>\n",
       "      <th>main_description</th>\n",
       "      <th>supported_languages</th>\n",
       "      <th>...</th>\n",
       "      <th>average_playtime_forever</th>\n",
       "      <th>average_playtime_2weeks</th>\n",
       "      <th>median_playtime_forever</th>\n",
       "      <th>packages</th>\n",
       "      <th>developers</th>\n",
       "      <th>publishers</th>\n",
       "      <th>categories</th>\n",
       "      <th>genres</th>\n",
       "      <th>tags</th>\n",
       "      <th>screenshots</th>\n",
       "    </tr>\n",
       "  </thead>\n",
       "  <tbody>\n",
       "    <tr>\n",
       "      <th>7529</th>\n",
       "      <td>554640</td>\n",
       "      <td>拯救大魔王2 Rescue the Great Demon 2</td>\n",
       "      <td>Nov 18, 2016</td>\n",
       "      <td>100000 - 200000</td>\n",
       "      <td>0</td>\n",
       "      <td>0</td>\n",
       "      <td>0.0</td>\n",
       "      <td>0</td>\n",
       "      <td>Notice: This is a standalone full game. Any pl...</td>\n",
       "      <td>['Simplified Chinese', 'English']</td>\n",
       "      <td>...</td>\n",
       "      <td>49555</td>\n",
       "      <td>0</td>\n",
       "      <td>99108</td>\n",
       "      <td>0</td>\n",
       "      <td>吃了就睡工作室</td>\n",
       "      <td>indienova</td>\n",
       "      <td>Single-player,Steam Trading Cards</td>\n",
       "      <td>Adventure,Free to Play,Indie,RPG</td>\n",
       "      <td>Free to Play,RPG,Indie,Adventure,RPGMaker</td>\n",
       "      <td>https://cdn.akamai.steamstatic.com/steam/apps/...</td>\n",
       "    </tr>\n",
       "  </tbody>\n",
       "</table>\n",
       "<p>1 rows × 38 columns</p>\n",
       "</div>"
      ],
      "text/plain": [
       "          ID                             name  release_date estimated_owners  \\\n",
       "7529  554640  拯救大魔王2 Rescue the Great Demon 2  Nov 18, 2016  100000 - 200000   \n",
       "\n",
       "      peak_ccu  required_age  price  dlc_count  \\\n",
       "7529         0             0    0.0          0   \n",
       "\n",
       "                                       main_description  \\\n",
       "7529  Notice: This is a standalone full game. Any pl...   \n",
       "\n",
       "                    supported_languages  ... average_playtime_forever  \\\n",
       "7529  ['Simplified Chinese', 'English']  ...                    49555   \n",
       "\n",
       "     average_playtime_2weeks median_playtime_forever packages developers  \\\n",
       "7529                       0                   99108        0    吃了就睡工作室   \n",
       "\n",
       "     publishers                         categories  \\\n",
       "7529  indienova  Single-player,Steam Trading Cards   \n",
       "\n",
       "                                genres  \\\n",
       "7529  Adventure,Free to Play,Indie,RPG   \n",
       "\n",
       "                                           tags  \\\n",
       "7529  Free to Play,RPG,Indie,Adventure,RPGMaker   \n",
       "\n",
       "                                            screenshots  \n",
       "7529  https://cdn.akamai.steamstatic.com/steam/apps/...  \n",
       "\n",
       "[1 rows x 38 columns]"
      ]
     },
     "execution_count": 31,
     "metadata": {},
     "output_type": "execute_result"
    }
   ],
   "source": [
    "df[df[\"average_playtime_forever\"] == 49555]"
   ]
  },
  {
   "cell_type": "code",
   "execution_count": 32,
   "id": "087f2c2f",
   "metadata": {},
   "outputs": [],
   "source": [
    "df.drop([10228, 19303, 39591, 36483, 23309, 57947, 46203, 27911, 7529], inplace=True)"
   ]
  },
  {
   "cell_type": "code",
   "execution_count": 33,
   "id": "0e1e725c",
   "metadata": {},
   "outputs": [
    {
     "data": {
      "text/plain": [
       "<AxesSubplot:xlabel='average_playtime_forever', ylabel='median_playtime_forever'>"
      ]
     },
     "execution_count": 33,
     "metadata": {},
     "output_type": "execute_result"
    },
    {
     "data": {
      "image/png": "[encoded data removed]",
      "text/plain": [
       "<Figure size 640x480 with 1 Axes>"
      ]
     },
     "metadata": {},
     "output_type": "display_data"
    }
   ],
   "source": [
    "sns.scatterplot(data=df, x='average_playtime_forever', y='median_playtime_forever')"
   ]
  },
  {
   "cell_type": "code",
   "execution_count": 34,
   "id": "23cd2efe",
   "metadata": {},
   "outputs": [
    {
     "data": {
      "text/plain": [
       "0.8114564710179095"
      ]
     },
     "execution_count": 34,
     "metadata": {},
     "output_type": "execute_result"
    }
   ],
   "source": [
    "df['average_playtime_forever'].corr(df['median_playtime_forever'])"
   ]
  },
  {
   "cell_type": "markdown",
   "id": "1a07a851",
   "metadata": {},
   "source": [
    "# Playtime relationship\n",
    "\n",
    "## Before removing outliers: 0.8844518086787575\n",
    "\n",
    "## After removing outliers: 0.8114564710179095\n",
    "\n",
    "#### After doing the calculations, "
   ]
  },
  {
   "cell_type": "code",
   "execution_count": null,
   "id": "5e472736",
   "metadata": {},
   "outputs": [],
   "source": []
  }
 ],
 "metadata": {
  "kernelspec": {
   "display_name": "Python 3 (ipykernel)",
   "language": "python",
   "name": "python3"
  },
  "language_info": {
   "codemirror_mode": {
    "name": "ipython",
    "version": 3
   },
   "file_extension": ".py",
   "mimetype": "text/x-python",
   "name": "python",
   "nbconvert_exporter": "python",
   "pygments_lexer": "ipython3",
   "version": "3.9.13"
  }
 },
 "nbformat": 4,
 "nbformat_minor": 5
}
