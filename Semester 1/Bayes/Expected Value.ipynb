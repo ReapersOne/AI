{
 "cells": [
  {
   "cell_type": "code",
   "execution_count": 5,
   "id": "52ccb8b6",
   "metadata": {},
   "outputs": [],
   "source": [
    "def calculate_expected_value(outcomes, probabilities):\n",
    "    \"\"\"\n",
    "    Calculate the expected value.\n",
    "\n",
    "    Parameters:\n",
    "    - outcomes (list): A list of numerical outcomes.\n",
    "    - probabilities (list): A list of probabilities corresponding to the outcomes.\n",
    "\n",
    "    Returns:\n",
    "    - float: The expected value.\n",
    "    \"\"\"\n",
    "    # Ensure the lists have the same length\n",
    "    if len(outcomes) != len(probabilities):\n",
    "        raise ValueError(\"The lengths of outcomes and probabilities must be the same.\")\n",
    "    \n",
    "    # Ensure probabilities sum to 1\n",
    "    if not abs(sum(probabilities) - 1) < 1e-6:  # Allow for slight floating-point errors\n",
    "        raise ValueError(\"Probabilities must sum to 1.\")\n",
    "    \n",
    "    # Calculate the expected value\n",
    "    expected_value = sum(outcome * probability for outcome, probability in zip(outcomes, probabilities))\n",
    "    \n",
    "    return expected_value\n",
    "\n",
    "# Example usage\n",
    "outcomes = [102491, 66919,]\n",
    "probabilities = [0.92, 0.08,]"
   ]
  },
  {
   "cell_type": "code",
   "execution_count": 7,
   "id": "42c6ae73",
   "metadata": {},
   "outputs": [],
   "source": [
    "outcomes1 = [58073, 37917,]\n",
    "probabilities1 = [0.76, 0.24,]"
   ]
  },
  {
   "cell_type": "code",
   "execution_count": 6,
   "id": "b054fb3b",
   "metadata": {},
   "outputs": [
    {
     "name": "stdout",
     "output_type": "stream",
     "text": [
      "Expected Value: 99645.24\n"
     ]
    }
   ],
   "source": [
    "expected_value = calculate_expected_value(outcomes, probabilities)\n",
    "print(f\"Expected Value: {expected_value}\")"
   ]
  },
  {
   "cell_type": "markdown",
   "id": "d87df669",
   "metadata": {},
   "source": [
    "# Average dropout salary from Columbia is 66,919 dollars\n",
    "# Average dropout salary from NYU is 37,917 dollars"
   ]
  },
  {
   "cell_type": "code",
   "execution_count": 9,
   "id": "3602890e",
   "metadata": {},
   "outputs": [
    {
     "name": "stdout",
     "output_type": "stream",
     "text": [
      "Expected Value: 53235.560000000005\n"
     ]
    }
   ],
   "source": [
    "expected_value2 = calculate_expected_value(outcomes1, probabilities1)\n",
    "print(f\"Expected Value: {expected_value2}\")"
   ]
  },
  {
   "cell_type": "markdown",
   "id": "96f8935b",
   "metadata": {},
   "source": [
    "### The expected value of Columbia total us 99,645.24 dollars\n",
    "### The expected value of NYU is 53235.56 dollars"
   ]
  },
  {
   "cell_type": "code",
   "execution_count": 10,
   "id": "c6ea0474",
   "metadata": {},
   "outputs": [
    {
     "data": {
      "text/plain": [
       "93988"
      ]
     },
     "execution_count": 10,
     "metadata": {},
     "output_type": "execute_result"
    }
   ],
   "source": [
    "23497*4"
   ]
  },
  {
   "cell_type": "code",
   "execution_count": 11,
   "id": "bdde78bc",
   "metadata": {},
   "outputs": [
    {
     "data": {
      "text/plain": [
       "73432"
      ]
     },
     "execution_count": 11,
     "metadata": {},
     "output_type": "execute_result"
    }
   ],
   "source": [
    "18358*4"
   ]
  },
  {
   "cell_type": "code",
   "execution_count": 12,
   "id": "882a981e",
   "metadata": {},
   "outputs": [
    {
     "data": {
      "text/plain": [
       "5657.240000000005"
      ]
     },
     "execution_count": 12,
     "metadata": {},
     "output_type": "execute_result"
    }
   ],
   "source": [
    "99645.24-93988"
   ]
  },
  {
   "cell_type": "code",
   "execution_count": 13,
   "id": "17e0a96c",
   "metadata": {},
   "outputs": [
    {
     "data": {
      "text/plain": [
       "-20196.440000000002"
      ]
     },
     "execution_count": 13,
     "metadata": {},
     "output_type": "execute_result"
    }
   ],
   "source": [
    "53235.56-73432"
   ]
  },
  {
   "cell_type": "code",
   "execution_count": 14,
   "id": "1a25fb7a",
   "metadata": {},
   "outputs": [
    {
     "data": {
      "text/plain": [
       "46409.68000000001"
      ]
     },
     "execution_count": 14,
     "metadata": {},
     "output_type": "execute_result"
    }
   ],
   "source": [
    "99645.24-53235.56"
   ]
  },
  {
   "cell_type": "code",
   "execution_count": null,
   "id": "bf7632e9",
   "metadata": {},
   "outputs": [],
   "source": []
  }
 ],
 "metadata": {
  "kernelspec": {
   "display_name": "Python 3 (ipykernel)",
   "language": "python",
   "name": "python3"
  },
  "language_info": {
   "codemirror_mode": {
    "name": "ipython",
    "version": 3
   },
   "file_extension": ".py",
   "mimetype": "text/x-python",
   "name": "python",
   "nbconvert_exporter": "python",
   "pygments_lexer": "ipython3",
   "version": "3.9.13"
  }
 },
 "nbformat": 4,
 "nbformat_minor": 5
}
