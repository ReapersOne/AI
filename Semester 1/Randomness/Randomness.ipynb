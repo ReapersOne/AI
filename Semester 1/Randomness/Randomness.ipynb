{
 "cells": [
  {
   "cell_type": "code",
   "execution_count": 1,
   "id": "fcdabe83",
   "metadata": {},
   "outputs": [],
   "source": [
    "import pandas as pd\n",
    "import random\n",
    "from enum import Enum"
   ]
  },
  {
   "cell_type": "code",
   "execution_count": 2,
   "id": "bb47db56",
   "metadata": {},
   "outputs": [],
   "source": [
    "def GetMarbles(picked):\n",
    "    for marble in Marbles:\n",
    "        if picked in marble.value:\n",
    "            return marble.name"
   ]
  },
  {
   "cell_type": "code",
   "execution_count": 3,
   "id": "abd511b0",
   "metadata": {},
   "outputs": [],
   "source": [
    "class Marbles(Enum):\n",
    "    RED = range(0,33)\n",
    "    GREEN = range(33,66)\n",
    "    BLUE = range(66,100)"
   ]
  },
  {
   "cell_type": "code",
   "execution_count": 4,
   "id": "cf3735f9",
   "metadata": {},
   "outputs": [
    {
     "name": "stdout",
     "output_type": "stream",
     "text": [
      "{'RED': 320, 'GREEN': 325, 'BLUE': 355}\n"
     ]
    }
   ],
   "source": [
    "marbles = {Marbles.RED.name : 0, Marbles.GREEN.name : 0, Marbles.BLUE.name : 0}\n",
    "for i in range(1000):\n",
    "    pick = random.randint(1, 99)\n",
    "    marbles[GetMarbles(pick)] += 1\n",
    "print(marbles)"
   ]
  },
  {
   "cell_type": "code",
   "execution_count": 5,
   "id": "249c9b1a",
   "metadata": {},
   "outputs": [],
   "source": [
    "def GetCard(picked):\n",
    "    for card in Cards:\n",
    "        if picked in card.value:\n",
    "            return card.name"
   ]
  },
  {
   "cell_type": "code",
   "execution_count": 6,
   "id": "c9a5374d",
   "metadata": {},
   "outputs": [],
   "source": [
    "class Cards(Enum):\n",
    "    TigerWoods = range(0,20)\n",
    "    CristianoRonaldo = range(20,50)\n",
    "    SerenaWilliams = range(50,100)"
   ]
  },
  {
   "cell_type": "code",
   "execution_count": 7,
   "id": "5f543b15",
   "metadata": {},
   "outputs": [
    {
     "name": "stdout",
     "output_type": "stream",
     "text": [
      "{'TigerWoods': 195, 'CristianoRonaldo': 302, 'SerenaWilliams': 503}\n"
     ]
    }
   ],
   "source": [
    "card = {Cards.TigerWoods.name : 0, Cards.CristianoRonaldo.name : 0, Cards.SerenaWilliams.name : 0}\n",
    "for i in range(1000):\n",
    "    pick = random.randint(1, 99)\n",
    "    cards[GetCard(pick)] += 1\n",
    "print(cards)"
   ]
  },
  {
   "cell_type": "code",
   "execution_count": 9,
   "id": "2befdb8d",
   "metadata": {},
   "outputs": [],
   "source": [
    "def CollectCards() -> int:\n",
    "    cards = {i.name: 0 for i in Cards}\n",
    "    while True:\n",
    "        allCollected = True\n",
    "        total = 0\n",
    "        for i in cards.value():\n",
    "            total += 1 \n",
    "            if (i<=0):\n",
    "                allCollected = False\n",
    "        if(allCollected):\n",
    "            return total\n",
    "    pick = random.randint(1,99)\n",
    "    cards[CollectCards()] += 1"
   ]
  },
  {
   "cell_type": "code",
   "execution_count": 10,
   "id": "75de407a",
   "metadata": {},
   "outputs": [
    {
     "ename": "AttributeError",
     "evalue": "'dict' object has no attribute 'value'",
     "output_type": "error",
     "traceback": [
      "\u001b[1;31m---------------------------------------------------------------------------\u001b[0m",
      "\u001b[1;31mAttributeError\u001b[0m                            Traceback (most recent call last)",
      "\u001b[1;32m~\\AppData\\Local\\Temp\\ipykernel_28568\\289936543.py\u001b[0m in \u001b[0;36m<module>\u001b[1;34m\u001b[0m\n\u001b[1;32m----> 1\u001b[1;33m \u001b[0mCollectCards\u001b[0m\u001b[1;33m(\u001b[0m\u001b[1;33m)\u001b[0m\u001b[1;33m\u001b[0m\u001b[1;33m\u001b[0m\u001b[0m\n\u001b[0m",
      "\u001b[1;32m~\\AppData\\Local\\Temp\\ipykernel_28568\\2940636806.py\u001b[0m in \u001b[0;36mCollectCards\u001b[1;34m()\u001b[0m\n\u001b[0;32m      4\u001b[0m         \u001b[0mallCollected\u001b[0m \u001b[1;33m=\u001b[0m \u001b[1;32mTrue\u001b[0m\u001b[1;33m\u001b[0m\u001b[1;33m\u001b[0m\u001b[0m\n\u001b[0;32m      5\u001b[0m         \u001b[0mtotal\u001b[0m \u001b[1;33m=\u001b[0m \u001b[1;36m0\u001b[0m\u001b[1;33m\u001b[0m\u001b[1;33m\u001b[0m\u001b[0m\n\u001b[1;32m----> 6\u001b[1;33m         \u001b[1;32mfor\u001b[0m \u001b[0mi\u001b[0m \u001b[1;32min\u001b[0m \u001b[0mcards\u001b[0m\u001b[1;33m.\u001b[0m\u001b[0mvalue\u001b[0m\u001b[1;33m(\u001b[0m\u001b[1;33m)\u001b[0m\u001b[1;33m:\u001b[0m\u001b[1;33m\u001b[0m\u001b[1;33m\u001b[0m\u001b[0m\n\u001b[0m\u001b[0;32m      7\u001b[0m             \u001b[0mtotal\u001b[0m \u001b[1;33m+=\u001b[0m \u001b[1;36m1\u001b[0m\u001b[1;33m\u001b[0m\u001b[1;33m\u001b[0m\u001b[0m\n\u001b[0;32m      8\u001b[0m             \u001b[1;32mif\u001b[0m \u001b[1;33m(\u001b[0m\u001b[0mi\u001b[0m\u001b[1;33m<=\u001b[0m\u001b[1;36m0\u001b[0m\u001b[1;33m)\u001b[0m\u001b[1;33m:\u001b[0m\u001b[1;33m\u001b[0m\u001b[1;33m\u001b[0m\u001b[0m\n",
      "\u001b[1;31mAttributeError\u001b[0m: 'dict' object has no attribute 'value'"
     ]
    }
   ],
   "source": []
  },
  {
   "cell_type": "code",
   "execution_count": null,
   "id": "f3d51cb1",
   "metadata": {},
   "outputs": [],
   "source": []
  }
 ],
 "metadata": {
  "kernelspec": {
   "display_name": "Python 3 (ipykernel)",
   "language": "python",
   "name": "python3"
  },
  "language_info": {
   "codemirror_mode": {
    "name": "ipython",
    "version": 3
   },
   "file_extension": ".py",
   "mimetype": "text/x-python",
   "name": "python",
   "nbconvert_exporter": "python",
   "pygments_lexer": "ipython3",
   "version": "3.9.13"
  }
 },
 "nbformat": 4,
 "nbformat_minor": 5
}
