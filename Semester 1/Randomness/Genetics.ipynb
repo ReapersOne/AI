{
 "cells": [
  {
   "cell_type": "code",
   "execution_count": 1,
   "id": "94888101",
   "metadata": {},
   "outputs": [],
   "source": [
    "from enum import Enum\n",
    "import random"
   ]
  },
  {
   "cell_type": "markdown",
   "id": "f4f599ca",
   "metadata": {},
   "source": [
    "# Eye Color\n",
    "\n",
    "AA=Brown | \n",
    "AG=Hazel | \n",
    "GG=Blue\n"
   ]
  },
  {
   "cell_type": "code",
   "execution_count": 2,
   "id": "bb93672f",
   "metadata": {},
   "outputs": [],
   "source": [
    "class EyeColor(Enum):\n",
    "    AA = \"AA\"\n",
    "    AG = \"AG\"\n",
    "    GG = \"GG\""
   ]
  },
  {
   "cell_type": "code",
   "execution_count": 66,
   "id": "0469ad49",
   "metadata": {},
   "outputs": [
    {
     "name": "stdout",
     "output_type": "stream",
     "text": [
      "0.214\n"
     ]
    }
   ],
   "source": [
    "trials = 1000\n",
    "count = 0\n",
    "Blue = 0\n",
    "Girl = 0\n",
    "while count < trials:\n",
    "    num = random.randint(0,3)\n",
    "    sex = random.randint(0,1)\n",
    "    if sex == 0:\n",
    "        Girl += 1\n",
    "    if num == 1:\n",
    "        Blue += 1\n",
    "    count += 1\n",
    "    if num == 0:\n",
    "        count += 1\n",
    "    \n",
    "print(Blue/trials)"
   ]
  },
  {
   "cell_type": "code",
   "execution_count": null,
   "id": "12cb501c",
   "metadata": {},
   "outputs": [],
   "source": []
  },
  {
   "cell_type": "code",
   "execution_count": null,
   "id": "7a53f2b2",
   "metadata": {},
   "outputs": [],
   "source": []
  }
 ],
 "metadata": {
  "kernelspec": {
   "display_name": "Python 3 (ipykernel)",
   "language": "python",
   "name": "python3"
  },
  "language_info": {
   "codemirror_mode": {
    "name": "ipython",
    "version": 3
   },
   "file_extension": ".py",
   "mimetype": "text/x-python",
   "name": "python",
   "nbconvert_exporter": "python",
   "pygments_lexer": "ipython3",
   "version": "3.9.13"
  }
 },
 "nbformat": 4,
 "nbformat_minor": 5
}
