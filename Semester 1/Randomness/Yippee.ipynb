{
 "cells": [
  {
   "cell_type": "code",
   "execution_count": 1,
   "id": "597dfb82",
   "metadata": {},
   "outputs": [],
   "source": [
    "import random\n",
    "from enum import Enum"
   ]
  },
  {
   "cell_type": "markdown",
   "id": "4a1c3f3d",
   "metadata": {},
   "source": [
    "# Probability of AB- and O-\n",
    "O- 6.6%\n",
    "AB- 0.6%"
   ]
  },
  {
   "cell_type": "code",
   "execution_count": 2,
   "id": "e6e04e3a",
   "metadata": {},
   "outputs": [
    {
     "name": "stdout",
     "output_type": "stream",
     "text": [
      "Empirical Probability: 0.091\n"
     ]
    }
   ],
   "source": [
    "rounds = 0\n",
    "trials = 1000\n",
    "hot_chips = 0\n",
    "while rounds < trials:\n",
    "    num = random.randint(1, 13)\n",
    "    if num == 1:\n",
    "        hot_chips += 1\n",
    "    rounds += 1\n",
    "\n",
    "print(\"Empirical Probability:\", str((hot_chips/trials)))"
   ]
  },
  {
   "cell_type": "markdown",
   "id": "d9a3ea1b",
   "metadata": {},
   "source": [
    "Probability of AB- and O- = 0.079 or 7.9% chance"
   ]
  },
  {
   "cell_type": "code",
   "execution_count": 3,
   "id": "7324793b",
   "metadata": {},
   "outputs": [
    {
     "name": "stdout",
     "output_type": "stream",
     "text": [
      "Estimated Probability of Blood Types:\n",
      "O-: 0.0596\n",
      "AB-: 0.0097\n",
      "A+: 0.3405\n",
      "A-: 0.0606\n",
      "B+: 0.0890\n",
      "B-: 0.0196\n",
      "O+: 0.3706\n",
      "AB+: 0.0504\n",
      "\n",
      "Specific Results:\n",
      "Probability of O-: 0.0596\n",
      "Probability of AB-: 0.0097\n"
     ]
    }
   ],
   "source": [
    "# Enum for blood types\n",
    "class BloodType(Enum):\n",
    "    O_NEG = \"O-\"\n",
    "    AB_NEG = \"AB-\"\n",
    "    A_POS = \"A+\"\n",
    "    A_NEG = \"A-\"\n",
    "    B_POS = \"B+\"\n",
    "    B_NEG = \"B-\"\n",
    "    O_POS = \"O+\"\n",
    "    AB_POS = \"AB+\"\n",
    "\n",
    "# Simulation function\n",
    "def simulate_donations(num_trials=10000):\n",
    "    # Probabilities based on general population distribution (estimated)\n",
    "    blood_type_distribution = {\n",
    "        BloodType.O_NEG: 0.06,   # 6% for O-\n",
    "        BloodType.AB_NEG: 0.01,  # 1% for AB-\n",
    "        BloodType.A_POS: 0.34,   # 34% for A+\n",
    "        BloodType.A_NEG: 0.06,   # 6% for A-\n",
    "        BloodType.B_POS: 0.09,   # 9% for B+\n",
    "        BloodType.B_NEG: 0.02,   # 2% for B-\n",
    "        BloodType.O_POS: 0.37,   # 37% for O+\n",
    "        BloodType.AB_POS: 0.05   # 5% for AB+\n",
    "    }\n",
    "    \n",
    "    # Simulate donations\n",
    "    results = {blood_type: 0 for blood_type in BloodType}\n",
    "    \n",
    "    for _ in range(num_trials):\n",
    "        random_choice = random.choices(\n",
    "            list(blood_type_distribution.keys()),\n",
    "            weights=blood_type_distribution.values(),\n",
    "            k=1\n",
    "        )[0]\n",
    "        results[random_choice] += 1\n",
    "    \n",
    "    # Calculate probabilities\n",
    "    probabilities = {blood_type: count / num_trials for blood_type, count in results.items()}\n",
    "    \n",
    "    return probabilities\n",
    "\n",
    "# Run the simulation and print results\n",
    "num_trials = 100000  # Increase for higher accuracy\n",
    "probabilities = simulate_donations(num_trials)\n",
    "\n",
    "print(\"Estimated Probability of Blood Types:\")\n",
    "for blood_type, prob in probabilities.items():\n",
    "    print(f\"{blood_type.value}: {prob:.4f}\")\n",
    "\n",
    "# Print results for O- and AB-\n",
    "print(\"\\nSpecific Results:\")\n",
    "print(f\"Probability of O-: {probabilities[BloodType.O_NEG]:.4f}\")\n",
    "print(f\"Probability of AB-: {probabilities[BloodType.AB_NEG]:.4f}\")"
   ]
  },
  {
   "cell_type": "code",
   "execution_count": 4,
   "id": "d7ccf980",
   "metadata": {},
   "outputs": [
    {
     "name": "stdout",
     "output_type": "stream",
     "text": [
      "0.129\n"
     ]
    }
   ],
   "source": [
    "trials = 1000\n",
    "count = 0\n",
    "blood = 0\n",
    "while count < trials:\n",
    "    num = random.randint(1,1000)\n",
    "    if (num >= 652 and num<= 782) or (num >= 987):\n",
    "        blood += 1\n",
    "    count += 1\n",
    "    \n",
    "print(blood/trials)"
   ]
  },
  {
   "cell_type": "markdown",
   "id": "990f1799",
   "metadata": {},
   "source": [
    "# Password Guessing\n",
    "15.9% chance of guess a single character with a .03% of guessing the actual full password"
   ]
  },
  {
   "cell_type": "code",
   "execution_count": 5,
   "id": "1a886070",
   "metadata": {},
   "outputs": [
    {
     "name": "stdout",
     "output_type": "stream",
     "text": [
      "0.0\n"
     ]
    }
   ],
   "source": [
    "trials = 1000\n",
    "count = 0\n",
    "password = 0\n",
    "while count < trials:\n",
    "    combos = 94 ** 15\n",
    "    num = random.randint(1,combos)\n",
    "    if (num == 3):\n",
    "        password += 1\n",
    "    count += 1\n",
    "    \n",
    "print(password/trials)"
   ]
  },
  {
   "cell_type": "code",
   "execution_count": 7,
   "id": "aa7e415c",
   "metadata": {},
   "outputs": [
    {
     "name": "stdout",
     "output_type": "stream",
     "text": [
      "0.155\n"
     ]
    }
   ],
   "source": [
    "trials = 1000\n",
    "count = 0\n",
    "queenking = 0\n",
    "\n",
    "while count < trials:\n",
    "    num = random.randint(1,13)\n",
    "    if num in range(1,3):\n",
    "        queenking += 1\n",
    "    count += 1\n",
    "    \n",
    "print(queenking/trials)"
   ]
  },
  {
   "cell_type": "code",
   "execution_count": 8,
   "id": "e264b9ff",
   "metadata": {},
   "outputs": [
    {
     "name": "stdout",
     "output_type": "stream",
     "text": [
      "0.056\n"
     ]
    }
   ],
   "source": [
    "trials = 1000\n",
    "count = 0\n",
    "queen = 0\n",
    "\n",
    "while count < trials:\n",
    "    num = random.randint(1,13)\n",
    "    if num in range(1,2):\n",
    "        queen += 1\n",
    "    count += 1\n",
    "    \n",
    "print(queen/trials)"
   ]
  },
  {
   "cell_type": "code",
   "execution_count": null,
   "id": "3d3bacd4",
   "metadata": {},
   "outputs": [],
   "source": []
  }
 ],
 "metadata": {
  "kernelspec": {
   "display_name": "Python 3 (ipykernel)",
   "language": "python",
   "name": "python3"
  },
  "language_info": {
   "codemirror_mode": {
    "name": "ipython",
    "version": 3
   },
   "file_extension": ".py",
   "mimetype": "text/x-python",
   "name": "python",
   "nbconvert_exporter": "python",
   "pygments_lexer": "ipython3",
   "version": "3.9.13"
  }
 },
 "nbformat": 4,
 "nbformat_minor": 5
}
