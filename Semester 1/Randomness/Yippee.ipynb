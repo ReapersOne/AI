{
 "cells": [
  {
   "cell_type": "code",
   "execution_count": 4,
   "id": "597dfb82",
   "metadata": {},
   "outputs": [],
   "source": [
    "import random\n",
    "from enum import Enum"
   ]
  },
  {
   "cell_type": "markdown",
   "id": "4a1c3f3d",
   "metadata": {},
   "source": [
    "# Probability of AB- and O-\n",
    "O- 6.6%\n",
    "AB- 0.6%"
   ]
  },
  {
   "cell_type": "code",
   "execution_count": 7,
   "id": "e6e04e3a",
   "metadata": {},
   "outputs": [
    {
     "name": "stdout",
     "output_type": "stream",
     "text": [
      "Empirical Probability: 0.079\n"
     ]
    }
   ],
   "source": [
    "rounds = 0\n",
    "trials = 1000\n",
    "hot_chips = 0\n",
    "while rounds < trials:\n",
    "    num = random.randint(1, 13)\n",
    "    if num == 1:\n",
    "        hot_chips += 1\n",
    "    rounds += 1\n",
    "\n",
    "print(\"Empirical Probability:\", str((hot_chips/trials)))"
   ]
  },
  {
   "cell_type": "markdown",
   "id": "0c0cc6d0",
   "metadata": {},
   "source": [
    "Probability of AB- and O- = 0.079 or 7.9% chance"
   ]
  },
  {
   "cell_type": "code",
   "execution_count": 10,
   "id": "15c69686",
   "metadata": {},
   "outputs": [
    {
     "name": "stdout",
     "output_type": "stream",
     "text": [
      "Estimated Probability of Blood Types:\n",
      "O-: 0.0600\n",
      "AB-: 0.0100\n",
      "A+: 0.3398\n",
      "A-: 0.0603\n",
      "B+: 0.0899\n",
      "B-: 0.0199\n",
      "O+: 0.3705\n",
      "AB+: 0.0497\n",
      "\n",
      "Specific Results:\n",
      "Probability of O-: 0.0600\n",
      "Probability of AB-: 0.0100\n"
     ]
    }
   ],
   "source": [
    "# Enum for blood types\n",
    "class BloodType(Enum):\n",
    "    O_NEG = \"O-\"\n",
    "    AB_NEG = \"AB-\"\n",
    "    A_POS = \"A+\"\n",
    "    A_NEG = \"A-\"\n",
    "    B_POS = \"B+\"\n",
    "    B_NEG = \"B-\"\n",
    "    O_POS = \"O+\"\n",
    "    AB_POS = \"AB+\"\n",
    "\n",
    "# Simulation function\n",
    "def simulate_donations(num_trials=10000):\n",
    "    # Probabilities based on general population distribution (estimated)\n",
    "    blood_type_distribution = {\n",
    "        BloodType.O_NEG: 0.06,   # 6% for O-\n",
    "        BloodType.AB_NEG: 0.01,  # 1% for AB-\n",
    "        BloodType.A_POS: 0.34,   # 34% for A+\n",
    "        BloodType.A_NEG: 0.06,   # 6% for A-\n",
    "        BloodType.B_POS: 0.09,   # 9% for B+\n",
    "        BloodType.B_NEG: 0.02,   # 2% for B-\n",
    "        BloodType.O_POS: 0.37,   # 37% for O+\n",
    "        BloodType.AB_POS: 0.05   # 5% for AB+\n",
    "    }\n",
    "    \n",
    "    # Simulate donations\n",
    "    results = {blood_type: 0 for blood_type in BloodType}\n",
    "    \n",
    "    for _ in range(num_trials):\n",
    "        random_choice = random.choices(\n",
    "            list(blood_type_distribution.keys()),\n",
    "            weights=blood_type_distribution.values(),\n",
    "            k=1\n",
    "        )[0]\n",
    "        results[random_choice] += 1\n",
    "    \n",
    "    # Calculate probabilities\n",
    "    probabilities = {blood_type: count / num_trials for blood_type, count in results.items()}\n",
    "    \n",
    "    return probabilities\n",
    "\n",
    "# Run the simulation and print results\n",
    "num_trials = 100000  # Increase for higher accuracy\n",
    "probabilities = simulate_donations(num_trials)\n",
    "\n",
    "print(\"Estimated Probability of Blood Types:\")\n",
    "for blood_type, prob in probabilities.items():\n",
    "    print(f\"{blood_type.value}: {prob:.4f}\")\n",
    "\n",
    "# Print results for O- and AB-\n",
    "print(\"\\nSpecific Results:\")\n",
    "print(f\"Probability of O-: {probabilities[BloodType.O_NEG]:.4f}\")\n",
    "print(f\"Probability of AB-: {probabilities[BloodType.AB_NEG]:.4f}\")"
   ]
  },
  {
   "cell_type": "code",
   "execution_count": 13,
   "id": "e0c2410e",
   "metadata": {},
   "outputs": [
    {
     "name": "stdout",
     "output_type": "stream",
     "text": [
      "0.153\n"
     ]
    }
   ],
   "source": [
    "trials = 1000\n",
    "count = 0\n",
    "blood = 0\n",
    "while count < trials:\n",
    "    num = random.randint(1,1000)\n",
    "    if (num >= 652 and num<= 782) or (num >= 987):\n",
    "        blood += 1\n",
    "    count += 1\n",
    "    \n",
    "print(blood/trials)"
   ]
  },
  {
   "cell_type": "code",
   "execution_count": null,
   "id": "2a1deed7",
   "metadata": {},
   "outputs": [],
   "source": [
    "The empirical probability is similar to the teoretical probability. This difference "
   ]
  }
 ],
 "metadata": {
  "kernelspec": {
   "display_name": "Python 3 (ipykernel)",
   "language": "python",
   "name": "python3"
  },
  "language_info": {
   "codemirror_mode": {
    "name": "ipython",
    "version": 3
   },
   "file_extension": ".py",
   "mimetype": "text/x-python",
   "name": "python",
   "nbconvert_exporter": "python",
   "pygments_lexer": "ipython3",
   "version": "3.9.13"
  }
 },
 "nbformat": 4,
 "nbformat_minor": 5
}
