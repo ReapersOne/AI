{
 "cells": [
  {
   "cell_type": "code",
   "execution_count": 1,
   "id": "1308c6da",
   "metadata": {},
   "outputs": [],
   "source": [
    "import pandas as pd\n",
    "import seaborn as sns\n",
    "import numpy as np\n",
    "import matplotlib.pyplot as plt\n",
    "import requests"
   ]
  },
  {
   "cell_type": "code",
   "execution_count": 2,
   "id": "6c76c2b5",
   "metadata": {},
   "outputs": [],
   "source": [
    "tsla = pd.read_json('tsla.json')\n",
    "musk = pd.read_json('musk.json')"
   ]
  },
  {
   "cell_type": "code",
   "execution_count": 5,
   "id": "dd75db53",
   "metadata": {},
   "outputs": [
    {
     "ename": "IndentationError",
     "evalue": "expected an indented block (3856332937.py, line 4)",
     "output_type": "error",
     "traceback": [
      "\u001b[1;36m  File \u001b[1;32m\"C:\\Users\\wreep\\AppData\\Local\\Temp\\ipykernel_15536\\3856332937.py\"\u001b[1;36m, line \u001b[1;32m4\u001b[0m\n\u001b[1;33m    merged_df = pd.merge(df1, df2, on=shared_column, how='inner'\u001b[0m\n\u001b[1;37m    ^\u001b[0m\n\u001b[1;31mIndentationError\u001b[0m\u001b[1;31m:\u001b[0m expected an indented block\n"
     ]
    }
   ],
   "source": [
    "def combine_datasets(df1, df2, shared_column):\n",
    "\n",
    "merged_df = pd.merge(df1, df2, on=shared_column, how='inner'\n",
    "                     return merged_df\n",
    "            "
   ]
  },
  {
   "cell_type": "code",
   "execution_count": null,
   "id": "13b4e8cb",
   "metadata": {},
   "outputs": [],
   "source": []
  }
 ],
 "metadata": {
  "kernelspec": {
   "display_name": "Python 3 (ipykernel)",
   "language": "python",
   "name": "python3"
  },
  "language_info": {
   "codemirror_mode": {
    "name": "ipython",
    "version": 3
   },
   "file_extension": ".py",
   "mimetype": "text/x-python",
   "name": "python",
   "nbconvert_exporter": "python",
   "pygments_lexer": "ipython3",
   "version": "3.9.13"
  }
 },
 "nbformat": 4,
 "nbformat_minor": 5
}
