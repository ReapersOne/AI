{
 "cells": [
  {
   "cell_type": "markdown",
   "id": "9919c268",
   "metadata": {},
   "source": [
    "# Choose a Data Set\n",
    "\n",
    "Create your own dataset by scraping one of the following websites *(level 5)*:\n",
    "- [Wikipedia](https://www.wikipedia.org/)\n",
    "- [OpenLibrary](https://openlibrary.org/)\n",
    "\n",
    "**OR** \n",
    "\n",
    "Use data gathered from one of the following APIs *(level 4)*: \n",
    "- [TMDB](https://developer.themoviedb.org/reference/intro/getting-started)\n",
    "- [College Scorecard](https://collegescorecard.ed.gov/data/api-documentation/)\n",
    "\n",
    "**OR** \n",
    "\n",
    "Pick a JSON dataset *(level 3)*:\n",
    "- [Food/Restaurant Data](https://drive.google.com/drive/folders/1V94S6WpclvQmbnW88KVMD4EruryA1oma?usp=drive_link)\n",
    "- [Fashion Data](https://drive.google.com/drive/folders/1V8SbFjtRRW8WVf3xBzg0gzLjOtMhHea_?usp=drive_link)\n",
    "\n",
    "**OR** \n",
    "\n",
    "Pick a CSV dataset *(level 2)*:\n",
    "- [LA Parking Tickets](https://drive.google.com/drive/folders/1vaOfwMi6QmZEGsXr8VM0ulPGzvTTBCgm?usp=drive_link)\n",
    "- [Hotels](https://drive.google.com/drive/folders/1IpVFxgwBJvJHKoOuBsk6WK2qYqFYP4hi?usp=drive_link)"
   ]
  },
  {
   "cell_type": "markdown",
   "id": "ae147ea6",
   "metadata": {},
   "source": [
    "# My Question\n",
    "### What is the chances of pulling a book from the 1900s from the trending yearly section in OpenLibrary?\n",
    "\n",
    "### Imagine you and your friend are gambling. Your friend makes a bet that the next person they talk to, has read a 1900s book this year, if your friend loses, he will pay 5 bucks. If the person has read a 1900s book this year, you pay 6 bucks. What is the expected value of profit?"
   ]
  },
  {
   "cell_type": "markdown",
   "id": "149f324f",
   "metadata": {},
   "source": [
    "# My Answer"
   ]
  },
  {
   "cell_type": "code",
   "execution_count": 16,
   "id": "b228559e",
   "metadata": {},
   "outputs": [],
   "source": [
    "import pandas as pd\n",
    "from bs4 import BeautifulSoup\n",
    "import numpy as np\n",
    "import requests\n",
    "import random\n",
    "from enum import Enum"
   ]
  },
  {
   "cell_type": "code",
   "execution_count": 2,
   "id": "1c06f72d",
   "metadata": {},
   "outputs": [],
   "source": [
    "pages = []\n",
    "url = 'https://openlibrary.org/trending/yearly'\n",
    "response = requests.get(url)\n",
    "soup2 = BeautifulSoup(response.content, \"html.parser\")\n",
    "pages.append(soup2)"
   ]
  },
  {
   "cell_type": "code",
   "execution_count": 3,
   "id": "3a7621f6",
   "metadata": {},
   "outputs": [],
   "source": [
    "page = 1\n",
    "for i in range(page, 3):\n",
    "    url = 'https://openlibrary.org/trending/yearly?page=' + str(page)\n",
    "    response = requests.get(url)\n",
    "    soup2 = BeautifulSoup(response.content, \"html.parser\")\n",
    "    pages.append(soup2)"
   ]
  },
  {
   "cell_type": "code",
   "execution_count": 4,
   "id": "9826107a",
   "metadata": {},
   "outputs": [],
   "source": [
    "book_info = {\"Book Title\": []}\n",
    "titles = soup2.find_all('a', class_='results')"
   ]
  },
  {
   "cell_type": "code",
   "execution_count": 5,
   "id": "b3675746",
   "metadata": {},
   "outputs": [],
   "source": [
    "for title in titles:\n",
    "    book_info[\"Book Title\"]. append(title.contents)"
   ]
  },
  {
   "cell_type": "code",
   "execution_count": 6,
   "id": "c69346e5",
   "metadata": {},
   "outputs": [],
   "source": [
    "books = pd.DataFrame(book_info)"
   ]
  },
  {
   "cell_type": "code",
   "execution_count": 8,
   "id": "1847c2ca",
   "metadata": {},
   "outputs": [],
   "source": [
    "years = []\n",
    "for element in soup2.find_all(\"span\", class_=\"resultDetails\"):  # Adjust tag and class as needed\n",
    "    year = element.get_text(strip=True)  # Extract and clean text\n",
    "    years.append(year)\n",
    "\n",
    "# Step 3: Store in a DataFrame\n",
    "df1 = pd.DataFrame({\"Publication Year\": years})"
   ]
  },
  {
   "cell_type": "code",
   "execution_count": 9,
   "id": "a5035b98",
   "metadata": {},
   "outputs": [],
   "source": [
    "authors = []\n",
    "for element in soup2.find_all(\"span\", class_=\"bookauthor\"):\n",
    "    raw_text = element.get_text(strip=True)\n",
    "    # Assuming text is \"Author: John Doe\"\n",
    "    author = raw_text.split(\"by\")[1].strip()  # Split by \":\" and take the part after it\n",
    "    authors.append(author)\n",
    "# Step 3: Store in a DataFrame\n",
    "df2 = pd.DataFrame({\"Author\": authors})"
   ]
  },
  {
   "cell_type": "code",
   "execution_count": 10,
   "id": "8df068e9",
   "metadata": {},
   "outputs": [
    {
     "name": "stdout",
     "output_type": "stream",
     "text": [
      "['11572', '11027', '9244', '5875', '5563', '5131', '4424', '3739', '3684', '3279', '3209', '3177', '3049', '3028', '3009', '2507', '2456', '2287', '1830', '1774']\n"
     ]
    }
   ],
   "source": [
    "elements = soup2.find_all(\"div\", class_=\"details\")\n",
    "\n",
    "# Initialize the list to store numbers\n",
    "numbers = []\n",
    "\n",
    "# Loop through all elements to extract numbers\n",
    "for element in elements:\n",
    "    text = element.get_text(strip=True)  # Get the text content from each element\n",
    "    words = text.split()  # Split the text into a list of words\n",
    "    \n",
    "    # Loop through each word and check if it's a number\n",
    "    for word in words:\n",
    "        if word.isdigit():  # Check if the word is a number\n",
    "            \n",
    "            # Check if the number is not 48\n",
    "            if word != \"48\":\n",
    "                numbers.append(word)\n",
    "\n",
    "            \n",
    "\n",
    "# Print the list of numbers, excluding 48\n",
    "print(numbers)"
   ]
  },
  {
   "cell_type": "code",
   "execution_count": 11,
   "id": "495a9456",
   "metadata": {},
   "outputs": [],
   "source": [
    "df = pd.DataFrame(numbers, columns=[\"Times Logged In\"])"
   ]
  },
  {
   "cell_type": "code",
   "execution_count": 12,
   "id": "93274d35",
   "metadata": {},
   "outputs": [],
   "source": [
    "trendingYearly = pd.concat([books, df1, df2, df], axis=1)"
   ]
  },
  {
   "cell_type": "code",
   "execution_count": 13,
   "id": "e2ecf96f",
   "metadata": {
    "scrolled": true
   },
   "outputs": [
    {
     "data": {
      "text/html": [
       "<div>\n",
       "<style scoped>\n",
       "    .dataframe tbody tr th:only-of-type {\n",
       "        vertical-align: middle;\n",
       "    }\n",
       "\n",
       "    .dataframe tbody tr th {\n",
       "        vertical-align: top;\n",
       "    }\n",
       "\n",
       "    .dataframe thead th {\n",
       "        text-align: right;\n",
       "    }\n",
       "</style>\n",
       "<table border=\"1\" class=\"dataframe\">\n",
       "  <thead>\n",
       "    <tr style=\"text-align: right;\">\n",
       "      <th></th>\n",
       "      <th>Book Title</th>\n",
       "      <th>Publication Year</th>\n",
       "      <th>Author</th>\n",
       "      <th>Times Logged In</th>\n",
       "    </tr>\n",
       "  </thead>\n",
       "  <tbody>\n",
       "    <tr>\n",
       "      <th>0</th>\n",
       "      <td>[Atomic Habits]</td>\n",
       "      <td>First published in 2016—41 editions</td>\n",
       "      <td>James Clear</td>\n",
       "      <td>11572</td>\n",
       "    </tr>\n",
       "    <tr>\n",
       "      <th>1</th>\n",
       "      <td>[Control Your Mind and Master Your Feelings]</td>\n",
       "      <td>First published in 2019—3 editions</td>\n",
       "      <td>Eric Robertson - undifferentiated</td>\n",
       "      <td>11027</td>\n",
       "    </tr>\n",
       "    <tr>\n",
       "      <th>2</th>\n",
       "      <td>[The 48 Laws of Power]</td>\n",
       "      <td>First published in 1998—52 editions</td>\n",
       "      <td>Robert GreeneandJoost Elffers</td>\n",
       "      <td>9244</td>\n",
       "    </tr>\n",
       "    <tr>\n",
       "      <th>3</th>\n",
       "      <td>[It Ends With Us]</td>\n",
       "      <td>First published in 2012—34 editions</td>\n",
       "      <td>Colleen Hoover</td>\n",
       "      <td>5875</td>\n",
       "    </tr>\n",
       "    <tr>\n",
       "      <th>4</th>\n",
       "      <td>[I Don't Love You Anymore]</td>\n",
       "      <td>First published in 2020—2 editions</td>\n",
       "      <td>Rithvik Singh</td>\n",
       "      <td>5563</td>\n",
       "    </tr>\n",
       "    <tr>\n",
       "      <th>5</th>\n",
       "      <td>[Um casamento arranjado]</td>\n",
       "      <td>First published in 2019—15 editions</td>\n",
       "      <td>Zana Kheiron</td>\n",
       "      <td>5131</td>\n",
       "    </tr>\n",
       "    <tr>\n",
       "      <th>6</th>\n",
       "      <td>[Twisted Love]</td>\n",
       "      <td>First published in 2021—13 editions</td>\n",
       "      <td>Ana Huang</td>\n",
       "      <td>4424</td>\n",
       "    </tr>\n",
       "    <tr>\n",
       "      <th>7</th>\n",
       "      <td>[Rich Dad, Poor Dad]</td>\n",
       "      <td>First published in 1990—79 editions</td>\n",
       "      <td>Robert T. KiyosakiandSharon L. Lechter</td>\n",
       "      <td>3739</td>\n",
       "    </tr>\n",
       "    <tr>\n",
       "      <th>8</th>\n",
       "      <td>[The Psychology of Money]</td>\n",
       "      <td>First published in 2020—9 editions</td>\n",
       "      <td>Morgan Housel</td>\n",
       "      <td>3684</td>\n",
       "    </tr>\n",
       "    <tr>\n",
       "      <th>9</th>\n",
       "      <td>[Haunting Adeline]</td>\n",
       "      <td>First published in 2021—9 editions</td>\n",
       "      <td>H. D. Carlton</td>\n",
       "      <td>3279</td>\n",
       "    </tr>\n",
       "    <tr>\n",
       "      <th>10</th>\n",
       "      <td>[A Game of Thrones]</td>\n",
       "      <td>First published in 1996—86 editions</td>\n",
       "      <td>George R. R. Martin</td>\n",
       "      <td>3209</td>\n",
       "    </tr>\n",
       "    <tr>\n",
       "      <th>11</th>\n",
       "      <td>[Think and Grow Rich]</td>\n",
       "      <td>First published in 1937—279 editions</td>\n",
       "      <td>Napoleon Hill</td>\n",
       "      <td>3177</td>\n",
       "    </tr>\n",
       "    <tr>\n",
       "      <th>12</th>\n",
       "      <td>[The Subtle Art of Not Giving a F*ck]</td>\n",
       "      <td>First published in 2016—41 editions</td>\n",
       "      <td>Mark Manson</td>\n",
       "      <td>3049</td>\n",
       "    </tr>\n",
       "    <tr>\n",
       "      <th>13</th>\n",
       "      <td>[Harry Potter and the Philosopher's Stone]</td>\n",
       "      <td>First published in 1997—337 editions</td>\n",
       "      <td>J. K. Rowling</td>\n",
       "      <td>3028</td>\n",
       "    </tr>\n",
       "    <tr>\n",
       "      <th>14</th>\n",
       "      <td>[Icebreaker]</td>\n",
       "      <td>First published in 2020—9 editions</td>\n",
       "      <td>Hannah Grace</td>\n",
       "      <td>3009</td>\n",
       "    </tr>\n",
       "    <tr>\n",
       "      <th>15</th>\n",
       "      <td>[Read People Like a Book]</td>\n",
       "      <td>First published in 2020—4 editions</td>\n",
       "      <td>Patrick King</td>\n",
       "      <td>2507</td>\n",
       "    </tr>\n",
       "    <tr>\n",
       "      <th>16</th>\n",
       "      <td>[The Power of Your Subconscious Mind]</td>\n",
       "      <td>First published in 1963—117 editions</td>\n",
       "      <td>Joseph Murphy</td>\n",
       "      <td>2456</td>\n",
       "    </tr>\n",
       "    <tr>\n",
       "      <th>17</th>\n",
       "      <td>[It Starts with Us]</td>\n",
       "      <td>First published in 2022—16 editions</td>\n",
       "      <td>Colleen Hoover</td>\n",
       "      <td>2287</td>\n",
       "    </tr>\n",
       "    <tr>\n",
       "      <th>18</th>\n",
       "      <td>[How to Win Friends and Influence People]</td>\n",
       "      <td>First published in 1913—151 editions</td>\n",
       "      <td>Dale Carnegie</td>\n",
       "      <td>1830</td>\n",
       "    </tr>\n",
       "    <tr>\n",
       "      <th>19</th>\n",
       "      <td>[The Alchemist]</td>\n",
       "      <td>First published in 1988—132 editions</td>\n",
       "      <td>Paulo Coelho</td>\n",
       "      <td>1774</td>\n",
       "    </tr>\n",
       "  </tbody>\n",
       "</table>\n",
       "</div>"
      ],
      "text/plain": [
       "                                      Book Title  \\\n",
       "0                                [Atomic Habits]   \n",
       "1   [Control Your Mind and Master Your Feelings]   \n",
       "2                         [The 48 Laws of Power]   \n",
       "3                              [It Ends With Us]   \n",
       "4                     [I Don't Love You Anymore]   \n",
       "5                       [Um casamento arranjado]   \n",
       "6                                 [Twisted Love]   \n",
       "7                           [Rich Dad, Poor Dad]   \n",
       "8                      [The Psychology of Money]   \n",
       "9                             [Haunting Adeline]   \n",
       "10                           [A Game of Thrones]   \n",
       "11                         [Think and Grow Rich]   \n",
       "12         [The Subtle Art of Not Giving a F*ck]   \n",
       "13    [Harry Potter and the Philosopher's Stone]   \n",
       "14                                  [Icebreaker]   \n",
       "15                     [Read People Like a Book]   \n",
       "16         [The Power of Your Subconscious Mind]   \n",
       "17                           [It Starts with Us]   \n",
       "18     [How to Win Friends and Influence People]   \n",
       "19                               [The Alchemist]   \n",
       "\n",
       "                        Publication Year  \\\n",
       "0    First published in 2016—41 editions   \n",
       "1     First published in 2019—3 editions   \n",
       "2    First published in 1998—52 editions   \n",
       "3    First published in 2012—34 editions   \n",
       "4     First published in 2020—2 editions   \n",
       "5    First published in 2019—15 editions   \n",
       "6    First published in 2021—13 editions   \n",
       "7    First published in 1990—79 editions   \n",
       "8     First published in 2020—9 editions   \n",
       "9     First published in 2021—9 editions   \n",
       "10   First published in 1996—86 editions   \n",
       "11  First published in 1937—279 editions   \n",
       "12   First published in 2016—41 editions   \n",
       "13  First published in 1997—337 editions   \n",
       "14    First published in 2020—9 editions   \n",
       "15    First published in 2020—4 editions   \n",
       "16  First published in 1963—117 editions   \n",
       "17   First published in 2022—16 editions   \n",
       "18  First published in 1913—151 editions   \n",
       "19  First published in 1988—132 editions   \n",
       "\n",
       "                                    Author Times Logged In  \n",
       "0                              James Clear           11572  \n",
       "1        Eric Robertson - undifferentiated           11027  \n",
       "2            Robert GreeneandJoost Elffers            9244  \n",
       "3                           Colleen Hoover            5875  \n",
       "4                            Rithvik Singh            5563  \n",
       "5                             Zana Kheiron            5131  \n",
       "6                                Ana Huang            4424  \n",
       "7   Robert T. KiyosakiandSharon L. Lechter            3739  \n",
       "8                            Morgan Housel            3684  \n",
       "9                            H. D. Carlton            3279  \n",
       "10                     George R. R. Martin            3209  \n",
       "11                           Napoleon Hill            3177  \n",
       "12                             Mark Manson            3049  \n",
       "13                           J. K. Rowling            3028  \n",
       "14                            Hannah Grace            3009  \n",
       "15                            Patrick King            2507  \n",
       "16                           Joseph Murphy            2456  \n",
       "17                          Colleen Hoover            2287  \n",
       "18                           Dale Carnegie            1830  \n",
       "19                            Paulo Coelho            1774  "
      ]
     },
     "execution_count": 13,
     "metadata": {},
     "output_type": "execute_result"
    }
   ],
   "source": [
    "trendingYearly"
   ]
  },
  {
   "cell_type": "code",
   "execution_count": 53,
   "id": "6441c255",
   "metadata": {
    "scrolled": true
   },
   "outputs": [
    {
     "name": "stdout",
     "output_type": "stream",
     "text": [
      "<class 'pandas.core.frame.DataFrame'>\n",
      "RangeIndex: 20 entries, 0 to 19\n",
      "Data columns (total 4 columns):\n",
      " #   Column            Non-Null Count  Dtype \n",
      "---  ------            --------------  ----- \n",
      " 0   Book Title        20 non-null     object\n",
      " 1   Publication Year  20 non-null     object\n",
      " 2   Author            20 non-null     object\n",
      " 3   Times Logged In   20 non-null     object\n",
      "dtypes: object(4)\n",
      "memory usage: 768.0+ bytes\n"
     ]
    }
   ],
   "source": [
    "trendingYearly.info()"
   ]
  },
  {
   "cell_type": "markdown",
   "id": "89d08367",
   "metadata": {},
   "source": [
    "#### My Theoretical Value for pulling a book from the 1900s is 14%, because...\n",
    "##### 20-12=7 (12 comes from the amount of books that are in the 2000s)\n",
    "##### 1/7 = .142857"
   ]
  },
  {
   "cell_type": "code",
   "execution_count": 52,
   "id": "c65addc8",
   "metadata": {},
   "outputs": [
    {
     "name": "stdout",
     "output_type": "stream",
     "text": [
      "Empirical Probability: 0.15\n"
     ]
    }
   ],
   "source": [
    "rounds = 0\n",
    "trials = 1000\n",
    "publicationYear = 0\n",
    "while rounds < trials:\n",
    "    num = random.randint(1, 7)\n",
    "    if num == 1:\n",
    "        publicationYear += 1\n",
    "    rounds += 1\n",
    "\n",
    "print(\"Empirical Probability:\", str((publicationYear/trials)))"
   ]
  },
  {
   "cell_type": "markdown",
   "id": "8a05c797",
   "metadata": {},
   "source": [
    "#### The Empirical Probability of pulling a book from the 1900's is around a 15% chance."
   ]
  },
  {
   "cell_type": "code",
   "execution_count": 57,
   "id": "639efa89",
   "metadata": {},
   "outputs": [],
   "source": [
    "def calculate_expected_value(outcomes, probabilities):\n",
    "    \"\"\"\n",
    "    Calculate the expected value.\n",
    "\n",
    "    Parameters:\n",
    "    - outcomes (list): A list of numerical outcomes.\n",
    "    - probabilities (list): A list of probabilities corresponding to the outcomes.\n",
    "\n",
    "    Returns:\n",
    "    - float: The expected value.\n",
    "    \"\"\"\n",
    "    if len(outcomes) != len(probabilities):\n",
    "        raise ValueError(\"The lengths of outcomes and probabilities must be the same.\")\n",
    "    \n",
    "    if not abs(sum(probabilities) - 1) < 1e-6:  \n",
    "        raise ValueError(\"Probabilities must sum to 1.\")\n",
    "    \n",
    "    # Calculate the expected value\n",
    "    expected_value = sum(outcome * probability for outcome, probability in zip(outcomes, probabilities))\n",
    "    \n",
    "    return expected_value\n",
    "\n",
    "outcomes = [5, 6]\n",
    "probabilities = [.85, .15]"
   ]
  },
  {
   "cell_type": "code",
   "execution_count": 59,
   "id": "090fc980",
   "metadata": {},
   "outputs": [
    {
     "name": "stdout",
     "output_type": "stream",
     "text": [
      "Expected Value: 5.15\n"
     ]
    }
   ],
   "source": [
    "expected_value = calculate_expected_value(outcomes, probabilities)\n",
    "print(f\"Expected Value: {expected_value}\")"
   ]
  },
  {
   "cell_type": "markdown",
   "id": "a8bc8bcb",
   "metadata": {},
   "source": [
    "***Describe analysis here.***"
   ]
  },
  {
   "cell_type": "markdown",
   "id": "0a708946",
   "metadata": {},
   "source": [
    "### My Theoretical Value for pulling a book from the 1900s is 14%, because...\n",
    "#### 20-12=7 (12 comes from the amount of books that are in the 2000s)\n",
    "#### 1/7 = .142857\n",
    "\n",
    "### The Empirical Probability of pulling a book from the 1900's is around a 15% chance."
   ]
  },
  {
   "cell_type": "markdown",
   "id": "4d93cfe1",
   "metadata": {},
   "source": [
    "***Describe analysis here.***"
   ]
  },
  {
   "cell_type": "markdown",
   "id": "7d9370d9",
   "metadata": {},
   "source": [
    "### In the little gambling session, I am guaranteed 5 dollars, considering he only has around a 15% chance of winning the bet."
   ]
  },
  {
   "cell_type": "code",
   "execution_count": null,
   "id": "f30e7fb0",
   "metadata": {},
   "outputs": [],
   "source": []
  }
 ],
 "metadata": {
  "kernelspec": {
   "display_name": "Python 3 (ipykernel)",
   "language": "python",
   "name": "python3"
  },
  "language_info": {
   "codemirror_mode": {
    "name": "ipython",
    "version": 3
   },
   "file_extension": ".py",
   "mimetype": "text/x-python",
   "name": "python",
   "nbconvert_exporter": "python",
   "pygments_lexer": "ipython3",
   "version": "3.9.13"
  }
 },
 "nbformat": 4,
 "nbformat_minor": 5
}
