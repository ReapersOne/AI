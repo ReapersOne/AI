{
 "cells": [
  {
   "cell_type": "markdown",
   "id": "e72e548d",
   "metadata": {},
   "source": [
    "# Choose a Data Set\n",
    "\n",
    "You can choose to analyze any data that you would like! Remember, you need 1000 rows of non-null data in order to get 5 points for the \"Data\" criteria of my [rubric](https://docs.google.com/document/d/1s3wllcF3LLnytxwD8mZ-BCypXKnfaahnizWGNojT-B4/edit?usp=sharing). Consider looking at [Kaggle](https://www.kaggle.com/datasets) or [free APIs](https://free-apis.github.io/#/browse) for datasets of this size. Alternatively, you can scrape the web to make your own dataset! :D\n",
    "\n",
    "Once you have chosen your dataset, please read your data into a dataframe and call `.info()` below. If you don't call `info` I will give you 0 points for the first criteria described on the [rubric](https://docs.google.com/document/d/1s3wllcF3LLnytxwD8mZ-BCypXKnfaahnizWGNojT-B4/edit?usp=sharing)."
   ]
  },
  {
   "cell_type": "code",
   "execution_count": 1,
   "id": "fcabc226",
   "metadata": {},
   "outputs": [],
   "source": [
    "import pandas as pd\n",
    "import numpy as np\n",
    "import seaborn as sns\n",
    "import matplotlib.pyplot as plt"
   ]
  },
  {
   "cell_type": "code",
   "execution_count": 2,
   "id": "d71eb2fa",
   "metadata": {},
   "outputs": [],
   "source": [
    "df=pd.read_csv('valorant_games.csv')"
   ]
  },
  {
   "cell_type": "markdown",
   "id": "109e5f57",
   "metadata": {},
   "source": [
    "# My Question"
   ]
  },
  {
   "cell_type": "markdown",
   "id": "94af0ecd",
   "metadata": {},
   "source": [
    "### How did this new player, transform from Silver 3, to Ascendent 1 in 1000 games?\n",
    "\n",
    "###### Well first, we have to look at the overall data.\n",
    "###### Then, I found a win loss percentage based of the bargraph, and created a win/loss % for each row.\n",
    "###### Then I wanted to find what agent he's played the most, along with the KDR(Kill/Death Ratio).\n",
    "###### Finally, I wanted a line graph to simulate his rank progression throughout his journey."
   ]
  },
  {
   "cell_type": "markdown",
   "id": "9070cec5",
   "metadata": {},
   "source": [
    "# My Analysis"
   ]
  },
  {
   "cell_type": "code",
   "execution_count": 3,
   "id": "1fbfebe3",
   "metadata": {},
   "outputs": [
    {
     "data": {
      "text/html": [
       "<div>\n",
       "<style scoped>\n",
       "    .dataframe tbody tr th:only-of-type {\n",
       "        vertical-align: middle;\n",
       "    }\n",
       "\n",
       "    .dataframe tbody tr th {\n",
       "        vertical-align: top;\n",
       "    }\n",
       "\n",
       "    .dataframe thead th {\n",
       "        text-align: right;\n",
       "    }\n",
       "</style>\n",
       "<table border=\"1\" class=\"dataframe\">\n",
       "  <thead>\n",
       "    <tr style=\"text-align: right;\">\n",
       "      <th></th>\n",
       "      <th>game_id</th>\n",
       "      <th>episode</th>\n",
       "      <th>act</th>\n",
       "      <th>rank</th>\n",
       "      <th>date</th>\n",
       "      <th>agent</th>\n",
       "      <th>map</th>\n",
       "      <th>outcome</th>\n",
       "      <th>round_wins</th>\n",
       "      <th>round_losses</th>\n",
       "      <th>kills</th>\n",
       "      <th>deaths</th>\n",
       "      <th>assists</th>\n",
       "      <th>kdr</th>\n",
       "      <th>avg_dmg_delta</th>\n",
       "      <th>headshot_pct</th>\n",
       "      <th>avg_dmg</th>\n",
       "      <th>acs</th>\n",
       "      <th>num_frag</th>\n",
       "    </tr>\n",
       "  </thead>\n",
       "  <tbody>\n",
       "    <tr>\n",
       "      <th>0</th>\n",
       "      <td>1</td>\n",
       "      <td>6</td>\n",
       "      <td>2</td>\n",
       "      <td>Placement</td>\n",
       "      <td>4/11/2023</td>\n",
       "      <td>Cypher</td>\n",
       "      <td>Ascent</td>\n",
       "      <td>Loss</td>\n",
       "      <td>5</td>\n",
       "      <td>13</td>\n",
       "      <td>8</td>\n",
       "      <td>15</td>\n",
       "      <td>4</td>\n",
       "      <td>0.5</td>\n",
       "      <td>-61</td>\n",
       "      <td>3</td>\n",
       "      <td>76</td>\n",
       "      <td>125</td>\n",
       "      <td>3</td>\n",
       "    </tr>\n",
       "    <tr>\n",
       "      <th>1</th>\n",
       "      <td>2</td>\n",
       "      <td>6</td>\n",
       "      <td>2</td>\n",
       "      <td>Placement</td>\n",
       "      <td>4/12/2023</td>\n",
       "      <td>Cypher</td>\n",
       "      <td>Icebox</td>\n",
       "      <td>Loss</td>\n",
       "      <td>4</td>\n",
       "      <td>13</td>\n",
       "      <td>3</td>\n",
       "      <td>15</td>\n",
       "      <td>2</td>\n",
       "      <td>0.2</td>\n",
       "      <td>-124</td>\n",
       "      <td>22</td>\n",
       "      <td>42</td>\n",
       "      <td>59</td>\n",
       "      <td>5</td>\n",
       "    </tr>\n",
       "    <tr>\n",
       "      <th>2</th>\n",
       "      <td>3</td>\n",
       "      <td>6</td>\n",
       "      <td>2</td>\n",
       "      <td>Placement</td>\n",
       "      <td>4/15/2023</td>\n",
       "      <td>KAY/O</td>\n",
       "      <td>Lotus</td>\n",
       "      <td>Win</td>\n",
       "      <td>13</td>\n",
       "      <td>4</td>\n",
       "      <td>7</td>\n",
       "      <td>12</td>\n",
       "      <td>7</td>\n",
       "      <td>0.6</td>\n",
       "      <td>-46</td>\n",
       "      <td>2</td>\n",
       "      <td>87</td>\n",
       "      <td>132</td>\n",
       "      <td>5</td>\n",
       "    </tr>\n",
       "    <tr>\n",
       "      <th>3</th>\n",
       "      <td>4</td>\n",
       "      <td>6</td>\n",
       "      <td>2</td>\n",
       "      <td>Placement</td>\n",
       "      <td>4/15/2023</td>\n",
       "      <td>Brimstone</td>\n",
       "      <td>Ascent</td>\n",
       "      <td>Loss</td>\n",
       "      <td>9</td>\n",
       "      <td>13</td>\n",
       "      <td>18</td>\n",
       "      <td>12</td>\n",
       "      <td>10</td>\n",
       "      <td>1.5</td>\n",
       "      <td>23</td>\n",
       "      <td>14</td>\n",
       "      <td>137</td>\n",
       "      <td>230</td>\n",
       "      <td>2</td>\n",
       "    </tr>\n",
       "    <tr>\n",
       "      <th>4</th>\n",
       "      <td>5</td>\n",
       "      <td>6</td>\n",
       "      <td>2</td>\n",
       "      <td>Placement</td>\n",
       "      <td>4/15/2023</td>\n",
       "      <td>Cypher</td>\n",
       "      <td>Haven</td>\n",
       "      <td>Loss</td>\n",
       "      <td>1</td>\n",
       "      <td>13</td>\n",
       "      <td>6</td>\n",
       "      <td>14</td>\n",
       "      <td>3</td>\n",
       "      <td>0.4</td>\n",
       "      <td>-75</td>\n",
       "      <td>7</td>\n",
       "      <td>90</td>\n",
       "      <td>146</td>\n",
       "      <td>4</td>\n",
       "    </tr>\n",
       "  </tbody>\n",
       "</table>\n",
       "</div>"
      ],
      "text/plain": [
       "   game_id  episode  act       rank       date      agent     map outcome  \\\n",
       "0        1        6    2  Placement  4/11/2023     Cypher  Ascent    Loss   \n",
       "1        2        6    2  Placement  4/12/2023     Cypher  Icebox    Loss   \n",
       "2        3        6    2  Placement  4/15/2023      KAY/O   Lotus     Win   \n",
       "3        4        6    2  Placement  4/15/2023  Brimstone  Ascent    Loss   \n",
       "4        5        6    2  Placement  4/15/2023     Cypher   Haven    Loss   \n",
       "\n",
       "   round_wins  round_losses  kills  deaths  assists  kdr  avg_dmg_delta  \\\n",
       "0           5            13      8      15        4  0.5            -61   \n",
       "1           4            13      3      15        2  0.2           -124   \n",
       "2          13             4      7      12        7  0.6            -46   \n",
       "3           9            13     18      12       10  1.5             23   \n",
       "4           1            13      6      14        3  0.4            -75   \n",
       "\n",
       "   headshot_pct  avg_dmg  acs  num_frag  \n",
       "0             3       76  125         3  \n",
       "1            22       42   59         5  \n",
       "2             2       87  132         5  \n",
       "3            14      137  230         2  \n",
       "4             7       90  146         4  "
      ]
     },
     "execution_count": 3,
     "metadata": {},
     "output_type": "execute_result"
    }
   ],
   "source": [
    "df.head()"
   ]
  },
  {
   "cell_type": "code",
   "execution_count": 4,
   "id": "eed5853a",
   "metadata": {},
   "outputs": [
    {
     "data": {
      "text/html": [
       "<div>\n",
       "<style scoped>\n",
       "    .dataframe tbody tr th:only-of-type {\n",
       "        vertical-align: middle;\n",
       "    }\n",
       "\n",
       "    .dataframe tbody tr th {\n",
       "        vertical-align: top;\n",
       "    }\n",
       "\n",
       "    .dataframe thead th {\n",
       "        text-align: right;\n",
       "    }\n",
       "</style>\n",
       "<table border=\"1\" class=\"dataframe\">\n",
       "  <thead>\n",
       "    <tr style=\"text-align: right;\">\n",
       "      <th></th>\n",
       "      <th>game_id</th>\n",
       "      <th>episode</th>\n",
       "      <th>act</th>\n",
       "      <th>round_wins</th>\n",
       "      <th>round_losses</th>\n",
       "      <th>kills</th>\n",
       "      <th>deaths</th>\n",
       "      <th>assists</th>\n",
       "      <th>kdr</th>\n",
       "      <th>avg_dmg_delta</th>\n",
       "      <th>headshot_pct</th>\n",
       "      <th>avg_dmg</th>\n",
       "      <th>acs</th>\n",
       "      <th>num_frag</th>\n",
       "    </tr>\n",
       "  </thead>\n",
       "  <tbody>\n",
       "    <tr>\n",
       "      <th>count</th>\n",
       "      <td>1000.000000</td>\n",
       "      <td>1000.000000</td>\n",
       "      <td>1000.000000</td>\n",
       "      <td>1000.000000</td>\n",
       "      <td>1000.00000</td>\n",
       "      <td>1000.000000</td>\n",
       "      <td>1000.000000</td>\n",
       "      <td>1000.000000</td>\n",
       "      <td>1000.000000</td>\n",
       "      <td>1000.000000</td>\n",
       "      <td>1000.000000</td>\n",
       "      <td>1000.000000</td>\n",
       "      <td>1000.000000</td>\n",
       "      <td>1000.000000</td>\n",
       "    </tr>\n",
       "    <tr>\n",
       "      <th>mean</th>\n",
       "      <td>500.500000</td>\n",
       "      <td>7.500000</td>\n",
       "      <td>2.066000</td>\n",
       "      <td>10.589000</td>\n",
       "      <td>10.52700</td>\n",
       "      <td>15.299000</td>\n",
       "      <td>14.249000</td>\n",
       "      <td>4.656000</td>\n",
       "      <td>1.178400</td>\n",
       "      <td>10.308000</td>\n",
       "      <td>22.763000</td>\n",
       "      <td>134.446000</td>\n",
       "      <td>205.382000</td>\n",
       "      <td>2.990000</td>\n",
       "    </tr>\n",
       "    <tr>\n",
       "      <th>std</th>\n",
       "      <td>288.819436</td>\n",
       "      <td>1.102368</td>\n",
       "      <td>0.868561</td>\n",
       "      <td>3.359966</td>\n",
       "      <td>3.55273</td>\n",
       "      <td>5.253113</td>\n",
       "      <td>3.724362</td>\n",
       "      <td>2.656072</td>\n",
       "      <td>0.656784</td>\n",
       "      <td>43.383791</td>\n",
       "      <td>9.919033</td>\n",
       "      <td>35.199916</td>\n",
       "      <td>56.539958</td>\n",
       "      <td>1.368127</td>\n",
       "    </tr>\n",
       "    <tr>\n",
       "      <th>min</th>\n",
       "      <td>1.000000</td>\n",
       "      <td>6.000000</td>\n",
       "      <td>1.000000</td>\n",
       "      <td>0.000000</td>\n",
       "      <td>0.00000</td>\n",
       "      <td>1.000000</td>\n",
       "      <td>0.000000</td>\n",
       "      <td>0.000000</td>\n",
       "      <td>0.200000</td>\n",
       "      <td>-124.000000</td>\n",
       "      <td>2.000000</td>\n",
       "      <td>42.000000</td>\n",
       "      <td>59.000000</td>\n",
       "      <td>1.000000</td>\n",
       "    </tr>\n",
       "    <tr>\n",
       "      <th>25%</th>\n",
       "      <td>250.750000</td>\n",
       "      <td>7.000000</td>\n",
       "      <td>1.000000</td>\n",
       "      <td>8.000000</td>\n",
       "      <td>8.00000</td>\n",
       "      <td>12.000000</td>\n",
       "      <td>13.000000</td>\n",
       "      <td>3.000000</td>\n",
       "      <td>0.800000</td>\n",
       "      <td>-20.000000</td>\n",
       "      <td>15.000000</td>\n",
       "      <td>110.000000</td>\n",
       "      <td>166.000000</td>\n",
       "      <td>2.000000</td>\n",
       "    </tr>\n",
       "    <tr>\n",
       "      <th>50%</th>\n",
       "      <td>500.500000</td>\n",
       "      <td>7.000000</td>\n",
       "      <td>2.000000</td>\n",
       "      <td>13.000000</td>\n",
       "      <td>13.00000</td>\n",
       "      <td>15.000000</td>\n",
       "      <td>15.000000</td>\n",
       "      <td>4.000000</td>\n",
       "      <td>1.100000</td>\n",
       "      <td>9.000000</td>\n",
       "      <td>22.000000</td>\n",
       "      <td>133.000000</td>\n",
       "      <td>203.000000</td>\n",
       "      <td>3.000000</td>\n",
       "    </tr>\n",
       "    <tr>\n",
       "      <th>75%</th>\n",
       "      <td>750.250000</td>\n",
       "      <td>9.000000</td>\n",
       "      <td>3.000000</td>\n",
       "      <td>13.000000</td>\n",
       "      <td>13.00000</td>\n",
       "      <td>19.000000</td>\n",
       "      <td>17.000000</td>\n",
       "      <td>6.000000</td>\n",
       "      <td>1.400000</td>\n",
       "      <td>39.000000</td>\n",
       "      <td>29.000000</td>\n",
       "      <td>157.000000</td>\n",
       "      <td>240.000000</td>\n",
       "      <td>4.000000</td>\n",
       "    </tr>\n",
       "    <tr>\n",
       "      <th>max</th>\n",
       "      <td>1000.000000</td>\n",
       "      <td>9.000000</td>\n",
       "      <td>3.000000</td>\n",
       "      <td>18.000000</td>\n",
       "      <td>20.00000</td>\n",
       "      <td>35.000000</td>\n",
       "      <td>26.000000</td>\n",
       "      <td>20.000000</td>\n",
       "      <td>9.700000</td>\n",
       "      <td>293.000000</td>\n",
       "      <td>63.000000</td>\n",
       "      <td>373.000000</td>\n",
       "      <td>572.000000</td>\n",
       "      <td>5.000000</td>\n",
       "    </tr>\n",
       "  </tbody>\n",
       "</table>\n",
       "</div>"
      ],
      "text/plain": [
       "           game_id      episode          act   round_wins  round_losses  \\\n",
       "count  1000.000000  1000.000000  1000.000000  1000.000000    1000.00000   \n",
       "mean    500.500000     7.500000     2.066000    10.589000      10.52700   \n",
       "std     288.819436     1.102368     0.868561     3.359966       3.55273   \n",
       "min       1.000000     6.000000     1.000000     0.000000       0.00000   \n",
       "25%     250.750000     7.000000     1.000000     8.000000       8.00000   \n",
       "50%     500.500000     7.000000     2.000000    13.000000      13.00000   \n",
       "75%     750.250000     9.000000     3.000000    13.000000      13.00000   \n",
       "max    1000.000000     9.000000     3.000000    18.000000      20.00000   \n",
       "\n",
       "             kills       deaths      assists          kdr  avg_dmg_delta  \\\n",
       "count  1000.000000  1000.000000  1000.000000  1000.000000    1000.000000   \n",
       "mean     15.299000    14.249000     4.656000     1.178400      10.308000   \n",
       "std       5.253113     3.724362     2.656072     0.656784      43.383791   \n",
       "min       1.000000     0.000000     0.000000     0.200000    -124.000000   \n",
       "25%      12.000000    13.000000     3.000000     0.800000     -20.000000   \n",
       "50%      15.000000    15.000000     4.000000     1.100000       9.000000   \n",
       "75%      19.000000    17.000000     6.000000     1.400000      39.000000   \n",
       "max      35.000000    26.000000    20.000000     9.700000     293.000000   \n",
       "\n",
       "       headshot_pct      avg_dmg          acs     num_frag  \n",
       "count   1000.000000  1000.000000  1000.000000  1000.000000  \n",
       "mean      22.763000   134.446000   205.382000     2.990000  \n",
       "std        9.919033    35.199916    56.539958     1.368127  \n",
       "min        2.000000    42.000000    59.000000     1.000000  \n",
       "25%       15.000000   110.000000   166.000000     2.000000  \n",
       "50%       22.000000   133.000000   203.000000     3.000000  \n",
       "75%       29.000000   157.000000   240.000000     4.000000  \n",
       "max       63.000000   373.000000   572.000000     5.000000  "
      ]
     },
     "execution_count": 4,
     "metadata": {},
     "output_type": "execute_result"
    }
   ],
   "source": [
    "df.describe()"
   ]
  },
  {
   "cell_type": "code",
   "execution_count": 5,
   "id": "2405a56a",
   "metadata": {},
   "outputs": [
    {
     "name": "stdout",
     "output_type": "stream",
     "text": [
      "<class 'pandas.core.frame.DataFrame'>\n",
      "RangeIndex: 1000 entries, 0 to 999\n",
      "Data columns (total 19 columns):\n",
      " #   Column         Non-Null Count  Dtype  \n",
      "---  ------         --------------  -----  \n",
      " 0   game_id        1000 non-null   int64  \n",
      " 1   episode        1000 non-null   int64  \n",
      " 2   act            1000 non-null   int64  \n",
      " 3   rank           1000 non-null   object \n",
      " 4   date           1000 non-null   object \n",
      " 5   agent          1000 non-null   object \n",
      " 6   map            1000 non-null   object \n",
      " 7   outcome        1000 non-null   object \n",
      " 8   round_wins     1000 non-null   int64  \n",
      " 9   round_losses   1000 non-null   int64  \n",
      " 10  kills          1000 non-null   int64  \n",
      " 11  deaths         1000 non-null   int64  \n",
      " 12  assists        1000 non-null   int64  \n",
      " 13  kdr            1000 non-null   float64\n",
      " 14  avg_dmg_delta  1000 non-null   int64  \n",
      " 15  headshot_pct   1000 non-null   int64  \n",
      " 16  avg_dmg        1000 non-null   int64  \n",
      " 17  acs            1000 non-null   int64  \n",
      " 18  num_frag       1000 non-null   int64  \n",
      "dtypes: float64(1), int64(13), object(5)\n",
      "memory usage: 148.6+ KB\n"
     ]
    }
   ],
   "source": [
    "df.info()"
   ]
  },
  {
   "cell_type": "code",
   "execution_count": 6,
   "id": "ef102134",
   "metadata": {},
   "outputs": [
    {
     "data": {
      "text/plain": [
       "Index(['game_id', 'episode', 'act', 'rank', 'date', 'agent', 'map', 'outcome',\n",
       "       'round_wins', 'round_losses', 'kills', 'deaths', 'assists', 'kdr',\n",
       "       'avg_dmg_delta', 'headshot_pct', 'avg_dmg', 'acs', 'num_frag'],\n",
       "      dtype='object')"
      ]
     },
     "execution_count": 6,
     "metadata": {},
     "output_type": "execute_result"
    }
   ],
   "source": [
    "df.columns"
   ]
  },
  {
   "cell_type": "code",
   "execution_count": 7,
   "id": "a9b73b14",
   "metadata": {},
   "outputs": [
    {
     "data": {
      "text/plain": [
       "0       5\n",
       "1       4\n",
       "2      13\n",
       "3       9\n",
       "4       1\n",
       "       ..\n",
       "995    13\n",
       "996    11\n",
       "997     6\n",
       "998    13\n",
       "999     7\n",
       "Name: round_wins, Length: 1000, dtype: int64"
      ]
     },
     "execution_count": 7,
     "metadata": {},
     "output_type": "execute_result"
    }
   ],
   "source": [
    "df['round_wins']"
   ]
  },
  {
   "cell_type": "code",
   "execution_count": 8,
   "id": "02680a8f",
   "metadata": {},
   "outputs": [
    {
     "data": {
      "text/plain": [
       "0      13\n",
       "1      13\n",
       "2       4\n",
       "3      13\n",
       "4      13\n",
       "       ..\n",
       "995     9\n",
       "996    13\n",
       "997    13\n",
       "998    10\n",
       "999    13\n",
       "Name: round_losses, Length: 1000, dtype: int64"
      ]
     },
     "execution_count": 8,
     "metadata": {},
     "output_type": "execute_result"
    }
   ],
   "source": [
    "df['round_losses']"
   ]
  },
  {
   "cell_type": "code",
   "execution_count": 9,
   "id": "38a0bd35",
   "metadata": {},
   "outputs": [
    {
     "data": {
      "text/plain": [
       "0      0.18\n",
       "1      0.17\n",
       "2      0.17\n",
       "3      0.22\n",
       "4      0.14\n",
       "       ... \n",
       "995    0.22\n",
       "996    0.24\n",
       "997    0.19\n",
       "998    0.23\n",
       "999    0.20\n",
       "Length: 1000, dtype: float64"
      ]
     },
     "execution_count": 9,
     "metadata": {},
     "output_type": "execute_result"
    }
   ],
   "source": [
    "(df['round_wins'] + df['round_losses']) / 100"
   ]
  },
  {
   "cell_type": "code",
   "execution_count": 10,
   "id": "ab9745b5",
   "metadata": {
    "scrolled": true
   },
   "outputs": [
    {
     "data": {
      "image/png": "[encoded data removed]",
      "text/plain": [
       "<Figure size 800x300 with 1 Axes>"
      ]
     },
     "metadata": {},
     "output_type": "display_data"
    }
   ],
   "source": [
    "#Win/Loss Rate\n",
    "plt.figure(figsize=(8,3))\n",
    "sns.countplot(data=df,x='outcome',hue='outcome',palette='rocket')\n",
    "plt.xlabel('Outcomes')\n",
    "plt.ylabel('Count')\n",
    "plt.title('Outcome Analysis')\n",
    "plt.show()"
   ]
  },
  {
   "cell_type": "code",
   "execution_count": 11,
   "id": "aee609f4",
   "metadata": {},
   "outputs": [],
   "source": [
    "df['win_percentage'] = (df['round_wins'] / (df['round_wins'] + df['round_losses'])) * 10"
   ]
  },
  {
   "cell_type": "code",
   "execution_count": 12,
   "id": "6df50ebc",
   "metadata": {},
   "outputs": [
    {
     "data": {
      "text/plain": [
       "0      2.777778\n",
       "1      2.352941\n",
       "2      7.647059\n",
       "3      4.090909\n",
       "4      0.714286\n",
       "         ...   \n",
       "995    5.909091\n",
       "996    4.583333\n",
       "997    3.157895\n",
       "998    5.652174\n",
       "999    3.500000\n",
       "Name: win_percentage, Length: 1000, dtype: float64"
      ]
     },
     "execution_count": 12,
     "metadata": {},
     "output_type": "execute_result"
    }
   ],
   "source": [
    "df['win_percentage']"
   ]
  },
  {
   "cell_type": "code",
   "execution_count": 13,
   "id": "5239827b",
   "metadata": {
    "scrolled": false
   },
   "outputs": [
    {
     "data": {
      "image/png": "[encoded data removed]",
      "text/plain": [
       "<Figure size 800x400 with 1 Axes>"
      ]
     },
     "metadata": {},
     "output_type": "display_data"
    }
   ],
   "source": [
    "plt.figure(figsize=(8,4))\n",
    "sns.countplot(data=df,x='agent',hue='agent',order=df['agent'].value_counts().index,palette='deep')\n",
    "plt.xlabel('Agent Frequency')\n",
    "plt.ylabel('Count')\n",
    "plt.title('Agent Frequency')\n",
    "plt.show()"
   ]
  },
  {
   "cell_type": "code",
   "execution_count": 14,
   "id": "8980a943",
   "metadata": {},
   "outputs": [
    {
     "data": {
      "image/png": "[encoded data removed]",
      "text/plain": [
       "<Figure size 800x400 with 1 Axes>"
      ]
     },
     "metadata": {},
     "output_type": "display_data"
    }
   ],
   "source": [
    "plt.figure(figsize=(8,4))\n",
    "sns.countplot(data=df,y='map',hue='map',order=df['map'].value_counts().index,palette='deep')\n",
    "plt.xlabel('Map Frequency')\n",
    "plt.ylabel('Count')\n",
    "plt.title('Map Frequency')\n",
    "plt.show()"
   ]
  },
  {
   "cell_type": "code",
   "execution_count": 15,
   "id": "03467ca3",
   "metadata": {},
   "outputs": [
    {
     "data": {
      "image/png": "[encoded data removed]",
      "text/plain": [
       "<Figure size 800x400 with 1 Axes>"
      ]
     },
     "metadata": {},
     "output_type": "display_data"
    }
   ],
   "source": [
    "plt.figure(figsize=(8,4))\n",
    "sns.countplot(data=df,x='agent',hue='outcome',order=df['agent'].value_counts().index,palette='rocket')\n",
    "plt.xlabel('Outcomes')\n",
    "plt.ylabel('Count')\n",
    "plt.title('Outcome Analysis - Agentwise')\n",
    "plt.show()"
   ]
  },
  {
   "cell_type": "code",
   "execution_count": 16,
   "id": "6d0d48a4",
   "metadata": {},
   "outputs": [
    {
     "data": {
      "image/png": "[encoded data removed]",
      "text/plain": [
       "<Figure size 800x400 with 1 Axes>"
      ]
     },
     "metadata": {},
     "output_type": "display_data"
    }
   ],
   "source": [
    "plt.figure(figsize=(8,4))\n",
    "sns.countplot(data=df,x='map',hue='outcome',order=df['map'].value_counts().index,palette='rocket')\n",
    "plt.xlabel('Outcomes')\n",
    "plt.ylabel('Count')\n",
    "plt.title('Outcome Analysis - Map')\n",
    "plt.show()"
   ]
  },
  {
   "cell_type": "code",
   "execution_count": 17,
   "id": "ecf9307a",
   "metadata": {
    "scrolled": true
   },
   "outputs": [],
   "source": [
    "data1 = df.groupby(['agent'])[['kills','deaths','assists']].sum()\n",
    "data1 = data1.reset_index()\n",
    "data1 = data1.sort_values(by='kills', ascending=False)"
   ]
  },
  {
   "cell_type": "code",
   "execution_count": 18,
   "id": "2ea7b464",
   "metadata": {},
   "outputs": [],
   "source": [
    "data1['KDA'] = (data1['kills'] + data1['assists']) / data1['deaths']"
   ]
  },
  {
   "cell_type": "code",
   "execution_count": 19,
   "id": "44c44399",
   "metadata": {},
   "outputs": [
    {
     "data": {
      "text/html": [
       "<div>\n",
       "<style scoped>\n",
       "    .dataframe tbody tr th:only-of-type {\n",
       "        vertical-align: middle;\n",
       "    }\n",
       "\n",
       "    .dataframe tbody tr th {\n",
       "        vertical-align: top;\n",
       "    }\n",
       "\n",
       "    .dataframe thead th {\n",
       "        text-align: right;\n",
       "    }\n",
       "</style>\n",
       "<table border=\"1\" class=\"dataframe\">\n",
       "  <thead>\n",
       "    <tr style=\"text-align: right;\">\n",
       "      <th></th>\n",
       "      <th>agent</th>\n",
       "      <th>kills</th>\n",
       "      <th>deaths</th>\n",
       "      <th>assists</th>\n",
       "      <th>KDA</th>\n",
       "    </tr>\n",
       "  </thead>\n",
       "  <tbody>\n",
       "    <tr>\n",
       "      <th>3</th>\n",
       "      <td>Cypher</td>\n",
       "      <td>11184</td>\n",
       "      <td>10194</td>\n",
       "      <td>3480</td>\n",
       "      <td>1.438493</td>\n",
       "    </tr>\n",
       "    <tr>\n",
       "      <th>6</th>\n",
       "      <td>Killjoy</td>\n",
       "      <td>3411</td>\n",
       "      <td>3275</td>\n",
       "      <td>796</td>\n",
       "      <td>1.284580</td>\n",
       "    </tr>\n",
       "    <tr>\n",
       "      <th>9</th>\n",
       "      <td>Viper</td>\n",
       "      <td>241</td>\n",
       "      <td>264</td>\n",
       "      <td>90</td>\n",
       "      <td>1.253788</td>\n",
       "    </tr>\n",
       "    <tr>\n",
       "      <th>7</th>\n",
       "      <td>Omen</td>\n",
       "      <td>140</td>\n",
       "      <td>153</td>\n",
       "      <td>98</td>\n",
       "      <td>1.555556</td>\n",
       "    </tr>\n",
       "    <tr>\n",
       "      <th>5</th>\n",
       "      <td>KAY/O</td>\n",
       "      <td>119</td>\n",
       "      <td>146</td>\n",
       "      <td>78</td>\n",
       "      <td>1.349315</td>\n",
       "    </tr>\n",
       "    <tr>\n",
       "      <th>2</th>\n",
       "      <td>Brimstone</td>\n",
       "      <td>80</td>\n",
       "      <td>74</td>\n",
       "      <td>48</td>\n",
       "      <td>1.729730</td>\n",
       "    </tr>\n",
       "    <tr>\n",
       "      <th>10</th>\n",
       "      <td>Vyse</td>\n",
       "      <td>41</td>\n",
       "      <td>45</td>\n",
       "      <td>15</td>\n",
       "      <td>1.244444</td>\n",
       "    </tr>\n",
       "    <tr>\n",
       "      <th>0</th>\n",
       "      <td>Astra</td>\n",
       "      <td>29</td>\n",
       "      <td>29</td>\n",
       "      <td>13</td>\n",
       "      <td>1.448276</td>\n",
       "    </tr>\n",
       "    <tr>\n",
       "      <th>1</th>\n",
       "      <td>Breach</td>\n",
       "      <td>26</td>\n",
       "      <td>48</td>\n",
       "      <td>26</td>\n",
       "      <td>1.083333</td>\n",
       "    </tr>\n",
       "    <tr>\n",
       "      <th>8</th>\n",
       "      <td>Phoenix</td>\n",
       "      <td>16</td>\n",
       "      <td>7</td>\n",
       "      <td>6</td>\n",
       "      <td>3.142857</td>\n",
       "    </tr>\n",
       "    <tr>\n",
       "      <th>4</th>\n",
       "      <td>Fade</td>\n",
       "      <td>12</td>\n",
       "      <td>14</td>\n",
       "      <td>6</td>\n",
       "      <td>1.285714</td>\n",
       "    </tr>\n",
       "  </tbody>\n",
       "</table>\n",
       "</div>"
      ],
      "text/plain": [
       "        agent  kills  deaths  assists       KDA\n",
       "3      Cypher  11184   10194     3480  1.438493\n",
       "6     Killjoy   3411    3275      796  1.284580\n",
       "9       Viper    241     264       90  1.253788\n",
       "7        Omen    140     153       98  1.555556\n",
       "5       KAY/O    119     146       78  1.349315\n",
       "2   Brimstone     80      74       48  1.729730\n",
       "10       Vyse     41      45       15  1.244444\n",
       "0       Astra     29      29       13  1.448276\n",
       "1      Breach     26      48       26  1.083333\n",
       "8     Phoenix     16       7        6  3.142857\n",
       "4        Fade     12      14        6  1.285714"
      ]
     },
     "execution_count": 19,
     "metadata": {},
     "output_type": "execute_result"
    }
   ],
   "source": [
    "data1"
   ]
  },
  {
   "cell_type": "code",
   "execution_count": 20,
   "id": "8f83df7b",
   "metadata": {},
   "outputs": [],
   "source": [
    "data2 = df.groupby(['map'])[['kills','deaths','assists']].sum()\n",
    "data2 = data2.reset_index()\n",
    "data2 = data2.sort_values(by='kills', ascending=False)"
   ]
  },
  {
   "cell_type": "code",
   "execution_count": 21,
   "id": "95d78eb1",
   "metadata": {},
   "outputs": [],
   "source": [
    "data2['KDA'] = (data2['kills'] + data2['assists']) / data2['deaths']"
   ]
  },
  {
   "cell_type": "code",
   "execution_count": 22,
   "id": "3f0b56af",
   "metadata": {},
   "outputs": [
    {
     "data": {
      "text/html": [
       "<div>\n",
       "<style scoped>\n",
       "    .dataframe tbody tr th:only-of-type {\n",
       "        vertical-align: middle;\n",
       "    }\n",
       "\n",
       "    .dataframe tbody tr th {\n",
       "        vertical-align: top;\n",
       "    }\n",
       "\n",
       "    .dataframe thead th {\n",
       "        text-align: right;\n",
       "    }\n",
       "</style>\n",
       "<table border=\"1\" class=\"dataframe\">\n",
       "  <thead>\n",
       "    <tr style=\"text-align: right;\">\n",
       "      <th></th>\n",
       "      <th>map</th>\n",
       "      <th>kills</th>\n",
       "      <th>deaths</th>\n",
       "      <th>assists</th>\n",
       "      <th>KDA</th>\n",
       "    </tr>\n",
       "  </thead>\n",
       "  <tbody>\n",
       "    <tr>\n",
       "      <th>1</th>\n",
       "      <td>Ascent</td>\n",
       "      <td>2322</td>\n",
       "      <td>2278</td>\n",
       "      <td>806</td>\n",
       "      <td>1.373134</td>\n",
       "    </tr>\n",
       "    <tr>\n",
       "      <th>7</th>\n",
       "      <td>Lotus</td>\n",
       "      <td>2234</td>\n",
       "      <td>1993</td>\n",
       "      <td>662</td>\n",
       "      <td>1.453086</td>\n",
       "    </tr>\n",
       "    <tr>\n",
       "      <th>2</th>\n",
       "      <td>Bind</td>\n",
       "      <td>2218</td>\n",
       "      <td>2055</td>\n",
       "      <td>695</td>\n",
       "      <td>1.417518</td>\n",
       "    </tr>\n",
       "    <tr>\n",
       "      <th>5</th>\n",
       "      <td>Haven</td>\n",
       "      <td>1780</td>\n",
       "      <td>1692</td>\n",
       "      <td>471</td>\n",
       "      <td>1.330378</td>\n",
       "    </tr>\n",
       "    <tr>\n",
       "      <th>9</th>\n",
       "      <td>Split</td>\n",
       "      <td>1545</td>\n",
       "      <td>1450</td>\n",
       "      <td>477</td>\n",
       "      <td>1.394483</td>\n",
       "    </tr>\n",
       "    <tr>\n",
       "      <th>10</th>\n",
       "      <td>Sunset</td>\n",
       "      <td>1332</td>\n",
       "      <td>1228</td>\n",
       "      <td>425</td>\n",
       "      <td>1.430782</td>\n",
       "    </tr>\n",
       "    <tr>\n",
       "      <th>8</th>\n",
       "      <td>Pearl</td>\n",
       "      <td>924</td>\n",
       "      <td>880</td>\n",
       "      <td>291</td>\n",
       "      <td>1.380682</td>\n",
       "    </tr>\n",
       "    <tr>\n",
       "      <th>6</th>\n",
       "      <td>Icebox</td>\n",
       "      <td>897</td>\n",
       "      <td>894</td>\n",
       "      <td>222</td>\n",
       "      <td>1.251678</td>\n",
       "    </tr>\n",
       "    <tr>\n",
       "      <th>4</th>\n",
       "      <td>Fracture</td>\n",
       "      <td>790</td>\n",
       "      <td>763</td>\n",
       "      <td>297</td>\n",
       "      <td>1.424640</td>\n",
       "    </tr>\n",
       "    <tr>\n",
       "      <th>3</th>\n",
       "      <td>Breeze</td>\n",
       "      <td>748</td>\n",
       "      <td>594</td>\n",
       "      <td>168</td>\n",
       "      <td>1.542088</td>\n",
       "    </tr>\n",
       "    <tr>\n",
       "      <th>0</th>\n",
       "      <td>Abyss</td>\n",
       "      <td>509</td>\n",
       "      <td>422</td>\n",
       "      <td>142</td>\n",
       "      <td>1.542654</td>\n",
       "    </tr>\n",
       "  </tbody>\n",
       "</table>\n",
       "</div>"
      ],
      "text/plain": [
       "         map  kills  deaths  assists       KDA\n",
       "1     Ascent   2322    2278      806  1.373134\n",
       "7      Lotus   2234    1993      662  1.453086\n",
       "2       Bind   2218    2055      695  1.417518\n",
       "5      Haven   1780    1692      471  1.330378\n",
       "9      Split   1545    1450      477  1.394483\n",
       "10    Sunset   1332    1228      425  1.430782\n",
       "8      Pearl    924     880      291  1.380682\n",
       "6     Icebox    897     894      222  1.251678\n",
       "4   Fracture    790     763      297  1.424640\n",
       "3     Breeze    748     594      168  1.542088\n",
       "0      Abyss    509     422      142  1.542654"
      ]
     },
     "execution_count": 22,
     "metadata": {},
     "output_type": "execute_result"
    }
   ],
   "source": [
    "data2"
   ]
  },
  {
   "cell_type": "code",
   "execution_count": 23,
   "id": "0b54c6ac",
   "metadata": {},
   "outputs": [
    {
     "data": {
      "text/plain": [
       "array(['Placement', 'Silver 2', 'Silver 3', 'Gold 1', 'Gold 2', 'Gold 3',\n",
       "       'Platinum 1', 'Platinum 2', 'Platinum 3', 'Diamond 1', 'Diamond 2',\n",
       "       'Diamond 3', 'Ascendant 1', 'Ascendant 2'], dtype=object)"
      ]
     },
     "execution_count": 23,
     "metadata": {},
     "output_type": "execute_result"
    }
   ],
   "source": [
    "df['rank'].unique()"
   ]
  },
  {
   "cell_type": "code",
   "execution_count": 24,
   "id": "ff0b34b4",
   "metadata": {},
   "outputs": [
    {
     "data": {
      "text/plain": [
       "Ascendant 1    179\n",
       "Diamond 3      153\n",
       "Diamond 1      126\n",
       "Platinum 3     111\n",
       "Gold 3          93\n",
       "Diamond 2       78\n",
       "Platinum 1      66\n",
       "Ascendant 2     57\n",
       "Platinum 2      48\n",
       "Placement       24\n",
       "Gold 2          24\n",
       "Silver 2        17\n",
       "Gold 1          17\n",
       "Silver 3         7\n",
       "Name: rank, dtype: int64"
      ]
     },
     "execution_count": 24,
     "metadata": {},
     "output_type": "execute_result"
    }
   ],
   "source": [
    "df['rank'].value_counts()"
   ]
  },
  {
   "cell_type": "code",
   "execution_count": 25,
   "id": "cc431587",
   "metadata": {},
   "outputs": [],
   "source": [
    "data3 =df.groupby(['rank'])[['kills','deaths','assists']].sum()\n",
    "data3 =data3.reset_index()\n",
    "data3 = data3.sort_values(by='kills', ascending=False)"
   ]
  },
  {
   "cell_type": "code",
   "execution_count": 26,
   "id": "6c234c13",
   "metadata": {},
   "outputs": [],
   "source": [
    "data3['KDA'] = (data3['kills'] + data3['assists']) / data3['deaths']"
   ]
  },
  {
   "cell_type": "code",
   "execution_count": 27,
   "id": "3b0018fd",
   "metadata": {},
   "outputs": [
    {
     "data": {
      "text/html": [
       "<div>\n",
       "<style scoped>\n",
       "    .dataframe tbody tr th:only-of-type {\n",
       "        vertical-align: middle;\n",
       "    }\n",
       "\n",
       "    .dataframe tbody tr th {\n",
       "        vertical-align: top;\n",
       "    }\n",
       "\n",
       "    .dataframe thead th {\n",
       "        text-align: right;\n",
       "    }\n",
       "</style>\n",
       "<table border=\"1\" class=\"dataframe\">\n",
       "  <thead>\n",
       "    <tr style=\"text-align: right;\">\n",
       "      <th></th>\n",
       "      <th>rank</th>\n",
       "      <th>kills</th>\n",
       "      <th>deaths</th>\n",
       "      <th>assists</th>\n",
       "      <th>KDA</th>\n",
       "    </tr>\n",
       "  </thead>\n",
       "  <tbody>\n",
       "    <tr>\n",
       "      <th>0</th>\n",
       "      <td>Ascendant 1</td>\n",
       "      <td>2618</td>\n",
       "      <td>2488</td>\n",
       "      <td>770</td>\n",
       "      <td>1.361736</td>\n",
       "    </tr>\n",
       "    <tr>\n",
       "      <th>4</th>\n",
       "      <td>Diamond 3</td>\n",
       "      <td>2302</td>\n",
       "      <td>2161</td>\n",
       "      <td>691</td>\n",
       "      <td>1.385007</td>\n",
       "    </tr>\n",
       "    <tr>\n",
       "      <th>2</th>\n",
       "      <td>Diamond 1</td>\n",
       "      <td>1941</td>\n",
       "      <td>1751</td>\n",
       "      <td>538</td>\n",
       "      <td>1.415762</td>\n",
       "    </tr>\n",
       "    <tr>\n",
       "      <th>11</th>\n",
       "      <td>Platinum 3</td>\n",
       "      <td>1727</td>\n",
       "      <td>1601</td>\n",
       "      <td>497</td>\n",
       "      <td>1.389132</td>\n",
       "    </tr>\n",
       "    <tr>\n",
       "      <th>7</th>\n",
       "      <td>Gold 3</td>\n",
       "      <td>1427</td>\n",
       "      <td>1348</td>\n",
       "      <td>476</td>\n",
       "      <td>1.411721</td>\n",
       "    </tr>\n",
       "    <tr>\n",
       "      <th>3</th>\n",
       "      <td>Diamond 2</td>\n",
       "      <td>1278</td>\n",
       "      <td>1111</td>\n",
       "      <td>375</td>\n",
       "      <td>1.487849</td>\n",
       "    </tr>\n",
       "    <tr>\n",
       "      <th>9</th>\n",
       "      <td>Platinum 1</td>\n",
       "      <td>1036</td>\n",
       "      <td>929</td>\n",
       "      <td>305</td>\n",
       "      <td>1.443488</td>\n",
       "    </tr>\n",
       "    <tr>\n",
       "      <th>1</th>\n",
       "      <td>Ascendant 2</td>\n",
       "      <td>847</td>\n",
       "      <td>821</td>\n",
       "      <td>246</td>\n",
       "      <td>1.331303</td>\n",
       "    </tr>\n",
       "    <tr>\n",
       "      <th>10</th>\n",
       "      <td>Platinum 2</td>\n",
       "      <td>819</td>\n",
       "      <td>692</td>\n",
       "      <td>275</td>\n",
       "      <td>1.580925</td>\n",
       "    </tr>\n",
       "    <tr>\n",
       "      <th>6</th>\n",
       "      <td>Gold 2</td>\n",
       "      <td>381</td>\n",
       "      <td>372</td>\n",
       "      <td>121</td>\n",
       "      <td>1.349462</td>\n",
       "    </tr>\n",
       "    <tr>\n",
       "      <th>8</th>\n",
       "      <td>Placement</td>\n",
       "      <td>365</td>\n",
       "      <td>376</td>\n",
       "      <td>134</td>\n",
       "      <td>1.327128</td>\n",
       "    </tr>\n",
       "    <tr>\n",
       "      <th>5</th>\n",
       "      <td>Gold 1</td>\n",
       "      <td>261</td>\n",
       "      <td>253</td>\n",
       "      <td>82</td>\n",
       "      <td>1.355731</td>\n",
       "    </tr>\n",
       "    <tr>\n",
       "      <th>12</th>\n",
       "      <td>Silver 2</td>\n",
       "      <td>189</td>\n",
       "      <td>247</td>\n",
       "      <td>113</td>\n",
       "      <td>1.222672</td>\n",
       "    </tr>\n",
       "    <tr>\n",
       "      <th>13</th>\n",
       "      <td>Silver 3</td>\n",
       "      <td>108</td>\n",
       "      <td>99</td>\n",
       "      <td>33</td>\n",
       "      <td>1.424242</td>\n",
       "    </tr>\n",
       "  </tbody>\n",
       "</table>\n",
       "</div>"
      ],
      "text/plain": [
       "           rank  kills  deaths  assists       KDA\n",
       "0   Ascendant 1   2618    2488      770  1.361736\n",
       "4     Diamond 3   2302    2161      691  1.385007\n",
       "2     Diamond 1   1941    1751      538  1.415762\n",
       "11   Platinum 3   1727    1601      497  1.389132\n",
       "7        Gold 3   1427    1348      476  1.411721\n",
       "3     Diamond 2   1278    1111      375  1.487849\n",
       "9    Platinum 1   1036     929      305  1.443488\n",
       "1   Ascendant 2    847     821      246  1.331303\n",
       "10   Platinum 2    819     692      275  1.580925\n",
       "6        Gold 2    381     372      121  1.349462\n",
       "8     Placement    365     376      134  1.327128\n",
       "5        Gold 1    261     253       82  1.355731\n",
       "12     Silver 2    189     247      113  1.222672\n",
       "13     Silver 3    108      99       33  1.424242"
      ]
     },
     "execution_count": 27,
     "metadata": {},
     "output_type": "execute_result"
    }
   ],
   "source": [
    "data3"
   ]
  },
  {
   "cell_type": "code",
   "execution_count": 28,
   "id": "14ca7aa8",
   "metadata": {},
   "outputs": [],
   "source": [
    "df['date'] = pd.to_datetime(df['date'])"
   ]
  },
  {
   "cell_type": "code",
   "execution_count": 29,
   "id": "75bdf284",
   "metadata": {},
   "outputs": [
    {
     "data": {
      "image/png": "[encoded data removed]",
      "text/plain": [
       "<Figure size 800x400 with 1 Axes>"
      ]
     },
     "metadata": {},
     "output_type": "display_data"
    }
   ],
   "source": [
    "plt.figure(figsize=(8,4))\n",
    "sns.lineplot(data=df,x='date',y='rank',color='red',linewidth='2')\n",
    "plt.xlabel('Date')\n",
    "plt.ylabel('Rank')\n",
    "plt.title('Rank Progression')\n",
    "plt.xticks(rotation=45, ha='right') # Rotate x-axis labels for readability\n",
    "plt.tight_layout()\n",
    "plt.show()"
   ]
  },
  {
   "cell_type": "markdown",
   "id": "b5a374a3",
   "metadata": {},
   "source": [
    "# My Answer"
   ]
  },
  {
   "cell_type": "markdown",
   "id": "2cadbfec",
   "metadata": {},
   "source": [
    "### Overall, his journey must have been very frustrating and long, considering most of his round wins were in the 17& to 22%. He has had a lot of hardship at around Plat to Ascendent 1. His most played agent was Cypher, and his most played map was Ascent. The map he played the best was Abyss, as it has the highest Kill Death Assist Ratio. His best Agent was Pheonix, considering he hasn't played Pheonix much, but the best performance with the biggest amount of data was"
   ]
  }
 ],
 "metadata": {
  "kernelspec": {
   "display_name": "Python 3 (ipykernel)",
   "language": "python",
   "name": "python3"
  },
  "language_info": {
   "codemirror_mode": {
    "name": "ipython",
    "version": 3
   },
   "file_extension": ".py",
   "mimetype": "text/x-python",
   "name": "python",
   "nbconvert_exporter": "python",
   "pygments_lexer": "ipython3",
   "version": "3.9.13"
  }
 },
 "nbformat": 4,
 "nbformat_minor": 5
}
